{
 "cells": [
  {
   "cell_type": "code",
   "execution_count": 1,
   "id": "1ad387e5",
   "metadata": {},
   "outputs": [
    {
     "name": "stdout",
     "output_type": "stream",
     "text": [
      "Requirement already satisfied: selenium in c:\\users\\kalya\\anaconda3\\lib\\site-packages (4.8.0)\n",
      "Requirement already satisfied: urllib3[socks]~=1.26 in c:\\users\\kalya\\anaconda3\\lib\\site-packages (from selenium) (1.26.11)\n",
      "Requirement already satisfied: trio-websocket~=0.9 in c:\\users\\kalya\\anaconda3\\lib\\site-packages (from selenium) (0.9.2)\n",
      "Requirement already satisfied: certifi>=2021.10.8 in c:\\users\\kalya\\anaconda3\\lib\\site-packages (from selenium) (2022.9.14)\n",
      "Requirement already satisfied: trio~=0.17 in c:\\users\\kalya\\anaconda3\\lib\\site-packages (from selenium) (0.22.0)\n",
      "Requirement already satisfied: exceptiongroup>=1.0.0rc9 in c:\\users\\kalya\\anaconda3\\lib\\site-packages (from trio~=0.17->selenium) (1.1.0)\n",
      "Requirement already satisfied: async-generator>=1.9 in c:\\users\\kalya\\anaconda3\\lib\\site-packages (from trio~=0.17->selenium) (1.10)\n",
      "Requirement already satisfied: cffi>=1.14 in c:\\users\\kalya\\anaconda3\\lib\\site-packages (from trio~=0.17->selenium) (1.15.1)\n",
      "Requirement already satisfied: idna in c:\\users\\kalya\\anaconda3\\lib\\site-packages (from trio~=0.17->selenium) (3.3)\n",
      "Requirement already satisfied: outcome in c:\\users\\kalya\\anaconda3\\lib\\site-packages (from trio~=0.17->selenium) (1.2.0)\n",
      "Requirement already satisfied: sortedcontainers in c:\\users\\kalya\\anaconda3\\lib\\site-packages (from trio~=0.17->selenium) (2.4.0)\n",
      "Requirement already satisfied: sniffio in c:\\users\\kalya\\anaconda3\\lib\\site-packages (from trio~=0.17->selenium) (1.2.0)\n",
      "Requirement already satisfied: attrs>=19.2.0 in c:\\users\\kalya\\anaconda3\\lib\\site-packages (from trio~=0.17->selenium) (21.4.0)\n",
      "Requirement already satisfied: wsproto>=0.14 in c:\\users\\kalya\\anaconda3\\lib\\site-packages (from trio-websocket~=0.9->selenium) (1.2.0)\n",
      "Requirement already satisfied: PySocks!=1.5.7,<2.0,>=1.5.6 in c:\\users\\kalya\\anaconda3\\lib\\site-packages (from urllib3[socks]~=1.26->selenium) (1.7.1)\n",
      "Requirement already satisfied: pycparser in c:\\users\\kalya\\anaconda3\\lib\\site-packages (from cffi>=1.14->trio~=0.17->selenium) (2.21)\n",
      "Requirement already satisfied: h11<1,>=0.9.0 in c:\\users\\kalya\\anaconda3\\lib\\site-packages (from wsproto>=0.14->trio-websocket~=0.9->selenium) (0.14.0)\n",
      "Note: you may need to restart the kernel to use updated packages.\n"
     ]
    }
   ],
   "source": [
    "pip install selenium"
   ]
  },
  {
   "cell_type": "code",
   "execution_count": 38,
   "id": "7608f131",
   "metadata": {},
   "outputs": [
    {
     "name": "stdout",
     "output_type": "stream",
     "text": [
      "Rank: 1.\n",
      "Name: \"Baby Shark Dance\"[4]\n",
      "Artist: Pinkfong Baby Shark - Kids' Songs & Stories\n",
      "Upload date: June 17, 2016\n",
      "Views: 12.37\n",
      "Rank: 2.\n",
      "Name: \"Despacito\"[7]\n",
      "Artist: Luis Fonsi\n",
      "Upload date: January 12, 2017\n",
      "Views: 8.09\n",
      "Rank: 3.\n",
      "Name: \"Johny Johny Yes Papa\"[14]\n",
      "Artist: LooLoo Kids\n",
      "Upload date: October 8, 2016\n",
      "Views: 6.63\n",
      "Rank: 4.\n",
      "Name: \"Bath Song\"[15]\n",
      "Artist: Cocomelon – Nursery Rhymes\n",
      "Upload date: May 2, 2018\n",
      "Views: 6.03\n",
      "Rank: 5.\n",
      "Name: \"Shape of You\"[16]\n",
      "Artist: Ed Sheeran\n",
      "Upload date: January 30, 2017\n",
      "Views: 5.92\n",
      "Rank: 6.\n",
      "Name: \"See You Again\"[18]\n",
      "Artist: Wiz Khalifa\n",
      "Upload date: April 6, 2015\n",
      "Views: 5.79\n",
      "Rank: 7.\n",
      "Name: \"Phonics Song with Two Words\"[23]\n",
      "Artist: ChuChu TV\n",
      "Upload date: March 6, 2014\n",
      "Views: 5.17\n",
      "Rank: 8.\n",
      "Name: \"Wheels on the Bus\"[24]\n",
      "Artist: Cocomelon – Nursery Rhymes\n",
      "Upload date: May 24, 2018\n",
      "Views: 4.95\n",
      "Rank: 9.\n",
      "Name: \"Uptown Funk\"[25]\n",
      "Artist: Mark Ronson\n",
      "Upload date: November 19, 2014\n",
      "Views: 4.84\n",
      "Rank: 10.\n",
      "Name: \"Learning Colors – Colorful Eggs on a Farm\"[26]\n",
      "Artist: Miroshka TV\n",
      "Upload date: February 27, 2018\n",
      "Views: 4.83\n",
      "Rank: 11.\n",
      "Name: \"Gangnam Style\"[27]\n",
      "Artist: Psy\n",
      "Upload date: July 15, 2012\n",
      "Views: 4.70\n",
      "Rank: 12.\n",
      "Name: \"Masha and the Bear – Recipe for Disaster\"[32]\n",
      "Artist: Get Movies\n",
      "Upload date: January 31, 2012\n",
      "Views: 4.53\n",
      "Rank: 13.\n",
      "Name: \"Dame Tu Cosita\"[33]\n",
      "Artist: El Chombo\n",
      "Upload date: April 5, 2018\n",
      "Views: 4.24\n",
      "Rank: 14.\n",
      "Name: \"Sugar\"[34]\n",
      "Artist: Maroon 5\n",
      "Upload date: January 14, 2015\n",
      "Views: 3.82\n",
      "Rank: 15.\n",
      "Name: \"Axel F\"[35]\n",
      "Artist: Crazy Frog\n",
      "Upload date: June 16, 2009\n",
      "Views: 3.76\n",
      "Rank: 16.\n",
      "Name: \"Roar\"[36]\n",
      "Artist: Katy Perry\n",
      "Upload date: September 5, 2013\n",
      "Views: 3.73\n",
      "Rank: 17.\n",
      "Name: \"Counting Stars\"[37]\n",
      "Artist: OneRepublic\n",
      "Upload date: May 31, 2013\n",
      "Views: 3.73\n",
      "Rank: 18.\n",
      "Name: \"Sorry\"[38]\n",
      "Artist: Justin Bieber\n",
      "Upload date: October 22, 2015\n",
      "Views: 3.63\n",
      "Rank: 19.\n",
      "Name: \"Thinking Out Loud\"[39]\n",
      "Artist: Ed Sheeran\n",
      "Upload date: October 7, 2014\n",
      "Views: 3.55\n",
      "Rank: 20.\n",
      "Name: \"Baa Baa Black Sheep\"[40]\n",
      "Artist: Cocomelon – Nursery Rhymes\n",
      "Upload date: June 25, 2018\n",
      "Views: 3.51\n",
      "Rank: 21.\n",
      "Name: \"Waka Waka (This Time for Africa)\"[41]\n",
      "Artist: Shakira\n",
      "Upload date: June 4, 2010\n",
      "Views: 3.48\n",
      "Rank: 22.\n",
      "Name: \"Dark Horse\"[42]\n",
      "Artist: Katy Perry\n",
      "Upload date: February 20, 2014\n",
      "Views: 3.45\n",
      "Rank: 23.\n",
      "Name: \"Faded\"[43]\n",
      "Artist: Alan Walker\n",
      "Upload date: December 3, 2015\n",
      "Views: 3.41\n",
      "Rank: 24.\n",
      "Name: \"Let Her Go\"[44]\n",
      "Artist: Passenger\n",
      "Upload date: July 25, 2012\n",
      "Views: 3.38\n",
      "Rank: 25.\n",
      "Name: \"Girls Like You\"[45]\n",
      "Artist: Maroon 5\n",
      "Upload date: May 31, 2018\n",
      "Views: 3.37\n",
      "Rank: 26.\n",
      "Name: \"Perfect\"[46]\n",
      "Artist: Ed Sheeran\n",
      "Upload date: November 9, 2017\n",
      "Views: 3.37\n",
      "Rank: 27.\n",
      "Name: \"Bailando\"[47]\n",
      "Artist: Enrique Iglesias\n",
      "Upload date: April 11, 2014\n",
      "Views: 3.34\n",
      "Rank: 28.\n",
      "Name: \"Lean On\"[48]\n",
      "Artist: Major Lazer\n",
      "Upload date: March 22, 2015\n",
      "Views: 3.33\n",
      "Rank: 29.\n",
      "Name: \"Lakdi Ki Kathi\"[49]\n",
      "Artist: Jingle Toons\n",
      "Upload date: June 14, 2018\n",
      "Views: 3.32\n",
      "Rank: 30.\n",
      "Name: \"Humpty the train on a fruits ride\"[50]\n",
      "Artist: Kiddiestv Hindi – Nursery Rhymes & Kids Songs\n",
      "Upload date: January 26, 2018\n",
      "Views: 3.31\n"
     ]
    },
    {
     "ename": "IndexError",
     "evalue": "list index out of range",
     "output_type": "error",
     "traceback": [
      "\u001b[1;31m---------------------------------------------------------------------------\u001b[0m",
      "\u001b[1;31mIndexError\u001b[0m                                Traceback (most recent call last)",
      "\u001b[1;32m~\\AppData\\Local\\Temp\\ipykernel_27300\\1531757213.py\u001b[0m in \u001b[0;36m<module>\u001b[1;34m\u001b[0m\n\u001b[0;32m     18\u001b[0m \u001b[1;32mfor\u001b[0m \u001b[0mrow\u001b[0m \u001b[1;32min\u001b[0m \u001b[0mrows\u001b[0m\u001b[1;33m:\u001b[0m\u001b[1;33m\u001b[0m\u001b[1;33m\u001b[0m\u001b[0m\n\u001b[0;32m     19\u001b[0m     \u001b[0mcells\u001b[0m \u001b[1;33m=\u001b[0m \u001b[0mrow\u001b[0m\u001b[1;33m.\u001b[0m\u001b[0mfind_all\u001b[0m\u001b[1;33m(\u001b[0m\u001b[1;34m'td'\u001b[0m\u001b[1;33m)\u001b[0m\u001b[1;33m\u001b[0m\u001b[1;33m\u001b[0m\u001b[0m\n\u001b[1;32m---> 20\u001b[1;33m     \u001b[0mrank\u001b[0m \u001b[1;33m=\u001b[0m \u001b[0mcells\u001b[0m\u001b[1;33m[\u001b[0m\u001b[1;36m0\u001b[0m\u001b[1;33m]\u001b[0m\u001b[1;33m.\u001b[0m\u001b[0mtext\u001b[0m\u001b[1;33m.\u001b[0m\u001b[0mstrip\u001b[0m\u001b[1;33m(\u001b[0m\u001b[1;33m)\u001b[0m\u001b[1;33m\u001b[0m\u001b[1;33m\u001b[0m\u001b[0m\n\u001b[0m\u001b[0;32m     21\u001b[0m     \u001b[0mname\u001b[0m \u001b[1;33m=\u001b[0m \u001b[0mcells\u001b[0m\u001b[1;33m[\u001b[0m\u001b[1;36m1\u001b[0m\u001b[1;33m]\u001b[0m\u001b[1;33m.\u001b[0m\u001b[0mtext\u001b[0m\u001b[1;33m.\u001b[0m\u001b[0mstrip\u001b[0m\u001b[1;33m(\u001b[0m\u001b[1;33m)\u001b[0m\u001b[1;33m\u001b[0m\u001b[1;33m\u001b[0m\u001b[0m\n\u001b[0;32m     22\u001b[0m     \u001b[0martist\u001b[0m \u001b[1;33m=\u001b[0m \u001b[0mcells\u001b[0m\u001b[1;33m[\u001b[0m\u001b[1;36m2\u001b[0m\u001b[1;33m]\u001b[0m\u001b[1;33m.\u001b[0m\u001b[0mtext\u001b[0m\u001b[1;33m.\u001b[0m\u001b[0mstrip\u001b[0m\u001b[1;33m(\u001b[0m\u001b[1;33m)\u001b[0m\u001b[1;33m\u001b[0m\u001b[1;33m\u001b[0m\u001b[0m\n",
      "\u001b[1;31mIndexError\u001b[0m: list index out of range"
     ]
    }
   ],
   "source": [
    "import requests\n",
    "from bs4 import BeautifulSoup\n",
    "\n",
    "\n",
    "url = 'https://en.wikipedia.org/wiki/List_of_most-viewed_YouTube_videos'\n",
    "req = requests.get(url)\n",
    "\n",
    "\n",
    "soup = BeautifulSoup(req.content, 'html.parser')\n",
    "\n",
    "\n",
    "table = soup.find('table', {'class': 'wikitable sortable'})\n",
    "\n",
    "\n",
    "rows = table.find_all('tr')[1:]\n",
    "\n",
    "\n",
    "for row in rows:\n",
    "    cells = row.find_all('td')\n",
    "    rank = cells[0].text.strip()\n",
    "    name = cells[1].text.strip()\n",
    "    artist = cells[2].text.strip()\n",
    "    upload_date = cells[4].text.strip()\n",
    "    views = cells[3].text.strip()\n",
    "    \n",
    "    \n",
    "    print(f\"Rank: {rank}\")\n",
    "    print(f\"Name: {name}\")\n",
    "    print(f\"Artist: {artist}\")\n",
    "    print(f\"Upload date: {upload_date}\")\n",
    "    print(f\"Views: {views}\")\n",
    "import pandas as pd\n",
    "df=pd.DataFrame(f\"Rank: {rank}\"\n",
    "               f\"Name: {name}\"\n",
    "               f\"Artist: {artist}\"\n",
    "               f\"Views: {views}\")\n",
    "print(df)\n"
   ]
  },
  {
   "cell_type": "markdown",
   "id": "e167be2a",
   "metadata": {},
   "source": [
    "# SECOND QUESTION ANSWER "
   ]
  },
  {
   "cell_type": "code",
   "execution_count": 52,
   "id": "fb92e7a1",
   "metadata": {},
   "outputs": [],
   "source": [
    "import pandas as pd \n",
    "import selenium\n",
    "from bs4 import BeautifulSoup\n",
    "from selenium.common.exceptions import StaleElementReferenceException, NoSuchElementException"
   ]
  },
  {
   "cell_type": "code",
   "execution_count": 53,
   "id": "d7ac5dec",
   "metadata": {},
   "outputs": [],
   "source": [
    "from selenium import webdriver\n",
    "import warnings\n",
    "warnings.filterwarnings('ignore')\n",
    "from selenium.webdriver.common.by import By\n",
    "import time"
   ]
  },
  {
   "cell_type": "code",
   "execution_count": 54,
   "id": "14aa5f89",
   "metadata": {},
   "outputs": [],
   "source": [
    "driver = webdriver.Chrome()"
   ]
  },
  {
   "cell_type": "code",
   "execution_count": 55,
   "id": "78859a10",
   "metadata": {},
   "outputs": [],
   "source": [
    "driver.get(\"http://www.bcci.tv/\")"
   ]
  },
  {
   "cell_type": "code",
   "execution_count": 56,
   "id": "94880207",
   "metadata": {},
   "outputs": [],
   "source": [
    "kal=driver.find_element(By.XPATH,\"/html/body/nav/div[1]/div[2]/ul[1]/li[2]/a\")\n",
    "kal.click()"
   ]
  },
  {
   "cell_type": "code",
   "execution_count": 57,
   "id": "c5e46f40",
   "metadata": {},
   "outputs": [],
   "source": [
    "m_tit=[]\n",
    "m_pla=[]\n",
    "m_dat=[]\n",
    "m_tim=[]"
   ]
  },
  {
   "cell_type": "code",
   "execution_count": 58,
   "id": "80dd026a",
   "metadata": {},
   "outputs": [],
   "source": [
    "tit_tags=driver.find_elements(By.XPATH,\"//span[@class='ng-binding']\")\n",
    "for i in tit_tags[0:]:\n",
    "    tit=i.text\n",
    "    m_tit.append(tit)"
   ]
  },
  {
   "cell_type": "code",
   "execution_count": 59,
   "id": "e9e689d9",
   "metadata": {},
   "outputs": [
    {
     "data": {
      "text/plain": [
       "6"
      ]
     },
     "execution_count": 59,
     "metadata": {},
     "output_type": "execute_result"
    }
   ],
   "source": [
    "len(m_tit)"
   ]
  },
  {
   "cell_type": "code",
   "execution_count": 73,
   "id": "5060dd4d",
   "metadata": {},
   "outputs": [
    {
     "data": {
      "text/plain": [
       "['AUSTRALIA TOUR OF INDIA TEST SERIES 2022-23',\n",
       " 'Lunch break',\n",
       " '(167.2 ov)',\n",
       " 'AUSTRALIA TOUR OF INDIA ODI SERIES 2022-23',\n",
       " 'AUSTRALIA TOUR OF INDIA ODI SERIES 2022-23',\n",
       " 'AUSTRALIA TOUR OF INDIA ODI SERIES 2022-23']"
      ]
     },
     "execution_count": 73,
     "metadata": {},
     "output_type": "execute_result"
    }
   ],
   "source": [
    "m_tit"
   ]
  },
  {
   "cell_type": "code",
   "execution_count": 61,
   "id": "a4ab643d",
   "metadata": {},
   "outputs": [],
   "source": [
    "pla_tags=driver.find_elements(By.XPATH,\"//span[@class='ng-binding ng-scope']\")\n",
    "for i in pla_tags[0:]:\n",
    "    pla=i.text\n",
    "    m_pla.append(pla)"
   ]
  },
  {
   "cell_type": "code",
   "execution_count": 63,
   "id": "c0a0d80b",
   "metadata": {},
   "outputs": [
    {
     "data": {
      "text/plain": [
       "5"
      ]
     },
     "execution_count": 63,
     "metadata": {},
     "output_type": "execute_result"
    }
   ],
   "source": [
    "len(m_pla)"
   ]
  },
  {
   "cell_type": "code",
   "execution_count": 64,
   "id": "69d4abca",
   "metadata": {},
   "outputs": [
    {
     "data": {
      "text/plain": [
       "['(131.0 ov)',\n",
       " 'Narendra Modi Stadium,',\n",
       " 'Wankhede Stadium,',\n",
       " 'Dr YS Rajasekhara Reddy ACA-VDCA Cricket Stadium,',\n",
       " 'MA Chidambaram Stadium,']"
      ]
     },
     "execution_count": 64,
     "metadata": {},
     "output_type": "execute_result"
    }
   ],
   "source": [
    "m_pla"
   ]
  },
  {
   "cell_type": "code",
   "execution_count": 69,
   "id": "ab20dc40",
   "metadata": {},
   "outputs": [],
   "source": [
    "dat_tags=driver.find_elements(By.XPATH,\"//div[@class='match-card-left match-schedule']\")\n",
    "for i in dat_tags[0:]:\n",
    "    dat=i.text\n",
    "    \n",
    "    m_dat.append(dat)"
   ]
  },
  {
   "cell_type": "code",
   "execution_count": 70,
   "id": "9bc78fa4",
   "metadata": {},
   "outputs": [
    {
     "data": {
      "text/plain": [
       "['9 MAR 2023', '17 MAR 2023', '19 MAR 2023', '22 MAR 2023']"
      ]
     },
     "execution_count": 70,
     "metadata": {},
     "output_type": "execute_result"
    }
   ],
   "source": [
    "m_dat"
   ]
  },
  {
   "cell_type": "code",
   "execution_count": 71,
   "id": "5496c7dd",
   "metadata": {},
   "outputs": [],
   "source": [
    "tim_tags=driver.find_elements(By.XPATH,\"//div[@class='match-card-right match-schedule ']\")\n",
    "for i in tim_tags[0:]:\n",
    "    tim=i.text\n",
    "    m_tim.append(tim)"
   ]
  },
  {
   "cell_type": "code",
   "execution_count": 72,
   "id": "86d89152",
   "metadata": {},
   "outputs": [
    {
     "data": {
      "text/plain": [
       "['LIVE', '1:30 PM IST', '1:30 PM IST', '1:30 PM IST']"
      ]
     },
     "execution_count": 72,
     "metadata": {},
     "output_type": "execute_result"
    }
   ],
   "source": [
    "m_tim"
   ]
  },
  {
   "cell_type": "code",
   "execution_count": 74,
   "id": "48d2484e",
   "metadata": {},
   "outputs": [
    {
     "data": {
      "text/html": [
       "<div>\n",
       "<style scoped>\n",
       "    .dataframe tbody tr th:only-of-type {\n",
       "        vertical-align: middle;\n",
       "    }\n",
       "\n",
       "    .dataframe tbody tr th {\n",
       "        vertical-align: top;\n",
       "    }\n",
       "\n",
       "    .dataframe thead th {\n",
       "        text-align: right;\n",
       "    }\n",
       "</style>\n",
       "<table border=\"1\" class=\"dataframe\">\n",
       "  <thead>\n",
       "    <tr style=\"text-align: right;\">\n",
       "      <th></th>\n",
       "      <th>MATCH TITLE</th>\n",
       "      <th>DATE</th>\n",
       "      <th>TIME</th>\n",
       "      <th>PLACE</th>\n",
       "    </tr>\n",
       "  </thead>\n",
       "  <tbody>\n",
       "    <tr>\n",
       "      <th>0</th>\n",
       "      <td>AUSTRALIA TOUR OF INDIA ODI SERIES 2022-23</td>\n",
       "      <td>17 MAR 2023</td>\n",
       "      <td>1:30 PM IST</td>\n",
       "      <td>Wankhede Stadium,</td>\n",
       "    </tr>\n",
       "    <tr>\n",
       "      <th>1</th>\n",
       "      <td>AUSTRALIA TOUR OF INDIA ODI SERIES 2022-23</td>\n",
       "      <td>19 MAR 2023</td>\n",
       "      <td>1:30 PM IST</td>\n",
       "      <td>Dr YS Rajasekhara Reddy ACA-VDCA Cricket Stadium,</td>\n",
       "    </tr>\n",
       "    <tr>\n",
       "      <th>2</th>\n",
       "      <td>AUSTRALIA TOUR OF INDIA ODI SERIES 2022-23</td>\n",
       "      <td>22 MAR 2023</td>\n",
       "      <td>1:30 PM IST</td>\n",
       "      <td>MA Chidambaram Stadium,</td>\n",
       "    </tr>\n",
       "  </tbody>\n",
       "</table>\n",
       "</div>"
      ],
      "text/plain": [
       "                                  MATCH TITLE         DATE         TIME  \\\n",
       "0  AUSTRALIA TOUR OF INDIA ODI SERIES 2022-23  17 MAR 2023  1:30 PM IST   \n",
       "1  AUSTRALIA TOUR OF INDIA ODI SERIES 2022-23  19 MAR 2023  1:30 PM IST   \n",
       "2  AUSTRALIA TOUR OF INDIA ODI SERIES 2022-23  22 MAR 2023  1:30 PM IST   \n",
       "\n",
       "                                               PLACE  \n",
       "0                                  Wankhede Stadium,  \n",
       "1  Dr YS Rajasekhara Reddy ACA-VDCA Cricket Stadium,  \n",
       "2                            MA Chidambaram Stadium,  "
      ]
     },
     "execution_count": 74,
     "metadata": {},
     "output_type": "execute_result"
    }
   ],
   "source": [
    "df=pd.DataFrame({\"MATCH TITLE\":m_tit[3:6],\n",
    "                \"DATE\":m_dat[1:4],\n",
    "                \"TIME\":m_tim[1:4],\n",
    "                \"PLACE\":m_pla[2:5]})\n",
    "df"
   ]
  },
  {
   "cell_type": "markdown",
   "id": "2f45a17d",
   "metadata": {},
   "source": [
    "# THIRD QUESTION ANSWER"
   ]
  },
  {
   "cell_type": "code",
   "execution_count": 126,
   "id": "13707e32",
   "metadata": {},
   "outputs": [],
   "source": [
    "import pandas as pd \n",
    "import selenium\n",
    "from bs4 import BeautifulSoup\n",
    "from selenium.common.exceptions import StaleElementReferenceException, NoSuchElementException"
   ]
  },
  {
   "cell_type": "code",
   "execution_count": 127,
   "id": "16527bf9",
   "metadata": {},
   "outputs": [],
   "source": [
    "from selenium import webdriver\n",
    "import warnings\n",
    "warnings.filterwarnings('ignore')\n",
    "from selenium.webdriver.common.by import By\n",
    "import time"
   ]
  },
  {
   "cell_type": "code",
   "execution_count": 128,
   "id": "00039175",
   "metadata": {},
   "outputs": [],
   "source": [
    "driver = webdriver.Chrome()"
   ]
  },
  {
   "cell_type": "code",
   "execution_count": 129,
   "id": "b980b754",
   "metadata": {},
   "outputs": [],
   "source": [
    "driver.get(\"http://statisticstimes.com/\")"
   ]
  },
  {
   "cell_type": "code",
   "execution_count": 130,
   "id": "b3592132",
   "metadata": {},
   "outputs": [],
   "source": [
    "son=driver.find_element(By.XPATH,\"/html/body/div[2]/div[1]/div[2]/div[2]/button\")\n",
    "son.click()"
   ]
  },
  {
   "cell_type": "code",
   "execution_count": 132,
   "id": "7d19bd43",
   "metadata": {},
   "outputs": [],
   "source": [
    "nit=driver.find_element(By.XPATH,\"/html/body/div[2]/div[2]/div[2]/ul/li[1]/a\")\n",
    "nit.click()"
   ]
  },
  {
   "cell_type": "code",
   "execution_count": 133,
   "id": "39db503a",
   "metadata": {},
   "outputs": [],
   "source": [
    "s_ran=[]\n",
    "s_sta=[]\n",
    "s_cp19=[]\n",
    "s_cp20=[]\n",
    "s_sha=[]\n",
    "s_gdp=[]"
   ]
  },
  {
   "cell_type": "code",
   "execution_count": 134,
   "id": "ed5f5983",
   "metadata": {},
   "outputs": [],
   "source": [
    "ran_tags=driver.find_elements(By.XPATH,\"//table[@class='display dataTable']/tbody/tr/td[1]\")\n",
    "for i in ran_tags[0:33]:\n",
    "    ran=i.text\n",
    "    s_ran.append(ran)"
   ]
  },
  {
   "cell_type": "code",
   "execution_count": 135,
   "id": "a8be04f0",
   "metadata": {},
   "outputs": [
    {
     "data": {
      "text/plain": [
       "33"
      ]
     },
     "execution_count": 135,
     "metadata": {},
     "output_type": "execute_result"
    }
   ],
   "source": [
    "len(s_ran)"
   ]
  },
  {
   "cell_type": "code",
   "execution_count": 136,
   "id": "aa7c7ede",
   "metadata": {},
   "outputs": [],
   "source": [
    "sta_tags=driver.find_elements(By.XPATH,\"//table[@class='display dataTable']/tbody/tr/td[2]\")\n",
    "for i in sta_tags[0:33]:\n",
    "    sta=i.text\n",
    "    s_sta.append(sta)\n"
   ]
  },
  {
   "cell_type": "code",
   "execution_count": 137,
   "id": "bd342e0c",
   "metadata": {},
   "outputs": [
    {
     "data": {
      "text/plain": [
       "33"
      ]
     },
     "execution_count": 137,
     "metadata": {},
     "output_type": "execute_result"
    }
   ],
   "source": [
    "len(s_sta)"
   ]
  },
  {
   "cell_type": "code",
   "execution_count": 138,
   "id": "ac2a0f89",
   "metadata": {},
   "outputs": [],
   "source": [
    "cp19_tags=driver.find_elements(By.XPATH,\"//table[@class='display dataTable']/tbody/tr/td[3]\")\n",
    "for i in cp19_tags[0:33]:\n",
    "    cp19=i.text\n",
    "    s_cp19.append(cp19)"
   ]
  },
  {
   "cell_type": "code",
   "execution_count": 139,
   "id": "6e7b0b6e",
   "metadata": {},
   "outputs": [
    {
     "data": {
      "text/plain": [
       "33"
      ]
     },
     "execution_count": 139,
     "metadata": {},
     "output_type": "execute_result"
    }
   ],
   "source": [
    "len(s_cp19)"
   ]
  },
  {
   "cell_type": "code",
   "execution_count": 140,
   "id": "020b8f8f",
   "metadata": {},
   "outputs": [],
   "source": [
    "cp20_tags=driver.find_elements(By.XPATH,\"//table[@class='display dataTable']/tbody/tr/td[4]\")\n",
    "for i in cp20_tags[0:33]:\n",
    "    cp20=i.text\n",
    "    s_cp20.append(cp20)"
   ]
  },
  {
   "cell_type": "code",
   "execution_count": 141,
   "id": "223814f1",
   "metadata": {},
   "outputs": [
    {
     "data": {
      "text/plain": [
       "33"
      ]
     },
     "execution_count": 141,
     "metadata": {},
     "output_type": "execute_result"
    }
   ],
   "source": [
    "len(s_cp20)"
   ]
  },
  {
   "cell_type": "code",
   "execution_count": 142,
   "id": "7808521d",
   "metadata": {},
   "outputs": [],
   "source": [
    "sha_tags=driver.find_elements(By.XPATH,\"//table[@class='display dataTable']/tbody/tr/td[5]\")\n",
    "for i in sha_tags[0:33]:\n",
    "    sha=i.text\n",
    "    s_sha.append(sha)"
   ]
  },
  {
   "cell_type": "code",
   "execution_count": 143,
   "id": "fb4d4458",
   "metadata": {},
   "outputs": [
    {
     "data": {
      "text/plain": [
       "33"
      ]
     },
     "execution_count": 143,
     "metadata": {},
     "output_type": "execute_result"
    }
   ],
   "source": [
    "len(s_sha)"
   ]
  },
  {
   "cell_type": "code",
   "execution_count": 144,
   "id": "7417bd35",
   "metadata": {},
   "outputs": [],
   "source": [
    "gdp_tags=driver.find_elements(By.XPATH,\"//table[@class='display dataTable']/tbody/tr/td[6]\")\n",
    "for i in gdp_tags[0:33]:\n",
    "    gdp=i.text\n",
    "    s_gdp.append(gdp)\n",
    "                 "
   ]
  },
  {
   "cell_type": "code",
   "execution_count": 145,
   "id": "959b2ab1",
   "metadata": {},
   "outputs": [
    {
     "data": {
      "text/plain": [
       "33"
      ]
     },
     "execution_count": 145,
     "metadata": {},
     "output_type": "execute_result"
    }
   ],
   "source": [
    "len(s_gdp)"
   ]
  },
  {
   "cell_type": "code",
   "execution_count": 146,
   "id": "db05ae8e",
   "metadata": {},
   "outputs": [
    {
     "data": {
      "text/html": [
       "<div>\n",
       "<style scoped>\n",
       "    .dataframe tbody tr th:only-of-type {\n",
       "        vertical-align: middle;\n",
       "    }\n",
       "\n",
       "    .dataframe tbody tr th {\n",
       "        vertical-align: top;\n",
       "    }\n",
       "\n",
       "    .dataframe thead th {\n",
       "        text-align: right;\n",
       "    }\n",
       "</style>\n",
       "<table border=\"1\" class=\"dataframe\">\n",
       "  <thead>\n",
       "    <tr style=\"text-align: right;\">\n",
       "      <th></th>\n",
       "      <th>Rank</th>\n",
       "      <th>State</th>\n",
       "      <th>GSDP(18-19)- at current prices</th>\n",
       "      <th>GSDP(19-20)- at current prices</th>\n",
       "      <th>Share(18-19)</th>\n",
       "      <th>GDP($ billion)</th>\n",
       "    </tr>\n",
       "  </thead>\n",
       "  <tbody>\n",
       "    <tr>\n",
       "      <th>0</th>\n",
       "      <td>1</td>\n",
       "      <td>Maharashtra</td>\n",
       "      <td>-</td>\n",
       "      <td>2,632,792</td>\n",
       "      <td>13.94%</td>\n",
       "      <td>399.921</td>\n",
       "    </tr>\n",
       "    <tr>\n",
       "      <th>1</th>\n",
       "      <td>2</td>\n",
       "      <td>Tamil Nadu</td>\n",
       "      <td>1,845,853</td>\n",
       "      <td>1,630,208</td>\n",
       "      <td>8.63%</td>\n",
       "      <td>247.629</td>\n",
       "    </tr>\n",
       "    <tr>\n",
       "      <th>2</th>\n",
       "      <td>3</td>\n",
       "      <td>Uttar Pradesh</td>\n",
       "      <td>1,687,818</td>\n",
       "      <td>1,584,764</td>\n",
       "      <td>8.39%</td>\n",
       "      <td>240.726</td>\n",
       "    </tr>\n",
       "    <tr>\n",
       "      <th>3</th>\n",
       "      <td>4</td>\n",
       "      <td>Gujarat</td>\n",
       "      <td>-</td>\n",
       "      <td>1,502,899</td>\n",
       "      <td>7.96%</td>\n",
       "      <td>228.290</td>\n",
       "    </tr>\n",
       "    <tr>\n",
       "      <th>4</th>\n",
       "      <td>5</td>\n",
       "      <td>Karnataka</td>\n",
       "      <td>1,631,977</td>\n",
       "      <td>1,493,127</td>\n",
       "      <td>7.91%</td>\n",
       "      <td>226.806</td>\n",
       "    </tr>\n",
       "    <tr>\n",
       "      <th>5</th>\n",
       "      <td>6</td>\n",
       "      <td>West Bengal</td>\n",
       "      <td>1,253,832</td>\n",
       "      <td>1,089,898</td>\n",
       "      <td>5.77%</td>\n",
       "      <td>165.556</td>\n",
       "    </tr>\n",
       "    <tr>\n",
       "      <th>6</th>\n",
       "      <td>7</td>\n",
       "      <td>Rajasthan</td>\n",
       "      <td>1,020,989</td>\n",
       "      <td>942,586</td>\n",
       "      <td>4.99%</td>\n",
       "      <td>143.179</td>\n",
       "    </tr>\n",
       "    <tr>\n",
       "      <th>7</th>\n",
       "      <td>8</td>\n",
       "      <td>Andhra Pradesh</td>\n",
       "      <td>972,782</td>\n",
       "      <td>862,957</td>\n",
       "      <td>4.57%</td>\n",
       "      <td>131.083</td>\n",
       "    </tr>\n",
       "    <tr>\n",
       "      <th>8</th>\n",
       "      <td>9</td>\n",
       "      <td>Telangana</td>\n",
       "      <td>969,604</td>\n",
       "      <td>861,031</td>\n",
       "      <td>4.56%</td>\n",
       "      <td>130.791</td>\n",
       "    </tr>\n",
       "    <tr>\n",
       "      <th>9</th>\n",
       "      <td>10</td>\n",
       "      <td>Madhya Pradesh</td>\n",
       "      <td>906,672</td>\n",
       "      <td>809,592</td>\n",
       "      <td>4.29%</td>\n",
       "      <td>122.977</td>\n",
       "    </tr>\n",
       "    <tr>\n",
       "      <th>10</th>\n",
       "      <td>11</td>\n",
       "      <td>Kerala</td>\n",
       "      <td>-</td>\n",
       "      <td>781,653</td>\n",
       "      <td>4.14%</td>\n",
       "      <td>118.733</td>\n",
       "    </tr>\n",
       "    <tr>\n",
       "      <th>11</th>\n",
       "      <td>12</td>\n",
       "      <td>Delhi</td>\n",
       "      <td>856,112</td>\n",
       "      <td>774,870</td>\n",
       "      <td>4.10%</td>\n",
       "      <td>117.703</td>\n",
       "    </tr>\n",
       "    <tr>\n",
       "      <th>12</th>\n",
       "      <td>13</td>\n",
       "      <td>Haryana</td>\n",
       "      <td>831,610</td>\n",
       "      <td>734,163</td>\n",
       "      <td>3.89%</td>\n",
       "      <td>111.519</td>\n",
       "    </tr>\n",
       "    <tr>\n",
       "      <th>13</th>\n",
       "      <td>14</td>\n",
       "      <td>Bihar</td>\n",
       "      <td>611,804</td>\n",
       "      <td>530,363</td>\n",
       "      <td>2.81%</td>\n",
       "      <td>80.562</td>\n",
       "    </tr>\n",
       "    <tr>\n",
       "      <th>14</th>\n",
       "      <td>15</td>\n",
       "      <td>Punjab</td>\n",
       "      <td>574,760</td>\n",
       "      <td>526,376</td>\n",
       "      <td>2.79%</td>\n",
       "      <td>79.957</td>\n",
       "    </tr>\n",
       "    <tr>\n",
       "      <th>15</th>\n",
       "      <td>16</td>\n",
       "      <td>Odisha</td>\n",
       "      <td>521,275</td>\n",
       "      <td>487,805</td>\n",
       "      <td>2.58%</td>\n",
       "      <td>74.098</td>\n",
       "    </tr>\n",
       "    <tr>\n",
       "      <th>16</th>\n",
       "      <td>17</td>\n",
       "      <td>Assam</td>\n",
       "      <td>-</td>\n",
       "      <td>315,881</td>\n",
       "      <td>1.67%</td>\n",
       "      <td>47.982</td>\n",
       "    </tr>\n",
       "    <tr>\n",
       "      <th>17</th>\n",
       "      <td>18</td>\n",
       "      <td>Chhattisgarh</td>\n",
       "      <td>329,180</td>\n",
       "      <td>304,063</td>\n",
       "      <td>1.61%</td>\n",
       "      <td>46.187</td>\n",
       "    </tr>\n",
       "    <tr>\n",
       "      <th>18</th>\n",
       "      <td>19</td>\n",
       "      <td>Jharkhand</td>\n",
       "      <td>328,598</td>\n",
       "      <td>297,204</td>\n",
       "      <td>1.57%</td>\n",
       "      <td>45.145</td>\n",
       "    </tr>\n",
       "    <tr>\n",
       "      <th>19</th>\n",
       "      <td>20</td>\n",
       "      <td>Uttarakhand</td>\n",
       "      <td>-</td>\n",
       "      <td>245,895</td>\n",
       "      <td>1.30%</td>\n",
       "      <td>37.351</td>\n",
       "    </tr>\n",
       "    <tr>\n",
       "      <th>20</th>\n",
       "      <td>21</td>\n",
       "      <td>Jammu &amp; Kashmir</td>\n",
       "      <td>-</td>\n",
       "      <td>155,956</td>\n",
       "      <td>0.83%</td>\n",
       "      <td>23.690</td>\n",
       "    </tr>\n",
       "    <tr>\n",
       "      <th>21</th>\n",
       "      <td>22</td>\n",
       "      <td>Himachal Pradesh</td>\n",
       "      <td>165,472</td>\n",
       "      <td>153,845</td>\n",
       "      <td>0.81%</td>\n",
       "      <td>23.369</td>\n",
       "    </tr>\n",
       "    <tr>\n",
       "      <th>22</th>\n",
       "      <td>23</td>\n",
       "      <td>Goa</td>\n",
       "      <td>80,449</td>\n",
       "      <td>73,170</td>\n",
       "      <td>0.39%</td>\n",
       "      <td>11.115</td>\n",
       "    </tr>\n",
       "    <tr>\n",
       "      <th>23</th>\n",
       "      <td>24</td>\n",
       "      <td>Tripura</td>\n",
       "      <td>55,984</td>\n",
       "      <td>49,845</td>\n",
       "      <td>0.26%</td>\n",
       "      <td>7.571</td>\n",
       "    </tr>\n",
       "    <tr>\n",
       "      <th>24</th>\n",
       "      <td>25</td>\n",
       "      <td>Chandigarh</td>\n",
       "      <td>-</td>\n",
       "      <td>42,114</td>\n",
       "      <td>0.22%</td>\n",
       "      <td>6.397</td>\n",
       "    </tr>\n",
       "    <tr>\n",
       "      <th>25</th>\n",
       "      <td>26</td>\n",
       "      <td>Puducherry</td>\n",
       "      <td>38,253</td>\n",
       "      <td>34,433</td>\n",
       "      <td>0.18%</td>\n",
       "      <td>5.230</td>\n",
       "    </tr>\n",
       "    <tr>\n",
       "      <th>26</th>\n",
       "      <td>27</td>\n",
       "      <td>Meghalaya</td>\n",
       "      <td>36,572</td>\n",
       "      <td>33,481</td>\n",
       "      <td>0.18%</td>\n",
       "      <td>5.086</td>\n",
       "    </tr>\n",
       "    <tr>\n",
       "      <th>27</th>\n",
       "      <td>28</td>\n",
       "      <td>Sikkim</td>\n",
       "      <td>32,496</td>\n",
       "      <td>28,723</td>\n",
       "      <td>0.15%</td>\n",
       "      <td>4.363</td>\n",
       "    </tr>\n",
       "    <tr>\n",
       "      <th>28</th>\n",
       "      <td>29</td>\n",
       "      <td>Manipur</td>\n",
       "      <td>31,790</td>\n",
       "      <td>27,870</td>\n",
       "      <td>0.15%</td>\n",
       "      <td>4.233</td>\n",
       "    </tr>\n",
       "    <tr>\n",
       "      <th>29</th>\n",
       "      <td>30</td>\n",
       "      <td>Nagaland</td>\n",
       "      <td>-</td>\n",
       "      <td>27,283</td>\n",
       "      <td>0.14%</td>\n",
       "      <td>4.144</td>\n",
       "    </tr>\n",
       "    <tr>\n",
       "      <th>30</th>\n",
       "      <td>31</td>\n",
       "      <td>Arunachal Pradesh</td>\n",
       "      <td>-</td>\n",
       "      <td>24,603</td>\n",
       "      <td>0.13%</td>\n",
       "      <td>3.737</td>\n",
       "    </tr>\n",
       "    <tr>\n",
       "      <th>31</th>\n",
       "      <td>32</td>\n",
       "      <td>Mizoram</td>\n",
       "      <td>26,503</td>\n",
       "      <td>22,287</td>\n",
       "      <td>0.12%</td>\n",
       "      <td>3.385</td>\n",
       "    </tr>\n",
       "    <tr>\n",
       "      <th>32</th>\n",
       "      <td>33</td>\n",
       "      <td>Andaman &amp; Nicobar Islands</td>\n",
       "      <td>-</td>\n",
       "      <td>-</td>\n",
       "      <td>-</td>\n",
       "      <td>-</td>\n",
       "    </tr>\n",
       "  </tbody>\n",
       "</table>\n",
       "</div>"
      ],
      "text/plain": [
       "   Rank                      State GSDP(18-19)- at current prices  \\\n",
       "0     1                Maharashtra                              -   \n",
       "1     2                 Tamil Nadu                      1,845,853   \n",
       "2     3              Uttar Pradesh                      1,687,818   \n",
       "3     4                    Gujarat                              -   \n",
       "4     5                  Karnataka                      1,631,977   \n",
       "5     6                West Bengal                      1,253,832   \n",
       "6     7                  Rajasthan                      1,020,989   \n",
       "7     8             Andhra Pradesh                        972,782   \n",
       "8     9                  Telangana                        969,604   \n",
       "9    10             Madhya Pradesh                        906,672   \n",
       "10   11                     Kerala                              -   \n",
       "11   12                      Delhi                        856,112   \n",
       "12   13                    Haryana                        831,610   \n",
       "13   14                      Bihar                        611,804   \n",
       "14   15                     Punjab                        574,760   \n",
       "15   16                     Odisha                        521,275   \n",
       "16   17                      Assam                              -   \n",
       "17   18               Chhattisgarh                        329,180   \n",
       "18   19                  Jharkhand                        328,598   \n",
       "19   20                Uttarakhand                              -   \n",
       "20   21            Jammu & Kashmir                              -   \n",
       "21   22           Himachal Pradesh                        165,472   \n",
       "22   23                        Goa                         80,449   \n",
       "23   24                    Tripura                         55,984   \n",
       "24   25                 Chandigarh                              -   \n",
       "25   26                 Puducherry                         38,253   \n",
       "26   27                  Meghalaya                         36,572   \n",
       "27   28                     Sikkim                         32,496   \n",
       "28   29                    Manipur                         31,790   \n",
       "29   30                   Nagaland                              -   \n",
       "30   31          Arunachal Pradesh                              -   \n",
       "31   32                    Mizoram                         26,503   \n",
       "32   33  Andaman & Nicobar Islands                              -   \n",
       "\n",
       "   GSDP(19-20)- at current prices Share(18-19)  GDP($ billion)  \n",
       "0                       2,632,792       13.94%         399.921  \n",
       "1                       1,630,208        8.63%         247.629  \n",
       "2                       1,584,764        8.39%         240.726  \n",
       "3                       1,502,899        7.96%         228.290  \n",
       "4                       1,493,127        7.91%         226.806  \n",
       "5                       1,089,898        5.77%         165.556  \n",
       "6                         942,586        4.99%         143.179  \n",
       "7                         862,957        4.57%         131.083  \n",
       "8                         861,031        4.56%         130.791  \n",
       "9                         809,592        4.29%         122.977  \n",
       "10                        781,653        4.14%         118.733  \n",
       "11                        774,870        4.10%         117.703  \n",
       "12                        734,163        3.89%         111.519  \n",
       "13                        530,363        2.81%          80.562  \n",
       "14                        526,376        2.79%          79.957  \n",
       "15                        487,805        2.58%          74.098  \n",
       "16                        315,881        1.67%          47.982  \n",
       "17                        304,063        1.61%          46.187  \n",
       "18                        297,204        1.57%          45.145  \n",
       "19                        245,895        1.30%          37.351  \n",
       "20                        155,956        0.83%          23.690  \n",
       "21                        153,845        0.81%          23.369  \n",
       "22                         73,170        0.39%          11.115  \n",
       "23                         49,845        0.26%           7.571  \n",
       "24                         42,114        0.22%           6.397  \n",
       "25                         34,433        0.18%           5.230  \n",
       "26                         33,481        0.18%           5.086  \n",
       "27                         28,723        0.15%           4.363  \n",
       "28                         27,870        0.15%           4.233  \n",
       "29                         27,283        0.14%           4.144  \n",
       "30                         24,603        0.13%           3.737  \n",
       "31                         22,287        0.12%           3.385  \n",
       "32                              -            -               -  "
      ]
     },
     "execution_count": 146,
     "metadata": {},
     "output_type": "execute_result"
    }
   ],
   "source": [
    "df=pd.DataFrame({\"Rank\":s_ran,\"State\":s_sta,\"GSDP(18-19)- at current prices\":s_cp19,\n",
    "               \"GSDP(19-20)- at current prices\":s_cp20,\"Share(18-19)\":s_sha,\n",
    "               \" GDP($ billion)\":s_gdp})\n",
    "df"
   ]
  },
  {
   "cell_type": "markdown",
   "id": "137686fe",
   "metadata": {},
   "source": [
    "# FOURTH QUESTION ANSWER"
   ]
  },
  {
   "cell_type": "code",
   "execution_count": 122,
   "id": "3414452f",
   "metadata": {},
   "outputs": [],
   "source": [
    "import pandas as pd \n",
    "import selenium\n",
    "from bs4 import BeautifulSoup\n",
    "from selenium.common.exceptions import StaleElementReferenceException, NoSuchElementException"
   ]
  },
  {
   "cell_type": "code",
   "execution_count": 123,
   "id": "6f2dff91",
   "metadata": {},
   "outputs": [],
   "source": [
    "from selenium import webdriver\n",
    "import warnings\n",
    "warnings.filterwarnings('ignore')\n",
    "from selenium.webdriver.common.by import By\n",
    "import time"
   ]
  },
  {
   "cell_type": "code",
   "execution_count": 124,
   "id": "b19634c1",
   "metadata": {},
   "outputs": [],
   "source": [
    "driver = webdriver.Chrome()"
   ]
  },
  {
   "cell_type": "code",
   "execution_count": 125,
   "id": "e698035c",
   "metadata": {},
   "outputs": [],
   "source": [
    "driver.get(\"https://github.com/\")"
   ]
  },
  {
   "cell_type": "code",
   "execution_count": 126,
   "id": "90092a64",
   "metadata": {},
   "outputs": [],
   "source": [
    "sam=driver.find_element(By.XPATH,\"/html/body/div[1]/div[1]/header/div/div[2]/div/nav/ul/li[3]/button\")\n",
    "sam.click()"
   ]
  },
  {
   "cell_type": "code",
   "execution_count": 130,
   "id": "041d8913",
   "metadata": {},
   "outputs": [],
   "source": [
    "r_urls=[]\n",
    "r_tit=[]\n",
    "r_des=[]\n",
    "r_con=[]\n",
    "r_lan=[]"
   ]
  },
  {
   "cell_type": "code",
   "execution_count": 133,
   "id": "3daa9369",
   "metadata": {},
   "outputs": [],
   "source": [
    "tit_tags=driver.find_elements(By.XPATH,\"//span[@class='text-normal']\")\n",
    "for i in tit_tags[0:]:\n",
    "    tit=i.text\n",
    "    r_tit.append(tit)"
   ]
  },
  {
   "cell_type": "code",
   "execution_count": 134,
   "id": "7da2c5c3",
   "metadata": {},
   "outputs": [
    {
     "data": {
      "text/plain": [
       "24"
      ]
     },
     "execution_count": 134,
     "metadata": {},
     "output_type": "execute_result"
    }
   ],
   "source": [
    "len(r_tit)"
   ]
  },
  {
   "cell_type": "code",
   "execution_count": 144,
   "id": "e2e6a690",
   "metadata": {},
   "outputs": [],
   "source": [
    "des_tags=driver.find_elements(By.XPATH,\"//p[@class='col-9 color-fg-muted my-1 pr-4']\")\n",
    "for i in des_tags[0:]:\n",
    "    des=i.text\n",
    "    r_des.append(des)"
   ]
  },
  {
   "cell_type": "code",
   "execution_count": 145,
   "id": "19c900b9",
   "metadata": {},
   "outputs": [
    {
     "data": {
      "text/plain": [
       "23"
      ]
     },
     "execution_count": 145,
     "metadata": {},
     "output_type": "execute_result"
    }
   ],
   "source": [
    "len(r_des)"
   ]
  },
  {
   "cell_type": "code",
   "execution_count": 147,
   "id": "c04d2f84",
   "metadata": {},
   "outputs": [],
   "source": [
    "con_tags=driver.find_elements(By.XPATH,\"//span[@class='d-inline-block mr-3']\")\n",
    "for i in con_tags[0:]:\n",
    "    con=i.text\n",
    "    r_con.append(con)"
   ]
  },
  {
   "cell_type": "code",
   "execution_count": 148,
   "id": "95551436",
   "metadata": {},
   "outputs": [
    {
     "data": {
      "text/plain": [
       "24"
      ]
     },
     "execution_count": 148,
     "metadata": {},
     "output_type": "execute_result"
    }
   ],
   "source": [
    "len(r_con)"
   ]
  },
  {
   "cell_type": "code",
   "execution_count": 150,
   "id": "b9f85f14",
   "metadata": {},
   "outputs": [],
   "source": [
    "lan_tags=driver.find_elements(By.XPATH,\"//span[@itemprop='programmingLanguage']\")\n",
    "for i in lan_tags[0:]:\n",
    "    lan=i.text\n",
    "    r_lan.append(lan)"
   ]
  },
  {
   "cell_type": "code",
   "execution_count": 151,
   "id": "eba0d0c0",
   "metadata": {},
   "outputs": [
    {
     "data": {
      "text/plain": [
       "23"
      ]
     },
     "execution_count": 151,
     "metadata": {},
     "output_type": "execute_result"
    }
   ],
   "source": [
    "len(r_lan)"
   ]
  },
  {
   "cell_type": "code",
   "execution_count": 153,
   "id": "37de5215",
   "metadata": {},
   "outputs": [
    {
     "data": {
      "text/html": [
       "<div>\n",
       "<style scoped>\n",
       "    .dataframe tbody tr th:only-of-type {\n",
       "        vertical-align: middle;\n",
       "    }\n",
       "\n",
       "    .dataframe tbody tr th {\n",
       "        vertical-align: top;\n",
       "    }\n",
       "\n",
       "    .dataframe thead th {\n",
       "        text-align: right;\n",
       "    }\n",
       "</style>\n",
       "<table border=\"1\" class=\"dataframe\">\n",
       "  <thead>\n",
       "    <tr style=\"text-align: right;\">\n",
       "      <th></th>\n",
       "      <th>Repository title</th>\n",
       "      <th>Repository description</th>\n",
       "      <th>Contributors count</th>\n",
       "      <th>Language used</th>\n",
       "    </tr>\n",
       "  </thead>\n",
       "  <tbody>\n",
       "    <tr>\n",
       "      <th>0</th>\n",
       "      <td>tatsu-lab /</td>\n",
       "      <td>Code and documentation to train Stanford's Alp...</td>\n",
       "      <td>Built by</td>\n",
       "      <td>Python</td>\n",
       "    </tr>\n",
       "    <tr>\n",
       "      <th>1</th>\n",
       "      <td>ggerganov /</td>\n",
       "      <td>Port of Facebook's LLaMA model in C/C++</td>\n",
       "      <td>Built by</td>\n",
       "      <td>C</td>\n",
       "    </tr>\n",
       "    <tr>\n",
       "      <th>2</th>\n",
       "      <td>togethercomputer /</td>\n",
       "      <td>Use ChatGPT to summarize the arXiv papers.</td>\n",
       "      <td>Built by</td>\n",
       "      <td>Python</td>\n",
       "    </tr>\n",
       "    <tr>\n",
       "      <th>3</th>\n",
       "      <td>kaixindelele /</td>\n",
       "      <td>SQL Translator is a tool for converting natura...</td>\n",
       "      <td>Built by</td>\n",
       "      <td>Python</td>\n",
       "    </tr>\n",
       "    <tr>\n",
       "      <th>4</th>\n",
       "      <td>whoiskatrin /</td>\n",
       "      <td>An open-source ChatGPT app with a voice</td>\n",
       "      <td>Built by</td>\n",
       "      <td>TypeScript</td>\n",
       "    </tr>\n",
       "    <tr>\n",
       "      <th>5</th>\n",
       "      <td>cogentapps /</td>\n",
       "      <td>A high-performance, zero-overhead, extensible ...</td>\n",
       "      <td>Built by</td>\n",
       "      <td>TypeScript</td>\n",
       "    </tr>\n",
       "    <tr>\n",
       "      <th>6</th>\n",
       "      <td>exaloop /</td>\n",
       "      <td>A powerful and modular stable diffusion GUI wi...</td>\n",
       "      <td>Built by</td>\n",
       "      <td>C++</td>\n",
       "    </tr>\n",
       "    <tr>\n",
       "      <th>7</th>\n",
       "      <td>comfyanonymous /</td>\n",
       "      <td>Everything required to run your own Base node</td>\n",
       "      <td>Built by</td>\n",
       "      <td>Python</td>\n",
       "    </tr>\n",
       "    <tr>\n",
       "      <th>8</th>\n",
       "      <td>base-org /</td>\n",
       "      <td>🕸 Web apps in pure Python 🐍</td>\n",
       "      <td>Built by</td>\n",
       "      <td>Shell</td>\n",
       "    </tr>\n",
       "    <tr>\n",
       "      <th>9</th>\n",
       "      <td>pynecone-io /</td>\n",
       "      <td>Create your own ChatGPT App in seconds.</td>\n",
       "      <td>Built by</td>\n",
       "      <td>Python</td>\n",
       "    </tr>\n",
       "    <tr>\n",
       "      <th>10</th>\n",
       "      <td>futantan /</td>\n",
       "      <td>Examples and guides for using the OpenAI API</td>\n",
       "      <td>Built by</td>\n",
       "      <td>TypeScript</td>\n",
       "    </tr>\n",
       "    <tr>\n",
       "      <th>11</th>\n",
       "      <td>openai /</td>\n",
       "      <td>A simple and open-source proxy API that allows...</td>\n",
       "      <td>Built by</td>\n",
       "      <td>Jupyter Notebook</td>\n",
       "    </tr>\n",
       "    <tr>\n",
       "      <th>12</th>\n",
       "      <td>ayaka14732 /</td>\n",
       "      <td>[CVPR'23] Universal Instance Perception as Obj...</td>\n",
       "      <td>Built by</td>\n",
       "      <td>JavaScript</td>\n",
       "    </tr>\n",
       "    <tr>\n",
       "      <th>13</th>\n",
       "      <td>MasterBin-IIAU /</td>\n",
       "      <td>The simplest way to run LLaMA on your local ma...</td>\n",
       "      <td>Built by</td>\n",
       "      <td>Python</td>\n",
       "    </tr>\n",
       "    <tr>\n",
       "      <th>14</th>\n",
       "      <td>cocktailpeanut /</td>\n",
       "      <td>Code and models for the paper \"One Transformer...</td>\n",
       "      <td>Built by</td>\n",
       "      <td>JavaScript</td>\n",
       "    </tr>\n",
       "    <tr>\n",
       "      <th>15</th>\n",
       "      <td>thu-ml /</td>\n",
       "      <td>这儿收集了一些免费好用的ChatGPT镜像站 当前：60个站点</td>\n",
       "      <td>Built by</td>\n",
       "      <td>Python</td>\n",
       "    </tr>\n",
       "    <tr>\n",
       "      <th>16</th>\n",
       "      <td>xx025 /</td>\n",
       "      <td>Display and control your Android device</td>\n",
       "      <td>Built by</td>\n",
       "      <td>C</td>\n",
       "    </tr>\n",
       "    <tr>\n",
       "      <th>17</th>\n",
       "      <td>Genymobile /</td>\n",
       "      <td>🆙 Upscayl - Free and Open Source AI Image Upsc...</td>\n",
       "      <td>Built by</td>\n",
       "      <td>TypeScript</td>\n",
       "    </tr>\n",
       "    <tr>\n",
       "      <th>18</th>\n",
       "      <td>upscayl /</td>\n",
       "      <td>拼多多事件的脱壳后的部分代码</td>\n",
       "      <td>Built by</td>\n",
       "      <td>C</td>\n",
       "    </tr>\n",
       "    <tr>\n",
       "      <th>19</th>\n",
       "      <td>poorjobless /</td>\n",
       "      <td>A CLI tool to get help with CLI tools 🐙</td>\n",
       "      <td>Built by</td>\n",
       "      <td>Rust</td>\n",
       "    </tr>\n",
       "    <tr>\n",
       "      <th>20</th>\n",
       "      <td>orhun /</td>\n",
       "      <td>Reverse engineered API of Microsoft's Bing Chat</td>\n",
       "      <td>Built by</td>\n",
       "      <td>Python</td>\n",
       "    </tr>\n",
       "    <tr>\n",
       "      <th>21</th>\n",
       "      <td>acheong08 /</td>\n",
       "      <td>High-performance GPGPU inference of OpenAI's W...</td>\n",
       "      <td>Built by</td>\n",
       "      <td>C++</td>\n",
       "    </tr>\n",
       "  </tbody>\n",
       "</table>\n",
       "</div>"
      ],
      "text/plain": [
       "      Repository title                             Repository description  \\\n",
       "0          tatsu-lab /  Code and documentation to train Stanford's Alp...   \n",
       "1          ggerganov /            Port of Facebook's LLaMA model in C/C++   \n",
       "2   togethercomputer /         Use ChatGPT to summarize the arXiv papers.   \n",
       "3       kaixindelele /  SQL Translator is a tool for converting natura...   \n",
       "4        whoiskatrin /            An open-source ChatGPT app with a voice   \n",
       "5         cogentapps /  A high-performance, zero-overhead, extensible ...   \n",
       "6            exaloop /  A powerful and modular stable diffusion GUI wi...   \n",
       "7     comfyanonymous /      Everything required to run your own Base node   \n",
       "8           base-org /                        🕸 Web apps in pure Python 🐍   \n",
       "9        pynecone-io /            Create your own ChatGPT App in seconds.   \n",
       "10          futantan /       Examples and guides for using the OpenAI API   \n",
       "11            openai /  A simple and open-source proxy API that allows...   \n",
       "12        ayaka14732 /  [CVPR'23] Universal Instance Perception as Obj...   \n",
       "13    MasterBin-IIAU /  The simplest way to run LLaMA on your local ma...   \n",
       "14    cocktailpeanut /  Code and models for the paper \"One Transformer...   \n",
       "15            thu-ml /                    这儿收集了一些免费好用的ChatGPT镜像站 当前：60个站点   \n",
       "16             xx025 /            Display and control your Android device   \n",
       "17        Genymobile /  🆙 Upscayl - Free and Open Source AI Image Upsc...   \n",
       "18           upscayl /                                     拼多多事件的脱壳后的部分代码   \n",
       "19       poorjobless /            A CLI tool to get help with CLI tools 🐙   \n",
       "20             orhun /    Reverse engineered API of Microsoft's Bing Chat   \n",
       "21         acheong08 /  High-performance GPGPU inference of OpenAI's W...   \n",
       "\n",
       "   Contributors count     Language used  \n",
       "0            Built by            Python  \n",
       "1            Built by                 C  \n",
       "2            Built by            Python  \n",
       "3            Built by            Python  \n",
       "4            Built by        TypeScript  \n",
       "5            Built by        TypeScript  \n",
       "6            Built by               C++  \n",
       "7            Built by            Python  \n",
       "8            Built by             Shell  \n",
       "9            Built by            Python  \n",
       "10           Built by        TypeScript  \n",
       "11           Built by  Jupyter Notebook  \n",
       "12           Built by        JavaScript  \n",
       "13           Built by            Python  \n",
       "14           Built by        JavaScript  \n",
       "15           Built by            Python  \n",
       "16           Built by                 C  \n",
       "17           Built by        TypeScript  \n",
       "18           Built by                 C  \n",
       "19           Built by              Rust  \n",
       "20           Built by            Python  \n",
       "21           Built by               C++  "
      ]
     },
     "execution_count": 153,
     "metadata": {},
     "output_type": "execute_result"
    }
   ],
   "source": [
    "df=pd.DataFrame({\"Repository title\":r_tit[0:22],\"Repository description\":r_des[0:22],\n",
    "                \"Contributors count\":r_con[0:22],\"Language used\":r_lan[0:22]})\n",
    "df"
   ]
  },
  {
   "cell_type": "code",
   "execution_count": null,
   "id": "52db105c",
   "metadata": {},
   "outputs": [],
   "source": []
  },
  {
   "cell_type": "markdown",
   "id": "7baa31f2",
   "metadata": {},
   "source": [
    "# SIXTH QUESTION ANSWER"
   ]
  },
  {
   "cell_type": "code",
   "execution_count": 47,
   "id": "f0fdd102",
   "metadata": {},
   "outputs": [],
   "source": [
    "import pandas as pd \n",
    "import selenium\n",
    "from bs4 import BeautifulSoup\n",
    "from selenium.common.exceptions import StaleElementReferenceException, NoSuchElementException"
   ]
  },
  {
   "cell_type": "code",
   "execution_count": 48,
   "id": "f91ca40b",
   "metadata": {},
   "outputs": [],
   "source": [
    "from selenium import webdriver\n",
    "import warnings\n",
    "warnings.filterwarnings('ignore')\n",
    "from selenium.webdriver.common.by import By\n",
    "import time"
   ]
  },
  {
   "cell_type": "code",
   "execution_count": 49,
   "id": "1f191d2a",
   "metadata": {},
   "outputs": [],
   "source": [
    "driver = webdriver.Chrome()"
   ]
  },
  {
   "cell_type": "code",
   "execution_count": 50,
   "id": "168a63c8",
   "metadata": {},
   "outputs": [],
   "source": [
    "driver.get(\"https://www.theguardian.com/news/datablog/2012/aug/09/best-selling-books-all-time-fifty-shades-grey-compare\")"
   ]
  },
  {
   "cell_type": "code",
   "execution_count": 51,
   "id": "fc5e3af8",
   "metadata": {},
   "outputs": [],
   "source": [
    "b_nam=[]\n",
    "b_aut=[]\n",
    "b_vol=[]\n",
    "b_pub=[]\n",
    "b_gen=[]"
   ]
  },
  {
   "cell_type": "code",
   "execution_count": 52,
   "id": "15208861",
   "metadata": {},
   "outputs": [],
   "source": [
    "nam_tags=driver.find_elements(By.XPATH,\"//table[@class='in-article sortable']/tbody/tr/td[2]\")\n",
    "for i in nam_tags[0:]:\n",
    "    nam=i.text\n",
    "    b_nam.append(nam)"
   ]
  },
  {
   "cell_type": "code",
   "execution_count": 53,
   "id": "ff5c1a60",
   "metadata": {},
   "outputs": [
    {
     "data": {
      "text/plain": [
       "100"
      ]
     },
     "execution_count": 53,
     "metadata": {},
     "output_type": "execute_result"
    }
   ],
   "source": [
    "len(b_nam)"
   ]
  },
  {
   "cell_type": "code",
   "execution_count": 55,
   "id": "8c26aef2",
   "metadata": {},
   "outputs": [],
   "source": [
    "aut_tags=driver.find_elements(By.XPATH,\"//table[@class='in-article sortable']/tbody/tr/td[3]\")\n",
    "for i in aut_tags[0:]:\n",
    "    aut=i.text\n",
    "    b_aut.append(aut)"
   ]
  },
  {
   "cell_type": "code",
   "execution_count": 57,
   "id": "581f1cd8",
   "metadata": {},
   "outputs": [
    {
     "data": {
      "text/plain": [
       "100"
      ]
     },
     "execution_count": 57,
     "metadata": {},
     "output_type": "execute_result"
    }
   ],
   "source": [
    "len(b_aut)"
   ]
  },
  {
   "cell_type": "code",
   "execution_count": 58,
   "id": "28f9d399",
   "metadata": {},
   "outputs": [],
   "source": [
    "vol_tags=driver.find_elements(By.XPATH,\"//table[@class='in-article sortable']/tbody/tr/td[4]\")\n",
    "for i in vol_tags[0:]:\n",
    "    vol=i.text\n",
    "    b_vol.append(vol)"
   ]
  },
  {
   "cell_type": "code",
   "execution_count": 59,
   "id": "71b524f9",
   "metadata": {},
   "outputs": [
    {
     "data": {
      "text/plain": [
       "100"
      ]
     },
     "execution_count": 59,
     "metadata": {},
     "output_type": "execute_result"
    }
   ],
   "source": [
    "len(b_vol)"
   ]
  },
  {
   "cell_type": "code",
   "execution_count": 60,
   "id": "1a9e7edd",
   "metadata": {},
   "outputs": [],
   "source": [
    "pub_tags=driver.find_elements(By.XPATH,\"//table[@class='in-article sortable']/tbody/tr/td[5]\")\n",
    "for i in pub_tags[0:]:\n",
    "    pub=i.text\n",
    "    b_pub.append(pub)"
   ]
  },
  {
   "cell_type": "code",
   "execution_count": 61,
   "id": "536254a9",
   "metadata": {},
   "outputs": [
    {
     "data": {
      "text/plain": [
       "100"
      ]
     },
     "execution_count": 61,
     "metadata": {},
     "output_type": "execute_result"
    }
   ],
   "source": [
    "len(b_pub)"
   ]
  },
  {
   "cell_type": "code",
   "execution_count": 62,
   "id": "aa513424",
   "metadata": {},
   "outputs": [],
   "source": [
    "gen_tags=driver.find_elements(By.XPATH,\"//table[@class='in-article sortable']/tbody/tr/td[6]\")\n",
    "for i in gen_tags[0:]:\n",
    "    gen=i.text\n",
    "    b_gen.append(gen)"
   ]
  },
  {
   "cell_type": "code",
   "execution_count": 63,
   "id": "3415c7e0",
   "metadata": {},
   "outputs": [
    {
     "data": {
      "text/plain": [
       "100"
      ]
     },
     "execution_count": 63,
     "metadata": {},
     "output_type": "execute_result"
    }
   ],
   "source": [
    "len(b_gen)"
   ]
  },
  {
   "cell_type": "code",
   "execution_count": 66,
   "id": "32a046b6",
   "metadata": {},
   "outputs": [
    {
     "data": {
      "text/html": [
       "<div>\n",
       "<style scoped>\n",
       "    .dataframe tbody tr th:only-of-type {\n",
       "        vertical-align: middle;\n",
       "    }\n",
       "\n",
       "    .dataframe tbody tr th {\n",
       "        vertical-align: top;\n",
       "    }\n",
       "\n",
       "    .dataframe thead th {\n",
       "        text-align: right;\n",
       "    }\n",
       "</style>\n",
       "<table border=\"1\" class=\"dataframe\">\n",
       "  <thead>\n",
       "    <tr style=\"text-align: right;\">\n",
       "      <th></th>\n",
       "      <th>Book name</th>\n",
       "      <th>Author name</th>\n",
       "      <th>Volumes sold</th>\n",
       "      <th>Publisher</th>\n",
       "      <th>Genre</th>\n",
       "    </tr>\n",
       "  </thead>\n",
       "  <tbody>\n",
       "    <tr>\n",
       "      <th>0</th>\n",
       "      <td>Da Vinci Code,The</td>\n",
       "      <td>Brown, Dan</td>\n",
       "      <td>5,094,805</td>\n",
       "      <td>Transworld</td>\n",
       "      <td>Crime, Thriller &amp; Adventure</td>\n",
       "    </tr>\n",
       "    <tr>\n",
       "      <th>1</th>\n",
       "      <td>Harry Potter and the Deathly Hallows</td>\n",
       "      <td>Rowling, J.K.</td>\n",
       "      <td>4,475,152</td>\n",
       "      <td>Bloomsbury</td>\n",
       "      <td>Children's Fiction</td>\n",
       "    </tr>\n",
       "    <tr>\n",
       "      <th>2</th>\n",
       "      <td>Harry Potter and the Philosopher's Stone</td>\n",
       "      <td>Rowling, J.K.</td>\n",
       "      <td>4,200,654</td>\n",
       "      <td>Bloomsbury</td>\n",
       "      <td>Children's Fiction</td>\n",
       "    </tr>\n",
       "    <tr>\n",
       "      <th>3</th>\n",
       "      <td>Harry Potter and the Order of the Phoenix</td>\n",
       "      <td>Rowling, J.K.</td>\n",
       "      <td>4,179,479</td>\n",
       "      <td>Bloomsbury</td>\n",
       "      <td>Children's Fiction</td>\n",
       "    </tr>\n",
       "    <tr>\n",
       "      <th>4</th>\n",
       "      <td>Fifty Shades of Grey</td>\n",
       "      <td>James, E. L.</td>\n",
       "      <td>3,758,936</td>\n",
       "      <td>Random House</td>\n",
       "      <td>Romance &amp; Sagas</td>\n",
       "    </tr>\n",
       "    <tr>\n",
       "      <th>...</th>\n",
       "      <td>...</td>\n",
       "      <td>...</td>\n",
       "      <td>...</td>\n",
       "      <td>...</td>\n",
       "      <td>...</td>\n",
       "    </tr>\n",
       "    <tr>\n",
       "      <th>95</th>\n",
       "      <td>Ghost,The</td>\n",
       "      <td>Harris, Robert</td>\n",
       "      <td>807,311</td>\n",
       "      <td>Random House</td>\n",
       "      <td>General &amp; Literary Fiction</td>\n",
       "    </tr>\n",
       "    <tr>\n",
       "      <th>96</th>\n",
       "      <td>Happy Days with the Naked Chef</td>\n",
       "      <td>Oliver, Jamie</td>\n",
       "      <td>794,201</td>\n",
       "      <td>Penguin</td>\n",
       "      <td>Food &amp; Drink: General</td>\n",
       "    </tr>\n",
       "    <tr>\n",
       "      <th>97</th>\n",
       "      <td>Hunger Games,The:Hunger Games Trilogy</td>\n",
       "      <td>Collins, Suzanne</td>\n",
       "      <td>792,187</td>\n",
       "      <td>Scholastic Ltd.</td>\n",
       "      <td>Young Adult Fiction</td>\n",
       "    </tr>\n",
       "    <tr>\n",
       "      <th>98</th>\n",
       "      <td>Lost Boy,The:A Foster Child's Search for the L...</td>\n",
       "      <td>Pelzer, Dave</td>\n",
       "      <td>791,507</td>\n",
       "      <td>Orion</td>\n",
       "      <td>Biography: General</td>\n",
       "    </tr>\n",
       "    <tr>\n",
       "      <th>99</th>\n",
       "      <td>Jamie's Ministry of Food:Anyone Can Learn to C...</td>\n",
       "      <td>Oliver, Jamie</td>\n",
       "      <td>791,095</td>\n",
       "      <td>Penguin</td>\n",
       "      <td>Food &amp; Drink: General</td>\n",
       "    </tr>\n",
       "  </tbody>\n",
       "</table>\n",
       "<p>100 rows × 5 columns</p>\n",
       "</div>"
      ],
      "text/plain": [
       "                                            Book name       Author name  \\\n",
       "0                                   Da Vinci Code,The        Brown, Dan   \n",
       "1                Harry Potter and the Deathly Hallows     Rowling, J.K.   \n",
       "2            Harry Potter and the Philosopher's Stone     Rowling, J.K.   \n",
       "3           Harry Potter and the Order of the Phoenix     Rowling, J.K.   \n",
       "4                                Fifty Shades of Grey      James, E. L.   \n",
       "..                                                ...               ...   \n",
       "95                                          Ghost,The    Harris, Robert   \n",
       "96                     Happy Days with the Naked Chef     Oliver, Jamie   \n",
       "97              Hunger Games,The:Hunger Games Trilogy  Collins, Suzanne   \n",
       "98  Lost Boy,The:A Foster Child's Search for the L...      Pelzer, Dave   \n",
       "99  Jamie's Ministry of Food:Anyone Can Learn to C...     Oliver, Jamie   \n",
       "\n",
       "   Volumes sold        Publisher                        Genre  \n",
       "0     5,094,805       Transworld  Crime, Thriller & Adventure  \n",
       "1     4,475,152       Bloomsbury           Children's Fiction  \n",
       "2     4,200,654       Bloomsbury           Children's Fiction  \n",
       "3     4,179,479       Bloomsbury           Children's Fiction  \n",
       "4     3,758,936     Random House              Romance & Sagas  \n",
       "..          ...              ...                          ...  \n",
       "95      807,311     Random House   General & Literary Fiction  \n",
       "96      794,201          Penguin        Food & Drink: General  \n",
       "97      792,187  Scholastic Ltd.          Young Adult Fiction  \n",
       "98      791,507            Orion           Biography: General  \n",
       "99      791,095          Penguin        Food & Drink: General  \n",
       "\n",
       "[100 rows x 5 columns]"
      ]
     },
     "execution_count": 66,
     "metadata": {},
     "output_type": "execute_result"
    }
   ],
   "source": [
    "df=pd.DataFrame({\"Book name\": b_nam,\"Author name\":b_aut,\"Volumes sold\":b_vol,\"Publisher\":b_pub,\n",
    "               \"Genre\":b_gen})\n",
    "df"
   ]
  },
  {
   "cell_type": "code",
   "execution_count": null,
   "id": "0f8c92b1",
   "metadata": {},
   "outputs": [],
   "source": []
  },
  {
   "cell_type": "markdown",
   "id": "22ebf68c",
   "metadata": {},
   "source": [
    "# SEVENTH QUESTION ANSWER"
   ]
  },
  {
   "cell_type": "code",
   "execution_count": 186,
   "id": "a44706b8",
   "metadata": {},
   "outputs": [],
   "source": [
    "import pandas as pd \n",
    "import selenium\n",
    "from bs4 import BeautifulSoup\n",
    "from selenium.common.exceptions import StaleElementReferenceException, NoSuchElementException\n"
   ]
  },
  {
   "cell_type": "code",
   "execution_count": 187,
   "id": "446fa56f",
   "metadata": {},
   "outputs": [],
   "source": [
    "from selenium import webdriver\n",
    "import warnings\n",
    "warnings.filterwarnings('ignore')\n",
    "from selenium.webdriver.common.by import By\n",
    "import time"
   ]
  },
  {
   "cell_type": "code",
   "execution_count": 188,
   "id": "e261218a",
   "metadata": {},
   "outputs": [],
   "source": [
    "driver = webdriver.Chrome()"
   ]
  },
  {
   "cell_type": "code",
   "execution_count": 189,
   "id": "5bfc1d68",
   "metadata": {},
   "outputs": [],
   "source": [
    "driver.get(\"http://www.imdb.com/list/ls095964455/\")"
   ]
  },
  {
   "cell_type": "code",
   "execution_count": 190,
   "id": "7ce0db9a",
   "metadata": {},
   "outputs": [],
   "source": [
    "m_nam=[]\n",
    "m_yea=[]\n",
    "m_gen=[]\n",
    "m_run=[]\n",
    "m_rat=[]\n",
    "m_vot=[]"
   ]
  },
  {
   "cell_type": "code",
   "execution_count": 191,
   "id": "0d186b2d",
   "metadata": {},
   "outputs": [],
   "source": [
    "try:\n",
    "    yea_tags=driver.find_elements(By.XPATH,\"//span[@class='lister-item-year text-muted unbold']\")\n",
    "    for i in yea_tags[0:]:\n",
    "        yea=i.text\n",
    "        m_yea.append(yea)\n",
    "        \n",
    "except:\n",
    "    yea = \"-\"\n",
    "    m_yea.append(yea)"
   ]
  },
  {
   "cell_type": "code",
   "execution_count": 192,
   "id": "b835a527",
   "metadata": {},
   "outputs": [
    {
     "data": {
      "text/plain": [
       "100"
      ]
     },
     "execution_count": 192,
     "metadata": {},
     "output_type": "execute_result"
    }
   ],
   "source": [
    "len(m_yea)"
   ]
  },
  {
   "cell_type": "code",
   "execution_count": 193,
   "id": "22164d0f",
   "metadata": {},
   "outputs": [],
   "source": [
    "try:\n",
    "    run_tags=driver.find_elements(By.XPATH,\"//span[@class='runtime']\")\n",
    "    for i in run_tags[0:]:\n",
    "        run=i.text\n",
    "        m_run.append(run)\n",
    "except:\n",
    "    run = \"-\"\n",
    "    m_run.append(run)"
   ]
  },
  {
   "cell_type": "code",
   "execution_count": 194,
   "id": "5790c153",
   "metadata": {},
   "outputs": [
    {
     "data": {
      "text/plain": [
       "100"
      ]
     },
     "execution_count": 194,
     "metadata": {},
     "output_type": "execute_result"
    }
   ],
   "source": [
    "len(m_run)"
   ]
  },
  {
   "cell_type": "code",
   "execution_count": 195,
   "id": "be3eb2a5",
   "metadata": {},
   "outputs": [],
   "source": [
    "try:\n",
    "    rat_tags=driver.find_elements(By.XPATH,\"//div[@class='ipl-rating-widget']\")\n",
    "    for i in rat_tags[0:]:\n",
    "        rat=i.text\n",
    "        m_rat.append(rat)\n",
    "except:\n",
    "    rat = \"-\"\n",
    "    m_rat.append(rat)"
   ]
  },
  {
   "cell_type": "code",
   "execution_count": 196,
   "id": "af17e887",
   "metadata": {},
   "outputs": [
    {
     "data": {
      "text/plain": [
       "100"
      ]
     },
     "execution_count": 196,
     "metadata": {},
     "output_type": "execute_result"
    }
   ],
   "source": [
    "len(m_rat)"
   ]
  },
  {
   "cell_type": "code",
   "execution_count": 197,
   "id": "7fd44e59",
   "metadata": {},
   "outputs": [],
   "source": [
    "try:\n",
    "    gen_tags=driver.find_elements(By.XPATH,\"//span[@class='genre']\")\n",
    "    for i in gen_tags[0:]:\n",
    "        gen=i.text\n",
    "        m_gen.append(gen)\n",
    "except:\n",
    "    gen = \"-\"\n",
    "    m_gen.append(gen)"
   ]
  },
  {
   "cell_type": "code",
   "execution_count": 198,
   "id": "8ba275c9",
   "metadata": {},
   "outputs": [
    {
     "data": {
      "text/plain": [
       "100"
      ]
     },
     "execution_count": 198,
     "metadata": {},
     "output_type": "execute_result"
    }
   ],
   "source": [
    "len(m_gen)"
   ]
  },
  {
   "cell_type": "code",
   "execution_count": 199,
   "id": "bf5aee3b",
   "metadata": {},
   "outputs": [],
   "source": [
    "try:\n",
    "    vot_tags=driver.find_elements(By.XPATH,\"//span[@name='nv']\")\n",
    "    for i in vot_tags[0:]:\n",
    "        vot=i.text\n",
    "        m_vot.append(vot)\n",
    "except:\n",
    "    vot = \"-\"\n",
    "    m_vot.append(vot)"
   ]
  },
  {
   "cell_type": "code",
   "execution_count": 200,
   "id": "e3af72a4",
   "metadata": {},
   "outputs": [
    {
     "data": {
      "text/plain": [
       "100"
      ]
     },
     "execution_count": 200,
     "metadata": {},
     "output_type": "execute_result"
    }
   ],
   "source": [
    "len(m_vot)"
   ]
  },
  {
   "cell_type": "code",
   "execution_count": 201,
   "id": "0a7bcf55",
   "metadata": {},
   "outputs": [],
   "source": [
    "try:\n",
    "    nam_tags=driver.find_elements(By.XPATH,\"//div[@class='lister-item-content']/h3/a\")\n",
    "    for i in nam_tags[0:]:\n",
    "        nam=i.text\n",
    "        m_nam.append(nam)\n",
    "except:\n",
    "    nam = \"-\"\n",
    "    m_nam.append(nam)"
   ]
  },
  {
   "cell_type": "code",
   "execution_count": 202,
   "id": "83c67790",
   "metadata": {},
   "outputs": [
    {
     "data": {
      "text/plain": [
       "100"
      ]
     },
     "execution_count": 202,
     "metadata": {},
     "output_type": "execute_result"
    }
   ],
   "source": [
    "len(m_nam)"
   ]
  },
  {
   "cell_type": "code",
   "execution_count": 206,
   "id": "bb6df37a",
   "metadata": {},
   "outputs": [
    {
     "data": {
      "text/html": [
       "<div>\n",
       "<style scoped>\n",
       "    .dataframe tbody tr th:only-of-type {\n",
       "        vertical-align: middle;\n",
       "    }\n",
       "\n",
       "    .dataframe tbody tr th {\n",
       "        vertical-align: top;\n",
       "    }\n",
       "\n",
       "    .dataframe thead th {\n",
       "        text-align: right;\n",
       "    }\n",
       "</style>\n",
       "<table border=\"1\" class=\"dataframe\">\n",
       "  <thead>\n",
       "    <tr style=\"text-align: right;\">\n",
       "      <th></th>\n",
       "      <th>Name</th>\n",
       "      <th>Year span</th>\n",
       "      <th>Genre</th>\n",
       "      <th>Run time</th>\n",
       "      <th>Rating</th>\n",
       "      <th>Votes</th>\n",
       "    </tr>\n",
       "  </thead>\n",
       "  <tbody>\n",
       "    <tr>\n",
       "      <th>0</th>\n",
       "      <td>Game of Thrones</td>\n",
       "      <td>(2011–2019)</td>\n",
       "      <td>Action, Adventure, Drama</td>\n",
       "      <td>57 min</td>\n",
       "      <td>9.2\\nRate</td>\n",
       "      <td>2,137,023</td>\n",
       "    </tr>\n",
       "    <tr>\n",
       "      <th>1</th>\n",
       "      <td>Stranger Things</td>\n",
       "      <td>(2016–2024)</td>\n",
       "      <td>Drama, Fantasy, Horror</td>\n",
       "      <td>51 min</td>\n",
       "      <td>8.7\\nRate</td>\n",
       "      <td>1,222,141</td>\n",
       "    </tr>\n",
       "    <tr>\n",
       "      <th>2</th>\n",
       "      <td>The Walking Dead</td>\n",
       "      <td>(2010–2022)</td>\n",
       "      <td>Drama, Horror, Thriller</td>\n",
       "      <td>44 min</td>\n",
       "      <td>8.1\\nRate</td>\n",
       "      <td>1,014,430</td>\n",
       "    </tr>\n",
       "    <tr>\n",
       "      <th>3</th>\n",
       "      <td>13 Reasons Why</td>\n",
       "      <td>(2017–2020)</td>\n",
       "      <td>Drama, Mystery, Thriller</td>\n",
       "      <td>60 min</td>\n",
       "      <td>7.5\\nRate</td>\n",
       "      <td>298,853</td>\n",
       "    </tr>\n",
       "    <tr>\n",
       "      <th>4</th>\n",
       "      <td>The 100</td>\n",
       "      <td>(2014–2020)</td>\n",
       "      <td>Drama, Mystery, Sci-Fi</td>\n",
       "      <td>43 min</td>\n",
       "      <td>7.6\\nRate</td>\n",
       "      <td>257,723</td>\n",
       "    </tr>\n",
       "    <tr>\n",
       "      <th>...</th>\n",
       "      <td>...</td>\n",
       "      <td>...</td>\n",
       "      <td>...</td>\n",
       "      <td>...</td>\n",
       "      <td>...</td>\n",
       "      <td>...</td>\n",
       "    </tr>\n",
       "    <tr>\n",
       "      <th>95</th>\n",
       "      <td>Reign</td>\n",
       "      <td>(2013–2017)</td>\n",
       "      <td>Drama</td>\n",
       "      <td>42 min</td>\n",
       "      <td>7.4\\nRate</td>\n",
       "      <td>50,995</td>\n",
       "    </tr>\n",
       "    <tr>\n",
       "      <th>96</th>\n",
       "      <td>A Series of Unfortunate Events</td>\n",
       "      <td>(2017–2019)</td>\n",
       "      <td>Adventure, Comedy, Drama</td>\n",
       "      <td>50 min</td>\n",
       "      <td>7.8\\nRate</td>\n",
       "      <td>62,997</td>\n",
       "    </tr>\n",
       "    <tr>\n",
       "      <th>97</th>\n",
       "      <td>Criminal Minds</td>\n",
       "      <td>(2005– )</td>\n",
       "      <td>Crime, Drama, Mystery</td>\n",
       "      <td>42 min</td>\n",
       "      <td>8.1\\nRate</td>\n",
       "      <td>204,782</td>\n",
       "    </tr>\n",
       "    <tr>\n",
       "      <th>98</th>\n",
       "      <td>Scream: The TV Series</td>\n",
       "      <td>(2015–2019)</td>\n",
       "      <td>Comedy, Crime, Drama</td>\n",
       "      <td>45 min</td>\n",
       "      <td>7.1\\nRate</td>\n",
       "      <td>42,395</td>\n",
       "    </tr>\n",
       "    <tr>\n",
       "      <th>99</th>\n",
       "      <td>The Haunting of Hill House</td>\n",
       "      <td>(2018)</td>\n",
       "      <td>Drama, Horror, Mystery</td>\n",
       "      <td>572 min</td>\n",
       "      <td>8.6\\nRate</td>\n",
       "      <td>253,368</td>\n",
       "    </tr>\n",
       "  </tbody>\n",
       "</table>\n",
       "<p>100 rows × 6 columns</p>\n",
       "</div>"
      ],
      "text/plain": [
       "                              Name    Year span                     Genre  \\\n",
       "0                  Game of Thrones  (2011–2019)  Action, Adventure, Drama   \n",
       "1                  Stranger Things  (2016–2024)    Drama, Fantasy, Horror   \n",
       "2                 The Walking Dead  (2010–2022)   Drama, Horror, Thriller   \n",
       "3                   13 Reasons Why  (2017–2020)  Drama, Mystery, Thriller   \n",
       "4                          The 100  (2014–2020)    Drama, Mystery, Sci-Fi   \n",
       "..                             ...          ...                       ...   \n",
       "95                           Reign  (2013–2017)                     Drama   \n",
       "96  A Series of Unfortunate Events  (2017–2019)  Adventure, Comedy, Drama   \n",
       "97                  Criminal Minds     (2005– )     Crime, Drama, Mystery   \n",
       "98           Scream: The TV Series  (2015–2019)      Comedy, Crime, Drama   \n",
       "99      The Haunting of Hill House       (2018)    Drama, Horror, Mystery   \n",
       "\n",
       "   Run time     Rating      Votes  \n",
       "0    57 min  9.2\\nRate  2,137,023  \n",
       "1    51 min  8.7\\nRate  1,222,141  \n",
       "2    44 min  8.1\\nRate  1,014,430  \n",
       "3    60 min  7.5\\nRate    298,853  \n",
       "4    43 min  7.6\\nRate    257,723  \n",
       "..      ...        ...        ...  \n",
       "95   42 min  7.4\\nRate     50,995  \n",
       "96   50 min  7.8\\nRate     62,997  \n",
       "97   42 min  8.1\\nRate    204,782  \n",
       "98   45 min  7.1\\nRate     42,395  \n",
       "99  572 min  8.6\\nRate    253,368  \n",
       "\n",
       "[100 rows x 6 columns]"
      ]
     },
     "execution_count": 206,
     "metadata": {},
     "output_type": "execute_result"
    }
   ],
   "source": [
    "df=pd.DataFrame({\"Name\":m_nam,\"Year span\":m_yea,\"Genre\":m_gen,\n",
    "                \"Run time\":m_run,\"Rating\":m_rat,\n",
    "                \"Votes\":m_vot})\n",
    "df"
   ]
  },
  {
   "cell_type": "code",
   "execution_count": null,
   "id": "86ed9e29",
   "metadata": {},
   "outputs": [],
   "source": []
  },
  {
   "cell_type": "markdown",
   "id": "fe130438",
   "metadata": {},
   "source": [
    "# EIGHT QUESTION ANSWER "
   ]
  },
  {
   "cell_type": "code",
   "execution_count": 281,
   "id": "92c37cb7",
   "metadata": {},
   "outputs": [],
   "source": [
    "import pandas as pd \n",
    "import selenium\n",
    "from bs4 import BeautifulSoup\n",
    "from selenium.common.exceptions import StaleElementReferenceException, NoSuchElementException\n"
   ]
  },
  {
   "cell_type": "code",
   "execution_count": 282,
   "id": "6612c91c",
   "metadata": {},
   "outputs": [],
   "source": [
    "from selenium import webdriver\n",
    "import warnings\n",
    "warnings.filterwarnings('ignore')\n",
    "from selenium.webdriver.common.by import By\n",
    "import time"
   ]
  },
  {
   "cell_type": "code",
   "execution_count": null,
   "id": "0d0a8bb8",
   "metadata": {},
   "outputs": [],
   "source": [
    "driver = webdriver.Chrome()"
   ]
  },
  {
   "cell_type": "code",
   "execution_count": 284,
   "id": "cf24d033",
   "metadata": {},
   "outputs": [],
   "source": [
    "driver.get(\"https://archive.ics.uci.edu/\")"
   ]
  },
  {
   "cell_type": "code",
   "execution_count": 285,
   "id": "cb91077d",
   "metadata": {},
   "outputs": [],
   "source": [
    "jes=driver.find_element(By.XPATH,\"/html/body/table[2]/tbody/tr/td/span/b/a\")\n",
    "jes.click()"
   ]
  },
  {
   "cell_type": "code",
   "execution_count": 286,
   "id": "98d9d1cf",
   "metadata": {},
   "outputs": [],
   "source": [
    "d_typ=[]\n",
    "d_nam=[]\n",
    "d_att=[]\n",
    "d_tas=[]\n",
    "d_ins=[]\n",
    "d_yea=[]\n",
    "d_noa=[]"
   ]
  },
  {
   "cell_type": "code",
   "execution_count": 287,
   "id": "bb3b6895",
   "metadata": {},
   "outputs": [],
   "source": [
    "nam_tags=driver.find_elements(By.XPATH,\"//table[@border='1']/tbody/tr/td[1]\")\n",
    "for i in nam_tags[0:]:\n",
    "    nam=i.text\n",
    "    d_nam.append(nam)"
   ]
  },
  {
   "cell_type": "code",
   "execution_count": 288,
   "id": "63d53fc5",
   "metadata": {},
   "outputs": [
    {
     "data": {
      "text/plain": [
       "623"
      ]
     },
     "execution_count": 288,
     "metadata": {},
     "output_type": "execute_result"
    }
   ],
   "source": [
    "len(d_nam)"
   ]
  },
  {
   "cell_type": "code",
   "execution_count": 289,
   "id": "a288c6b8",
   "metadata": {},
   "outputs": [],
   "source": [
    "typ_tags=driver.find_elements(By.XPATH,\"//table[@border='1']/tbody/tr/td[2]\")\n",
    "for i in typ_tags[0:]:\n",
    "    typ=i.text\n",
    "    d_typ.append(typ)"
   ]
  },
  {
   "cell_type": "code",
   "execution_count": 290,
   "id": "13f6ea46",
   "metadata": {},
   "outputs": [
    {
     "data": {
      "text/plain": [
       "623"
      ]
     },
     "execution_count": 290,
     "metadata": {},
     "output_type": "execute_result"
    }
   ],
   "source": [
    "len(d_typ)"
   ]
  },
  {
   "cell_type": "code",
   "execution_count": 291,
   "id": "6293598f",
   "metadata": {},
   "outputs": [],
   "source": [
    "tas_tags=driver.find_elements(By.XPATH,\"//table[@border='1']/tbody/tr/td[3]\")\n",
    "for i in tas_tags[0:]:\n",
    "    tas=i.text\n",
    "    d_tas.append(tas)"
   ]
  },
  {
   "cell_type": "code",
   "execution_count": 292,
   "id": "abd50b3e",
   "metadata": {},
   "outputs": [
    {
     "data": {
      "text/plain": [
       "623"
      ]
     },
     "execution_count": 292,
     "metadata": {},
     "output_type": "execute_result"
    }
   ],
   "source": [
    "len(d_tas)"
   ]
  },
  {
   "cell_type": "code",
   "execution_count": 293,
   "id": "39657a19",
   "metadata": {},
   "outputs": [],
   "source": [
    "att_tags=driver.find_elements(By.XPATH,\"//table[@border='1']/tbody/tr/td[4]\")\n",
    "for i in att_tags[0:]:\n",
    "    att=i.text\n",
    "    d_att.append(att)"
   ]
  },
  {
   "cell_type": "code",
   "execution_count": 294,
   "id": "a03b1f2a",
   "metadata": {},
   "outputs": [
    {
     "data": {
      "text/plain": [
       "623"
      ]
     },
     "execution_count": 294,
     "metadata": {},
     "output_type": "execute_result"
    }
   ],
   "source": [
    "len(d_att)"
   ]
  },
  {
   "cell_type": "code",
   "execution_count": 295,
   "id": "5005764c",
   "metadata": {},
   "outputs": [],
   "source": [
    "try:\n",
    "    \n",
    "    ins_tags=driver.find_elements(By.XPATH,\"//table[@border='1']/tbody/tr/td[5]\")\n",
    "    for i in ins_tags[0:]:\n",
    "        ins=i.text\n",
    "        d_ins.append(ins)\n",
    "except:\n",
    "    ins = \"-\"\n",
    "    d_ins.append(ins)"
   ]
  },
  {
   "cell_type": "code",
   "execution_count": 296,
   "id": "c57c9dbe",
   "metadata": {},
   "outputs": [
    {
     "data": {
      "text/plain": [
       "623"
      ]
     },
     "execution_count": 296,
     "metadata": {},
     "output_type": "execute_result"
    }
   ],
   "source": [
    "len(d_ins)"
   ]
  },
  {
   "cell_type": "code",
   "execution_count": 297,
   "id": "c96fd18c",
   "metadata": {},
   "outputs": [],
   "source": [
    "noa_tags=driver.find_elements(By.XPATH,\"//table[@border='1']/tbody/tr/td[6]\")\n",
    "for i in noa_tags[0:]:\n",
    "    noa=i.text\n",
    "    d_noa.append(noa)"
   ]
  },
  {
   "cell_type": "code",
   "execution_count": 298,
   "id": "3725e60f",
   "metadata": {},
   "outputs": [
    {
     "data": {
      "text/plain": [
       "623"
      ]
     },
     "execution_count": 298,
     "metadata": {},
     "output_type": "execute_result"
    }
   ],
   "source": [
    "len(d_noa)"
   ]
  },
  {
   "cell_type": "code",
   "execution_count": 299,
   "id": "f3d9305c",
   "metadata": {},
   "outputs": [],
   "source": [
    "yea_tags=driver.find_elements(By.XPATH,\"//table[@border='1']/tbody/tr/td[7]\")\n",
    "for i in yea_tags[0:]:\n",
    "    yea=i.text\n",
    "    d_yea.append(yea)"
   ]
  },
  {
   "cell_type": "code",
   "execution_count": 300,
   "id": "524e3288",
   "metadata": {},
   "outputs": [
    {
     "data": {
      "text/plain": [
       "623"
      ]
     },
     "execution_count": 300,
     "metadata": {},
     "output_type": "execute_result"
    }
   ],
   "source": [
    "len(d_yea)"
   ]
  },
  {
   "cell_type": "code",
   "execution_count": 301,
   "id": "5fc47082",
   "metadata": {},
   "outputs": [
    {
     "data": {
      "text/html": [
       "<div>\n",
       "<style scoped>\n",
       "    .dataframe tbody tr th:only-of-type {\n",
       "        vertical-align: middle;\n",
       "    }\n",
       "\n",
       "    .dataframe tbody tr th {\n",
       "        vertical-align: top;\n",
       "    }\n",
       "\n",
       "    .dataframe thead th {\n",
       "        text-align: right;\n",
       "    }\n",
       "</style>\n",
       "<table border=\"1\" class=\"dataframe\">\n",
       "  <thead>\n",
       "    <tr style=\"text-align: right;\">\n",
       "      <th></th>\n",
       "      <th>Dataset name</th>\n",
       "      <th>Data type</th>\n",
       "      <th>Task</th>\n",
       "      <th>Attribute type</th>\n",
       "      <th>) No of instances</th>\n",
       "      <th>No of attribute</th>\n",
       "      <th>Year</th>\n",
       "    </tr>\n",
       "  </thead>\n",
       "  <tbody>\n",
       "    <tr>\n",
       "      <th>0</th>\n",
       "      <td>Name</td>\n",
       "      <td>Data Types</td>\n",
       "      <td>Default Task</td>\n",
       "      <td>Attribute Types</td>\n",
       "      <td># Instances</td>\n",
       "      <td># Attributes</td>\n",
       "      <td>Year</td>\n",
       "    </tr>\n",
       "    <tr>\n",
       "      <th>1</th>\n",
       "      <td>Abalone</td>\n",
       "      <td>Multivariate</td>\n",
       "      <td>Classification</td>\n",
       "      <td>Categorical, Integer, Real</td>\n",
       "      <td>4177</td>\n",
       "      <td>8</td>\n",
       "      <td>1995</td>\n",
       "    </tr>\n",
       "    <tr>\n",
       "      <th>2</th>\n",
       "      <td>Adult</td>\n",
       "      <td>Multivariate</td>\n",
       "      <td>Classification</td>\n",
       "      <td>Categorical, Integer</td>\n",
       "      <td>48842</td>\n",
       "      <td>14</td>\n",
       "      <td>1996</td>\n",
       "    </tr>\n",
       "    <tr>\n",
       "      <th>3</th>\n",
       "      <td>Annealing</td>\n",
       "      <td>Multivariate</td>\n",
       "      <td>Classification</td>\n",
       "      <td>Categorical, Integer, Real</td>\n",
       "      <td>798</td>\n",
       "      <td>38</td>\n",
       "      <td></td>\n",
       "    </tr>\n",
       "    <tr>\n",
       "      <th>4</th>\n",
       "      <td>Anonymous Microsoft Web Data</td>\n",
       "      <td></td>\n",
       "      <td>Recommender-Systems</td>\n",
       "      <td>Categorical</td>\n",
       "      <td>37711</td>\n",
       "      <td>294</td>\n",
       "      <td>1998</td>\n",
       "    </tr>\n",
       "    <tr>\n",
       "      <th>...</th>\n",
       "      <td>...</td>\n",
       "      <td>...</td>\n",
       "      <td>...</td>\n",
       "      <td>...</td>\n",
       "      <td>...</td>\n",
       "      <td>...</td>\n",
       "      <td>...</td>\n",
       "    </tr>\n",
       "    <tr>\n",
       "      <th>618</th>\n",
       "      <td>Influenza outbreak event prediction via Twit...</td>\n",
       "      <td>Multivariate</td>\n",
       "      <td>Classification</td>\n",
       "      <td>Integer, Real</td>\n",
       "      <td>75840</td>\n",
       "      <td>525</td>\n",
       "      <td>2020</td>\n",
       "    </tr>\n",
       "    <tr>\n",
       "      <th>619</th>\n",
       "      <td>Turkish Music Emotion Dataset</td>\n",
       "      <td>Multivariate</td>\n",
       "      <td>Classification</td>\n",
       "      <td>Integer, Real</td>\n",
       "      <td>400</td>\n",
       "      <td>50</td>\n",
       "      <td>2020</td>\n",
       "    </tr>\n",
       "    <tr>\n",
       "      <th>620</th>\n",
       "      <td>Maternal Health Risk Data Set</td>\n",
       "      <td></td>\n",
       "      <td>Classification</td>\n",
       "      <td></td>\n",
       "      <td>1014</td>\n",
       "      <td>7</td>\n",
       "      <td>2020</td>\n",
       "    </tr>\n",
       "    <tr>\n",
       "      <th>621</th>\n",
       "      <td>Room Occupancy Estimation</td>\n",
       "      <td>Multivariate, Time-Series</td>\n",
       "      <td>Classification</td>\n",
       "      <td>Real</td>\n",
       "      <td>10129</td>\n",
       "      <td>16</td>\n",
       "      <td>2021</td>\n",
       "    </tr>\n",
       "    <tr>\n",
       "      <th>622</th>\n",
       "      <td>Image Recognition Task Execution Times in Mo...</td>\n",
       "      <td>Univariate</td>\n",
       "      <td>Regression</td>\n",
       "      <td>Real</td>\n",
       "      <td>4000</td>\n",
       "      <td>2</td>\n",
       "      <td>2021</td>\n",
       "    </tr>\n",
       "  </tbody>\n",
       "</table>\n",
       "<p>623 rows × 7 columns</p>\n",
       "</div>"
      ],
      "text/plain": [
       "                                          Dataset name  \\\n",
       "0                                                 Name   \n",
       "1                                              Abalone   \n",
       "2                                                Adult   \n",
       "3                                            Annealing   \n",
       "4                         Anonymous Microsoft Web Data   \n",
       "..                                                 ...   \n",
       "618    Influenza outbreak event prediction via Twit...   \n",
       "619                      Turkish Music Emotion Dataset   \n",
       "620                      Maternal Health Risk Data Set   \n",
       "621                          Room Occupancy Estimation   \n",
       "622    Image Recognition Task Execution Times in Mo...   \n",
       "\n",
       "                      Data type                  Task  \\\n",
       "0                    Data Types          Default Task   \n",
       "1                 Multivariate        Classification    \n",
       "2                 Multivariate        Classification    \n",
       "3                 Multivariate        Classification    \n",
       "4                                Recommender-Systems    \n",
       "..                          ...                   ...   \n",
       "618               Multivariate        Classification    \n",
       "619               Multivariate        Classification    \n",
       "620                                   Classification    \n",
       "621  Multivariate, Time-Series        Classification    \n",
       "622                 Univariate            Regression    \n",
       "\n",
       "                  Attribute type ) No of instances No of attribute   Year  \n",
       "0                Attribute Types       # Instances    # Attributes   Year  \n",
       "1    Categorical, Integer, Real              4177               8   1995   \n",
       "2          Categorical, Integer             48842              14   1996   \n",
       "3    Categorical, Integer, Real               798              38          \n",
       "4                   Categorical             37711             294   1998   \n",
       "..                           ...               ...             ...    ...  \n",
       "618               Integer, Real             75840             525   2020   \n",
       "619               Integer, Real               400              50   2020   \n",
       "620                                          1014               7   2020   \n",
       "621                        Real             10129              16   2021   \n",
       "622                        Real              4000               2   2021   \n",
       "\n",
       "[623 rows x 7 columns]"
      ]
     },
     "execution_count": 301,
     "metadata": {},
     "output_type": "execute_result"
    }
   ],
   "source": [
    "df=pd.DataFrame({\"Dataset name\":d_nam,\"Data type\":d_typ,\"Task\":d_tas,\n",
    "                \"Attribute type\":d_att,\") No of instances\":d_ins,\n",
    "                \"No of attribute\":d_noa,\"Year\":d_yea})\n",
    "df"
   ]
  },
  {
   "cell_type": "code",
   "execution_count": null,
   "id": "2a173ff1",
   "metadata": {},
   "outputs": [],
   "source": []
  },
  {
   "cell_type": "markdown",
   "id": "296b2402",
   "metadata": {},
   "source": [
    "# NINTH QUESTION ANSWER "
   ]
  },
  {
   "cell_type": "code",
   "execution_count": 65,
   "id": "e20d0d7e",
   "metadata": {},
   "outputs": [],
   "source": [
    "import pandas as pd \n",
    "import selenium\n",
    "from bs4 import BeautifulSoup\n",
    "from selenium.common.exceptions import StaleElementReferenceException, NoSuchElementException\n"
   ]
  },
  {
   "cell_type": "code",
   "execution_count": 66,
   "id": "a085b777",
   "metadata": {},
   "outputs": [],
   "source": [
    "from selenium import webdriver\n",
    "import warnings\n",
    "warnings.filterwarnings('ignore')\n",
    "from selenium.webdriver.common.by import By\n",
    "import time"
   ]
  },
  {
   "cell_type": "code",
   "execution_count": 67,
   "id": "6895c3f6",
   "metadata": {},
   "outputs": [],
   "source": [
    "driver = webdriver.Chrome()"
   ]
  },
  {
   "cell_type": "code",
   "execution_count": 68,
   "id": "1ce02b12",
   "metadata": {},
   "outputs": [],
   "source": [
    "driver.get(\"https://www.naukri.com/hr-recruiters-consultants\")"
   ]
  },
  {
   "cell_type": "code",
   "execution_count": 69,
   "id": "53a05f64",
   "metadata": {},
   "outputs": [],
   "source": [
    "search=driver.find_element(By.XPATH,\"/html/body/div[2]/div[2]/div[1]/div[1]/form/div[1]/div/div[1]/div[1]/div[2]/input\")\n",
    "search.send_keys(\"Data science \")"
   ]
  },
  {
   "cell_type": "code",
   "execution_count": 70,
   "id": "d7264091",
   "metadata": {},
   "outputs": [],
   "source": [
    "search_but=driver.find_element(By.XPATH,\"/html/body/div[2]/div[2]/div[1]/div[1]/form/div[1]/button\")\n",
    "search_but.click()"
   ]
  },
  {
   "cell_type": "code",
   "execution_count": 71,
   "id": "cca21e43",
   "metadata": {},
   "outputs": [],
   "source": [
    "j_nam=[]\n",
    "j_des=[]\n",
    "j_ski=[]\n",
    "j_com=[]\n",
    "j_loc=[]"
   ]
  },
  {
   "cell_type": "code",
   "execution_count": 72,
   "id": "acf6b0be",
   "metadata": {},
   "outputs": [],
   "source": [
    "nam_tags=driver.find_elements(By.XPATH,\"//span[@class='fl ellipsis']\")\n",
    "for i in nam_tags[0:]:\n",
    "    nam=i.text\n",
    "    j_nam.append(nam)"
   ]
  },
  {
   "cell_type": "code",
   "execution_count": 73,
   "id": "1d455e27",
   "metadata": {},
   "outputs": [
    {
     "data": {
      "text/plain": [
       "50"
      ]
     },
     "execution_count": 73,
     "metadata": {},
     "output_type": "execute_result"
    }
   ],
   "source": [
    "len(j_nam)"
   ]
  },
  {
   "cell_type": "code",
   "execution_count": 74,
   "id": "1a29774a",
   "metadata": {},
   "outputs": [],
   "source": [
    "des_tags=driver.find_elements(By.XPATH,\"//span[@class='ellipsis clr']\")\n",
    "for i in des_tags[0:]:\n",
    "    des=i.text\n",
    "    j_des.append(des)"
   ]
  },
  {
   "cell_type": "code",
   "execution_count": 75,
   "id": "fe39d6df",
   "metadata": {},
   "outputs": [
    {
     "data": {
      "text/plain": [
       "50"
      ]
     },
     "execution_count": 75,
     "metadata": {},
     "output_type": "execute_result"
    }
   ],
   "source": [
    "len(j_des)"
   ]
  },
  {
   "cell_type": "code",
   "execution_count": 76,
   "id": "e8e0943d",
   "metadata": {},
   "outputs": [],
   "source": [
    "ski_tags=driver.find_elements(By.XPATH,\"//div[@class='hireSec highlightable']\")\n",
    "for i in ski_tags[0:]:\n",
    "    ski=i.text\n",
    "    j_ski=i.text"
   ]
  },
  {
   "cell_type": "code",
   "execution_count": 77,
   "id": "6202c917",
   "metadata": {},
   "outputs": [
    {
     "data": {
      "text/plain": [
       "155"
      ]
     },
     "execution_count": 77,
     "metadata": {},
     "output_type": "execute_result"
    }
   ],
   "source": [
    "len(j_ski)"
   ]
  },
  {
   "cell_type": "code",
   "execution_count": 78,
   "id": "363493cc",
   "metadata": {},
   "outputs": [
    {
     "data": {
      "text/plain": [
       "'Software Development, Core Java, Unit Testing, Customer Experience, Problem Solving, Communication Skills, Mysql, Data Science, Sales Management, Analytics'"
      ]
     },
     "execution_count": 78,
     "metadata": {},
     "output_type": "execute_result"
    }
   ],
   "source": [
    "j_ski"
   ]
  },
  {
   "cell_type": "code",
   "execution_count": 79,
   "id": "23a68962",
   "metadata": {},
   "outputs": [],
   "source": [
    "com_tags=driver.find_elements(By.XPATH,\"//a[@class='ellipsis']\")\n",
    "for i in com_tags[0:]:\n",
    "    com=i.text\n",
    "    j_com.append(com)"
   ]
  },
  {
   "cell_type": "code",
   "execution_count": 80,
   "id": "2cfa39a6",
   "metadata": {},
   "outputs": [
    {
     "data": {
      "text/plain": [
       "100"
      ]
     },
     "execution_count": 80,
     "metadata": {},
     "output_type": "execute_result"
    }
   ],
   "source": [
    "len(j_com)"
   ]
  },
  {
   "cell_type": "code",
   "execution_count": 84,
   "id": "eed3fb82",
   "metadata": {},
   "outputs": [],
   "source": [
    "loc_tags=driver.find_elements(By.XPATH,\"//span[@class='ellipsis']\")\n",
    "for i in loc_tags[0:]:\n",
    "    loc=i.text\n",
    "    j_loc.append(loc)"
   ]
  },
  {
   "cell_type": "code",
   "execution_count": 86,
   "id": "f2253925",
   "metadata": {},
   "outputs": [
    {
     "data": {
      "text/html": [
       "<div>\n",
       "<style scoped>\n",
       "    .dataframe tbody tr th:only-of-type {\n",
       "        vertical-align: middle;\n",
       "    }\n",
       "\n",
       "    .dataframe tbody tr th {\n",
       "        vertical-align: top;\n",
       "    }\n",
       "\n",
       "    .dataframe thead th {\n",
       "        text-align: right;\n",
       "    }\n",
       "</style>\n",
       "<table border=\"1\" class=\"dataframe\">\n",
       "  <thead>\n",
       "    <tr style=\"text-align: right;\">\n",
       "      <th></th>\n",
       "      <th>Name</th>\n",
       "      <th>Designation</th>\n",
       "      <th>Company</th>\n",
       "      <th>Skills they hire for</th>\n",
       "    </tr>\n",
       "  </thead>\n",
       "  <tbody>\n",
       "    <tr>\n",
       "      <th>0</th>\n",
       "      <td>Aakash Harit</td>\n",
       "      <td>HR Manager</td>\n",
       "      <td>Aakash Harit</td>\n",
       "      <td>Software Development, Core Java, Unit Testing,...</td>\n",
       "    </tr>\n",
       "    <tr>\n",
       "      <th>1</th>\n",
       "      <td>shravan Kumar Gaddam</td>\n",
       "      <td>Company Recruiter</td>\n",
       "      <td>Data Science Network</td>\n",
       "      <td>Software Development, Core Java, Unit Testing,...</td>\n",
       "    </tr>\n",
       "    <tr>\n",
       "      <th>2</th>\n",
       "      <td>MARSIAN Technologies LLP</td>\n",
       "      <td>Company HR</td>\n",
       "      <td>shravan Kumar Gaddam</td>\n",
       "      <td>Software Development, Core Java, Unit Testing,...</td>\n",
       "    </tr>\n",
       "    <tr>\n",
       "      <th>3</th>\n",
       "      <td>Anik Agrawal</td>\n",
       "      <td>Company Recruiter</td>\n",
       "      <td>Shore Infotech India Pvt. Ltd</td>\n",
       "      <td>Software Development, Core Java, Unit Testing,...</td>\n",
       "    </tr>\n",
       "    <tr>\n",
       "      <th>4</th>\n",
       "      <td>subhas patel</td>\n",
       "      <td>Founder CEO</td>\n",
       "      <td>MARSIAN Technologies LLP</td>\n",
       "      <td>Software Development, Core Java, Unit Testing,...</td>\n",
       "    </tr>\n",
       "    <tr>\n",
       "      <th>5</th>\n",
       "      <td>Abhishek - Only Analytics Hiring - India and</td>\n",
       "      <td>Recruitment Lead Consultant</td>\n",
       "      <td>MARSIAN Technologies LLP</td>\n",
       "      <td>Software Development, Core Java, Unit Testing,...</td>\n",
       "    </tr>\n",
       "    <tr>\n",
       "      <th>6</th>\n",
       "      <td>Institute for Financial Management and Resear</td>\n",
       "      <td>Programme Manager</td>\n",
       "      <td>Anik Agrawal</td>\n",
       "      <td>Software Development, Core Java, Unit Testing,...</td>\n",
       "    </tr>\n",
       "    <tr>\n",
       "      <th>7</th>\n",
       "      <td>Balu Ramesh</td>\n",
       "      <td>HR Administrator</td>\n",
       "      <td>Enerlytics Software Solutions Pvt Ltd</td>\n",
       "      <td>Software Development, Core Java, Unit Testing,...</td>\n",
       "    </tr>\n",
       "    <tr>\n",
       "      <th>8</th>\n",
       "      <td>Asif Lucknowi</td>\n",
       "      <td>Director</td>\n",
       "      <td>subhas patel</td>\n",
       "      <td>Software Development, Core Java, Unit Testing,...</td>\n",
       "    </tr>\n",
       "    <tr>\n",
       "      <th>9</th>\n",
       "      <td>InstaFinancials</td>\n",
       "      <td>Human Resource</td>\n",
       "      <td>LibraryXProject</td>\n",
       "      <td>Software Development, Core Java, Unit Testing,...</td>\n",
       "    </tr>\n",
       "    <tr>\n",
       "      <th>10</th>\n",
       "      <td>Kalpana Dumpala</td>\n",
       "      <td>Executive Hiring</td>\n",
       "      <td>Abhishek - Only Analytics Hiring - India and</td>\n",
       "      <td>Software Development, Core Java, Unit Testing,...</td>\n",
       "    </tr>\n",
       "    <tr>\n",
       "      <th>11</th>\n",
       "      <td>Mubarak</td>\n",
       "      <td>Company HR</td>\n",
       "      <td>Apidel Technologies Division of Transpower</td>\n",
       "      <td>Software Development, Core Java, Unit Testing,...</td>\n",
       "    </tr>\n",
       "    <tr>\n",
       "      <th>12</th>\n",
       "      <td>Kushal Rastogi</td>\n",
       "      <td>Company HR</td>\n",
       "      <td>Institute for Financial Management and Resear</td>\n",
       "      <td>Software Development, Core Java, Unit Testing,...</td>\n",
       "    </tr>\n",
       "    <tr>\n",
       "      <th>13</th>\n",
       "      <td>Mahesh Babu Channa</td>\n",
       "      <td>HR Team Lead</td>\n",
       "      <td>IFMR</td>\n",
       "      <td>Software Development, Core Java, Unit Testing,...</td>\n",
       "    </tr>\n",
       "    <tr>\n",
       "      <th>14</th>\n",
       "      <td>Priyanka Akiri</td>\n",
       "      <td>HR Manager</td>\n",
       "      <td>Balu Ramesh</td>\n",
       "      <td>Software Development, Core Java, Unit Testing,...</td>\n",
       "    </tr>\n",
       "    <tr>\n",
       "      <th>15</th>\n",
       "      <td>Kapil Devang</td>\n",
       "      <td>HR Manager</td>\n",
       "      <td>Techvantage Systems Pvt Ltd</td>\n",
       "      <td>Software Development, Core Java, Unit Testing,...</td>\n",
       "    </tr>\n",
       "    <tr>\n",
       "      <th>16</th>\n",
       "      <td>Vaishnavi Kudalkar</td>\n",
       "      <td>HR Executive</td>\n",
       "      <td>Asif Lucknowi</td>\n",
       "      <td>Software Development, Core Java, Unit Testing,...</td>\n",
       "    </tr>\n",
       "    <tr>\n",
       "      <th>17</th>\n",
       "      <td>Sakshi Chhikara</td>\n",
       "      <td>Assistant Manager HR</td>\n",
       "      <td>Weupskill- Live Wire India</td>\n",
       "      <td>Software Development, Core Java, Unit Testing,...</td>\n",
       "    </tr>\n",
       "    <tr>\n",
       "      <th>18</th>\n",
       "      <td>Ruchi Dhote</td>\n",
       "      <td>Senior Executive Talent Acquisition</td>\n",
       "      <td>InstaFinancials</td>\n",
       "      <td>Software Development, Core Java, Unit Testing,...</td>\n",
       "    </tr>\n",
       "    <tr>\n",
       "      <th>19</th>\n",
       "      <td>Manisha Yadav</td>\n",
       "      <td>HR Executive</td>\n",
       "      <td>CBL Data Science Private Limited</td>\n",
       "      <td>Software Development, Core Java, Unit Testing,...</td>\n",
       "    </tr>\n",
       "    <tr>\n",
       "      <th>20</th>\n",
       "      <td>Riya Rajesh</td>\n",
       "      <td>Manager Talent Acquisition</td>\n",
       "      <td>Kalpana Dumpala</td>\n",
       "      <td>Software Development, Core Java, Unit Testing,...</td>\n",
       "    </tr>\n",
       "    <tr>\n",
       "      <th>21</th>\n",
       "      <td>Rashmi Bhattacharjee</td>\n",
       "      <td>HR Head</td>\n",
       "      <td>Innominds Software</td>\n",
       "      <td>Software Development, Core Java, Unit Testing,...</td>\n",
       "    </tr>\n",
       "    <tr>\n",
       "      <th>22</th>\n",
       "      <td>Faizan Kareem</td>\n",
       "      <td>HR MANAGER</td>\n",
       "      <td>Mubarak</td>\n",
       "      <td>Software Development, Core Java, Unit Testing,...</td>\n",
       "    </tr>\n",
       "    <tr>\n",
       "      <th>23</th>\n",
       "      <td>Rithika dadwal</td>\n",
       "      <td>HR Recruiter</td>\n",
       "      <td>MoneyTap</td>\n",
       "      <td>Software Development, Core Java, Unit Testing,...</td>\n",
       "    </tr>\n",
       "    <tr>\n",
       "      <th>24</th>\n",
       "      <td>Sandhya Khandagale</td>\n",
       "      <td>HR Recruiter</td>\n",
       "      <td>Kushal Rastogi</td>\n",
       "      <td>Software Development, Core Java, Unit Testing,...</td>\n",
       "    </tr>\n",
       "    <tr>\n",
       "      <th>25</th>\n",
       "      <td>Shaun Rao</td>\n",
       "      <td>Manager Human Resources</td>\n",
       "      <td>QuantMagnum Technologies Pvt. Ltd.</td>\n",
       "      <td>Software Development, Core Java, Unit Testing,...</td>\n",
       "    </tr>\n",
       "    <tr>\n",
       "      <th>26</th>\n",
       "      <td>Deeparchi Sharma</td>\n",
       "      <td>Company Recruiter</td>\n",
       "      <td>Mahesh Babu Channa</td>\n",
       "      <td>Software Development, Core Java, Unit Testing,...</td>\n",
       "    </tr>\n",
       "    <tr>\n",
       "      <th>27</th>\n",
       "      <td>Azahar Shaikh</td>\n",
       "      <td>Company Recruiter</td>\n",
       "      <td>SocialPrachar.com</td>\n",
       "      <td>Software Development, Core Java, Unit Testing,...</td>\n",
       "    </tr>\n",
       "    <tr>\n",
       "      <th>28</th>\n",
       "      <td>Manas</td>\n",
       "      <td>Lead Talent acquisition</td>\n",
       "      <td>Priyanka Akiri</td>\n",
       "      <td>Software Development, Core Java, Unit Testing,...</td>\n",
       "    </tr>\n",
       "    <tr>\n",
       "      <th>29</th>\n",
       "      <td>kumar</td>\n",
       "      <td>Proprietor</td>\n",
       "      <td>Infinitive Software Solutions</td>\n",
       "      <td>Software Development, Core Java, Unit Testing,...</td>\n",
       "    </tr>\n",
       "    <tr>\n",
       "      <th>30</th>\n",
       "      <td>Sunil Vedula</td>\n",
       "      <td>CEO</td>\n",
       "      <td>Kapil Devang</td>\n",
       "      <td>Software Development, Core Java, Unit Testing,...</td>\n",
       "    </tr>\n",
       "    <tr>\n",
       "      <th>31</th>\n",
       "      <td>Rajat Kumar</td>\n",
       "      <td>Founder CEO</td>\n",
       "      <td>BISP Solutions</td>\n",
       "      <td>Software Development, Core Java, Unit Testing,...</td>\n",
       "    </tr>\n",
       "    <tr>\n",
       "      <th>32</th>\n",
       "      <td>Dhruv Dev Dubey</td>\n",
       "      <td>Company Recruitment Head</td>\n",
       "      <td>Vaishnavi Kudalkar</td>\n",
       "      <td>Software Development, Core Java, Unit Testing,...</td>\n",
       "    </tr>\n",
       "    <tr>\n",
       "      <th>33</th>\n",
       "      <td>Avnish Mishra</td>\n",
       "      <td>Senior Technical &amp;amp; Corporate Recruiter</td>\n",
       "      <td>Codeachive learning</td>\n",
       "      <td>Software Development, Core Java, Unit Testing,...</td>\n",
       "    </tr>\n",
       "    <tr>\n",
       "      <th>34</th>\n",
       "      <td>Jayanth N</td>\n",
       "      <td>Project Manager</td>\n",
       "      <td>Sakshi Chhikara</td>\n",
       "      <td>Software Development, Core Java, Unit Testing,...</td>\n",
       "    </tr>\n",
       "    <tr>\n",
       "      <th>35</th>\n",
       "      <td>Avodha</td>\n",
       "      <td>Business Development Associate</td>\n",
       "      <td>BIZ INFOTECNO PRIVATE LIMITED</td>\n",
       "      <td>Software Development, Core Java, Unit Testing,...</td>\n",
       "    </tr>\n",
       "    <tr>\n",
       "      <th>36</th>\n",
       "      <td>Priya Khare</td>\n",
       "      <td>Senior Manager</td>\n",
       "      <td>Ruchi Dhote</td>\n",
       "      <td>Software Development, Core Java, Unit Testing,...</td>\n",
       "    </tr>\n",
       "    <tr>\n",
       "      <th>37</th>\n",
       "      <td>Amit Sharma</td>\n",
       "      <td>Consultant</td>\n",
       "      <td>Bristlecone India Ltd</td>\n",
       "      <td>Software Development, Core Java, Unit Testing,...</td>\n",
       "    </tr>\n",
       "    <tr>\n",
       "      <th>38</th>\n",
       "      <td>Kanan</td>\n",
       "      <td>senior technology instructor</td>\n",
       "      <td>Manisha Yadav</td>\n",
       "      <td>Software Development, Core Java, Unit Testing,...</td>\n",
       "    </tr>\n",
       "    <tr>\n",
       "      <th>39</th>\n",
       "      <td>Shashikant Chaudhary</td>\n",
       "      <td>HR Recruiter/HR Excutive</td>\n",
       "      <td>Easi Tax</td>\n",
       "      <td>Software Development, Core Java, Unit Testing,...</td>\n",
       "    </tr>\n",
       "    <tr>\n",
       "      <th>40</th>\n",
       "      <td>Brad</td>\n",
       "      <td>Manager, Technical Recruiting</td>\n",
       "      <td>Riya Rajesh</td>\n",
       "      <td>Software Development, Core Java, Unit Testing,...</td>\n",
       "    </tr>\n",
       "    <tr>\n",
       "      <th>41</th>\n",
       "      <td>Rutuja Pawar</td>\n",
       "      <td>Technical Recruiter</td>\n",
       "      <td>Novelworx Digital Solutions</td>\n",
       "      <td>Software Development, Core Java, Unit Testing,...</td>\n",
       "    </tr>\n",
       "    <tr>\n",
       "      <th>42</th>\n",
       "      <td>Madhusudhan Sridhar</td>\n",
       "      <td>Erp Implementer</td>\n",
       "      <td>Rashmi Bhattacharjee</td>\n",
       "      <td>Software Development, Core Java, Unit Testing,...</td>\n",
       "    </tr>\n",
       "    <tr>\n",
       "      <th>43</th>\n",
       "      <td>Ankit Sinha</td>\n",
       "      <td>Head Analytics</td>\n",
       "      <td>AXESTRACK SOFTWARE SOLUTIONS PRIVATE...</td>\n",
       "      <td>Software Development, Core Java, Unit Testing,...</td>\n",
       "    </tr>\n",
       "    <tr>\n",
       "      <th>44</th>\n",
       "      <td>Gaurav Chouhan</td>\n",
       "      <td>Chief Technical Officer</td>\n",
       "      <td>Faizan Kareem</td>\n",
       "      <td>Software Development, Core Java, Unit Testing,...</td>\n",
       "    </tr>\n",
       "    <tr>\n",
       "      <th>45</th>\n",
       "      <td>Rashi Kacker</td>\n",
       "      <td>Sr Product Manager</td>\n",
       "      <td>FirstTech Consaltants Pvt.Ltd</td>\n",
       "      <td>Software Development, Core Java, Unit Testing,...</td>\n",
       "    </tr>\n",
       "    <tr>\n",
       "      <th>46</th>\n",
       "      <td>Ashwini</td>\n",
       "      <td>Director Global Delivery</td>\n",
       "      <td>Rithika dadwal</td>\n",
       "      <td>Software Development, Core Java, Unit Testing,...</td>\n",
       "    </tr>\n",
       "    <tr>\n",
       "      <th>47</th>\n",
       "      <td>Balaji Kolli</td>\n",
       "      <td>Co Founder</td>\n",
       "      <td>Affine Analytics</td>\n",
       "      <td>Software Development, Core Java, Unit Testing,...</td>\n",
       "    </tr>\n",
       "    <tr>\n",
       "      <th>48</th>\n",
       "      <td>Rajani Nagaraj</td>\n",
       "      <td>HR Manager</td>\n",
       "      <td>Sandhya Khandagale</td>\n",
       "      <td>Software Development, Core Java, Unit Testing,...</td>\n",
       "    </tr>\n",
       "    <tr>\n",
       "      <th>49</th>\n",
       "      <td>ROHIT Kumar</td>\n",
       "      <td>Architect</td>\n",
       "      <td>Compumatrice Multimedia Pvt Ltd</td>\n",
       "      <td>Software Development, Core Java, Unit Testing,...</td>\n",
       "    </tr>\n",
       "  </tbody>\n",
       "</table>\n",
       "</div>"
      ],
      "text/plain": [
       "                                             Name  \\\n",
       "0                                    Aakash Harit   \n",
       "1                            shravan Kumar Gaddam   \n",
       "2                        MARSIAN Technologies LLP   \n",
       "3                                    Anik Agrawal   \n",
       "4                                    subhas patel   \n",
       "5    Abhishek - Only Analytics Hiring - India and   \n",
       "6   Institute for Financial Management and Resear   \n",
       "7                                     Balu Ramesh   \n",
       "8                                   Asif Lucknowi   \n",
       "9                                 InstaFinancials   \n",
       "10                                Kalpana Dumpala   \n",
       "11                                        Mubarak   \n",
       "12                                 Kushal Rastogi   \n",
       "13                             Mahesh Babu Channa   \n",
       "14                                 Priyanka Akiri   \n",
       "15                                   Kapil Devang   \n",
       "16                             Vaishnavi Kudalkar   \n",
       "17                                Sakshi Chhikara   \n",
       "18                                    Ruchi Dhote   \n",
       "19                                  Manisha Yadav   \n",
       "20                                    Riya Rajesh   \n",
       "21                           Rashmi Bhattacharjee   \n",
       "22                                  Faizan Kareem   \n",
       "23                                 Rithika dadwal   \n",
       "24                             Sandhya Khandagale   \n",
       "25                                      Shaun Rao   \n",
       "26                               Deeparchi Sharma   \n",
       "27                                  Azahar Shaikh   \n",
       "28                                          Manas   \n",
       "29                                          kumar   \n",
       "30                                   Sunil Vedula   \n",
       "31                                    Rajat Kumar   \n",
       "32                                Dhruv Dev Dubey   \n",
       "33                                  Avnish Mishra   \n",
       "34                                      Jayanth N   \n",
       "35                                         Avodha   \n",
       "36                                    Priya Khare   \n",
       "37                                    Amit Sharma   \n",
       "38                                          Kanan   \n",
       "39                           Shashikant Chaudhary   \n",
       "40                                           Brad   \n",
       "41                                   Rutuja Pawar   \n",
       "42                            Madhusudhan Sridhar   \n",
       "43                                    Ankit Sinha   \n",
       "44                                 Gaurav Chouhan   \n",
       "45                                   Rashi Kacker   \n",
       "46                                        Ashwini   \n",
       "47                                   Balaji Kolli   \n",
       "48                                 Rajani Nagaraj   \n",
       "49                                    ROHIT Kumar   \n",
       "\n",
       "                                   Designation  \\\n",
       "0                                   HR Manager   \n",
       "1                            Company Recruiter   \n",
       "2                                   Company HR   \n",
       "3                            Company Recruiter   \n",
       "4                                  Founder CEO   \n",
       "5                  Recruitment Lead Consultant   \n",
       "6                            Programme Manager   \n",
       "7                             HR Administrator   \n",
       "8                                     Director   \n",
       "9                               Human Resource   \n",
       "10                            Executive Hiring   \n",
       "11                                  Company HR   \n",
       "12                                  Company HR   \n",
       "13                                HR Team Lead   \n",
       "14                                  HR Manager   \n",
       "15                                  HR Manager   \n",
       "16                                HR Executive   \n",
       "17                        Assistant Manager HR   \n",
       "18         Senior Executive Talent Acquisition   \n",
       "19                                HR Executive   \n",
       "20                  Manager Talent Acquisition   \n",
       "21                                     HR Head   \n",
       "22                                  HR MANAGER   \n",
       "23                                HR Recruiter   \n",
       "24                                HR Recruiter   \n",
       "25                     Manager Human Resources   \n",
       "26                           Company Recruiter   \n",
       "27                           Company Recruiter   \n",
       "28                     Lead Talent acquisition   \n",
       "29                                  Proprietor   \n",
       "30                                         CEO   \n",
       "31                                 Founder CEO   \n",
       "32                    Company Recruitment Head   \n",
       "33  Senior Technical &amp; Corporate Recruiter   \n",
       "34                             Project Manager   \n",
       "35              Business Development Associate   \n",
       "36                              Senior Manager   \n",
       "37                                  Consultant   \n",
       "38                senior technology instructor   \n",
       "39                    HR Recruiter/HR Excutive   \n",
       "40               Manager, Technical Recruiting   \n",
       "41                         Technical Recruiter   \n",
       "42                             Erp Implementer   \n",
       "43                              Head Analytics   \n",
       "44                     Chief Technical Officer   \n",
       "45                          Sr Product Manager   \n",
       "46                    Director Global Delivery   \n",
       "47                                  Co Founder   \n",
       "48                                  HR Manager   \n",
       "49                                   Architect   \n",
       "\n",
       "                                          Company  \\\n",
       "0                                    Aakash Harit   \n",
       "1                            Data Science Network   \n",
       "2                            shravan Kumar Gaddam   \n",
       "3                   Shore Infotech India Pvt. Ltd   \n",
       "4                        MARSIAN Technologies LLP   \n",
       "5                        MARSIAN Technologies LLP   \n",
       "6                                    Anik Agrawal   \n",
       "7           Enerlytics Software Solutions Pvt Ltd   \n",
       "8                                    subhas patel   \n",
       "9                                 LibraryXProject   \n",
       "10   Abhishek - Only Analytics Hiring - India and   \n",
       "11     Apidel Technologies Division of Transpower   \n",
       "12  Institute for Financial Management and Resear   \n",
       "13                                           IFMR   \n",
       "14                                    Balu Ramesh   \n",
       "15                    Techvantage Systems Pvt Ltd   \n",
       "16                                  Asif Lucknowi   \n",
       "17                     Weupskill- Live Wire India   \n",
       "18                                InstaFinancials   \n",
       "19               CBL Data Science Private Limited   \n",
       "20                                Kalpana Dumpala   \n",
       "21                             Innominds Software   \n",
       "22                                        Mubarak   \n",
       "23                                       MoneyTap   \n",
       "24                                 Kushal Rastogi   \n",
       "25             QuantMagnum Technologies Pvt. Ltd.   \n",
       "26                             Mahesh Babu Channa   \n",
       "27                              SocialPrachar.com   \n",
       "28                                 Priyanka Akiri   \n",
       "29                  Infinitive Software Solutions   \n",
       "30                                   Kapil Devang   \n",
       "31                                 BISP Solutions   \n",
       "32                             Vaishnavi Kudalkar   \n",
       "33                            Codeachive learning   \n",
       "34                                Sakshi Chhikara   \n",
       "35                  BIZ INFOTECNO PRIVATE LIMITED   \n",
       "36                                    Ruchi Dhote   \n",
       "37                          Bristlecone India Ltd   \n",
       "38                                  Manisha Yadav   \n",
       "39                                       Easi Tax   \n",
       "40                                    Riya Rajesh   \n",
       "41                    Novelworx Digital Solutions   \n",
       "42                           Rashmi Bhattacharjee   \n",
       "43        AXESTRACK SOFTWARE SOLUTIONS PRIVATE...   \n",
       "44                                  Faizan Kareem   \n",
       "45                  FirstTech Consaltants Pvt.Ltd   \n",
       "46                                 Rithika dadwal   \n",
       "47                               Affine Analytics   \n",
       "48                             Sandhya Khandagale   \n",
       "49                Compumatrice Multimedia Pvt Ltd   \n",
       "\n",
       "                                 Skills they hire for  \n",
       "0   Software Development, Core Java, Unit Testing,...  \n",
       "1   Software Development, Core Java, Unit Testing,...  \n",
       "2   Software Development, Core Java, Unit Testing,...  \n",
       "3   Software Development, Core Java, Unit Testing,...  \n",
       "4   Software Development, Core Java, Unit Testing,...  \n",
       "5   Software Development, Core Java, Unit Testing,...  \n",
       "6   Software Development, Core Java, Unit Testing,...  \n",
       "7   Software Development, Core Java, Unit Testing,...  \n",
       "8   Software Development, Core Java, Unit Testing,...  \n",
       "9   Software Development, Core Java, Unit Testing,...  \n",
       "10  Software Development, Core Java, Unit Testing,...  \n",
       "11  Software Development, Core Java, Unit Testing,...  \n",
       "12  Software Development, Core Java, Unit Testing,...  \n",
       "13  Software Development, Core Java, Unit Testing,...  \n",
       "14  Software Development, Core Java, Unit Testing,...  \n",
       "15  Software Development, Core Java, Unit Testing,...  \n",
       "16  Software Development, Core Java, Unit Testing,...  \n",
       "17  Software Development, Core Java, Unit Testing,...  \n",
       "18  Software Development, Core Java, Unit Testing,...  \n",
       "19  Software Development, Core Java, Unit Testing,...  \n",
       "20  Software Development, Core Java, Unit Testing,...  \n",
       "21  Software Development, Core Java, Unit Testing,...  \n",
       "22  Software Development, Core Java, Unit Testing,...  \n",
       "23  Software Development, Core Java, Unit Testing,...  \n",
       "24  Software Development, Core Java, Unit Testing,...  \n",
       "25  Software Development, Core Java, Unit Testing,...  \n",
       "26  Software Development, Core Java, Unit Testing,...  \n",
       "27  Software Development, Core Java, Unit Testing,...  \n",
       "28  Software Development, Core Java, Unit Testing,...  \n",
       "29  Software Development, Core Java, Unit Testing,...  \n",
       "30  Software Development, Core Java, Unit Testing,...  \n",
       "31  Software Development, Core Java, Unit Testing,...  \n",
       "32  Software Development, Core Java, Unit Testing,...  \n",
       "33  Software Development, Core Java, Unit Testing,...  \n",
       "34  Software Development, Core Java, Unit Testing,...  \n",
       "35  Software Development, Core Java, Unit Testing,...  \n",
       "36  Software Development, Core Java, Unit Testing,...  \n",
       "37  Software Development, Core Java, Unit Testing,...  \n",
       "38  Software Development, Core Java, Unit Testing,...  \n",
       "39  Software Development, Core Java, Unit Testing,...  \n",
       "40  Software Development, Core Java, Unit Testing,...  \n",
       "41  Software Development, Core Java, Unit Testing,...  \n",
       "42  Software Development, Core Java, Unit Testing,...  \n",
       "43  Software Development, Core Java, Unit Testing,...  \n",
       "44  Software Development, Core Java, Unit Testing,...  \n",
       "45  Software Development, Core Java, Unit Testing,...  \n",
       "46  Software Development, Core Java, Unit Testing,...  \n",
       "47  Software Development, Core Java, Unit Testing,...  \n",
       "48  Software Development, Core Java, Unit Testing,...  \n",
       "49  Software Development, Core Java, Unit Testing,...  "
      ]
     },
     "execution_count": 86,
     "metadata": {},
     "output_type": "execute_result"
    }
   ],
   "source": [
    "df=pd.DataFrame({\"Name\":j_nam[0:50],\" Designation\":j_des[0:50],\"Company\":j_com[0:50],\"Skills they hire for\":j_ski[0:50]})\n",
    "df"
   ]
  },
  {
   "cell_type": "code",
   "execution_count": null,
   "id": "f2e9e258",
   "metadata": {},
   "outputs": [],
   "source": []
  },
  {
   "cell_type": "markdown",
   "id": "cbd6f7e5",
   "metadata": {},
   "source": [
    "# FIFTH QUESTION ANSWER"
   ]
  },
  {
   "cell_type": "code",
   "execution_count": 253,
   "id": "448b65b2",
   "metadata": {},
   "outputs": [],
   "source": [
    "import pandas as pd \n",
    "import selenium\n",
    "from bs4 import BeautifulSoup\n",
    "from selenium.common.exceptions import StaleElementReferenceException, NoSuchElementException\n"
   ]
  },
  {
   "cell_type": "code",
   "execution_count": 254,
   "id": "52633c80",
   "metadata": {},
   "outputs": [],
   "source": [
    "from selenium import webdriver\n",
    "import warnings\n",
    "warnings.filterwarnings('ignore')\n",
    "from selenium.webdriver.common.by import By\n",
    "import time"
   ]
  },
  {
   "cell_type": "code",
   "execution_count": 255,
   "id": "13214cd1",
   "metadata": {},
   "outputs": [],
   "source": [
    "driver = webdriver.Chrome()"
   ]
  },
  {
   "cell_type": "code",
   "execution_count": 256,
   "id": "6dbc9d05",
   "metadata": {},
   "outputs": [],
   "source": [
    "driver.get(\"https://www.billboard.com/\")"
   ]
  },
  {
   "cell_type": "code",
   "execution_count": 257,
   "id": "e9a061a6",
   "metadata": {},
   "outputs": [],
   "source": [
    "sab=driver.find_element(By.XPATH,\"/html/body/div[3]/header/div/div[2]/div/div/div[2]/div[2]/div/div/nav/ul/li[1]/a\")\n",
    "sab.click()"
   ]
  },
  {
   "cell_type": "code",
   "execution_count": 270,
   "id": "83decee6",
   "metadata": {},
   "outputs": [],
   "source": [
    "son=driver.find_element(By.XPATH,\"/html/body/div[3]/main/div[2]/div[1]/div[1]/div/div/div[1]/div[1]/div[2]/span/a\")\n",
    "son.click()"
   ]
  },
  {
   "cell_type": "code",
   "execution_count": 271,
   "id": "a6cf0c8c",
   "metadata": {},
   "outputs": [],
   "source": [
    "s_nam=[]\n",
    "s_art=[]\n",
    "s_las=[]\n",
    "s_pea=[]\n",
    "s_wee=[]"
   ]
  },
  {
   "cell_type": "code",
   "execution_count": 272,
   "id": "ba1d0334",
   "metadata": {},
   "outputs": [],
   "source": [
    "nam_tags=driver.find_elements(By.XPATH,\"//li[@class='lrv-u-width-100p']//h3\")\n",
    "for i in nam_tags[0:]:\n",
    "    nam=i.text\n",
    "    s_nam.append(nam)"
   ]
  },
  {
   "cell_type": "code",
   "execution_count": 273,
   "id": "601d343a",
   "metadata": {},
   "outputs": [
    {
     "data": {
      "text/plain": [
       "100"
      ]
     },
     "execution_count": 273,
     "metadata": {},
     "output_type": "execute_result"
    }
   ],
   "source": [
    "len(s_nam)"
   ]
  },
  {
   "cell_type": "code",
   "execution_count": 274,
   "id": "e607cae4",
   "metadata": {},
   "outputs": [],
   "source": [
    "art_tags=driver.find_elements(By.XPATH,\"//li[@class='lrv-u-width-100p']/ul/li[1]/span\")\n",
    "for i in art_tags[0:]:\n",
    "    art=i.text\n",
    "    s_art.append(art)"
   ]
  },
  {
   "cell_type": "code",
   "execution_count": 275,
   "id": "d458d3b3",
   "metadata": {},
   "outputs": [
    {
     "data": {
      "text/plain": [
       "100"
      ]
     },
     "execution_count": 275,
     "metadata": {},
     "output_type": "execute_result"
    }
   ],
   "source": [
    "len(s_art)"
   ]
  },
  {
   "cell_type": "code",
   "execution_count": 276,
   "id": "1a3c81e7",
   "metadata": {},
   "outputs": [],
   "source": [
    "\n",
    "    las_tags=driver.find_elements(By.XPATH,\"//li[@class='lrv-u-width-100p']/ul/li[5]//span\")\n",
    "    for i in las_tags[0:]:\n",
    "        las=i.text\n",
    "        s_las.append(las)\n",
    "\n",
    "    "
   ]
  },
  {
   "cell_type": "code",
   "execution_count": 277,
   "id": "f147ec63",
   "metadata": {},
   "outputs": [
    {
     "data": {
      "text/plain": [
       "100"
      ]
     },
     "execution_count": 277,
     "metadata": {},
     "output_type": "execute_result"
    }
   ],
   "source": [
    "len(s_las)"
   ]
  },
  {
   "cell_type": "code",
   "execution_count": 278,
   "id": "331bb1d0",
   "metadata": {},
   "outputs": [],
   "source": [
    "\n",
    "try:\n",
    "    pea_tags=driver.find_elements(By.XPATH,\"//li[@class='lrv-u-width-100p']/ul/li[6]/span\")\n",
    "    for i in pea_tags[0:]:\n",
    "        pea=i.text\n",
    "        s_pea.append(pea)\n",
    "except:\n",
    "    pea = \"-\"\n",
    "    s_pea.append(pea)"
   ]
  },
  {
   "cell_type": "code",
   "execution_count": 279,
   "id": "649503bb",
   "metadata": {},
   "outputs": [
    {
     "data": {
      "text/plain": [
       "100"
      ]
     },
     "execution_count": 279,
     "metadata": {},
     "output_type": "execute_result"
    }
   ],
   "source": [
    "len(s_pea)"
   ]
  },
  {
   "cell_type": "code",
   "execution_count": 282,
   "id": "edf770eb",
   "metadata": {},
   "outputs": [],
   "source": [
    "wee_tags=driver.find_elements(By.XPATH,\"//li[@class='lrv-u-width-100p']/ul/li[7]/span\")\n",
    "for i in wee_tags[0:]:\n",
    "    wee=i.text\n",
    "    s_wee.append(wee)"
   ]
  },
  {
   "cell_type": "code",
   "execution_count": 283,
   "id": "28b90dea",
   "metadata": {},
   "outputs": [
    {
     "data": {
      "text/plain": [
       "0"
      ]
     },
     "execution_count": 283,
     "metadata": {},
     "output_type": "execute_result"
    }
   ],
   "source": [
    "len(s_wee)"
   ]
  },
  {
   "cell_type": "code",
   "execution_count": 284,
   "id": "7e634fd7",
   "metadata": {},
   "outputs": [
    {
     "data": {
      "text/html": [
       "<div>\n",
       "<style scoped>\n",
       "    .dataframe tbody tr th:only-of-type {\n",
       "        vertical-align: middle;\n",
       "    }\n",
       "\n",
       "    .dataframe tbody tr th {\n",
       "        vertical-align: top;\n",
       "    }\n",
       "\n",
       "    .dataframe thead th {\n",
       "        text-align: right;\n",
       "    }\n",
       "</style>\n",
       "<table border=\"1\" class=\"dataframe\">\n",
       "  <thead>\n",
       "    <tr style=\"text-align: right;\">\n",
       "      <th></th>\n",
       "      <th>Song name</th>\n",
       "      <th>Artist name</th>\n",
       "      <th>Last week rank</th>\n",
       "      <th>Peak rank</th>\n",
       "    </tr>\n",
       "  </thead>\n",
       "  <tbody>\n",
       "    <tr>\n",
       "      <th>0</th>\n",
       "      <td>Last Night</td>\n",
       "      <td>Morgan Wallen</td>\n",
       "      <td></td>\n",
       "      <td></td>\n",
       "    </tr>\n",
       "    <tr>\n",
       "      <th>1</th>\n",
       "      <td>Flowers</td>\n",
       "      <td>Miley Cyrus</td>\n",
       "      <td></td>\n",
       "      <td></td>\n",
       "    </tr>\n",
       "    <tr>\n",
       "      <th>2</th>\n",
       "      <td>Kill Bill</td>\n",
       "      <td>SZA</td>\n",
       "      <td></td>\n",
       "      <td></td>\n",
       "    </tr>\n",
       "    <tr>\n",
       "      <th>3</th>\n",
       "      <td>Die For You</td>\n",
       "      <td>The Weeknd &amp; Ariana Grande</td>\n",
       "      <td></td>\n",
       "      <td></td>\n",
       "    </tr>\n",
       "    <tr>\n",
       "      <th>4</th>\n",
       "      <td>Boy's A Liar, Pt. 2</td>\n",
       "      <td>PinkPantheress &amp; Ice Spice</td>\n",
       "      <td></td>\n",
       "      <td></td>\n",
       "    </tr>\n",
       "    <tr>\n",
       "      <th>...</th>\n",
       "      <td>...</td>\n",
       "      <td>...</td>\n",
       "      <td>...</td>\n",
       "      <td>...</td>\n",
       "    </tr>\n",
       "    <tr>\n",
       "      <th>95</th>\n",
       "      <td>Nonsense</td>\n",
       "      <td>Sabrina Carpenter</td>\n",
       "      <td></td>\n",
       "      <td></td>\n",
       "    </tr>\n",
       "    <tr>\n",
       "      <th>96</th>\n",
       "      <td>AMG</td>\n",
       "      <td>Gabito Ballesteros, Peso Pluma &amp; Natanael Cano</td>\n",
       "      <td></td>\n",
       "      <td></td>\n",
       "    </tr>\n",
       "    <tr>\n",
       "      <th>97</th>\n",
       "      <td>Lift Me Up</td>\n",
       "      <td>Rihanna</td>\n",
       "      <td></td>\n",
       "      <td></td>\n",
       "    </tr>\n",
       "    <tr>\n",
       "      <th>98</th>\n",
       "      <td>You Didn't</td>\n",
       "      <td>Brett Young</td>\n",
       "      <td></td>\n",
       "      <td></td>\n",
       "    </tr>\n",
       "    <tr>\n",
       "      <th>99</th>\n",
       "      <td>10:35</td>\n",
       "      <td>Tiesto Featuring Tate McRae</td>\n",
       "      <td></td>\n",
       "      <td></td>\n",
       "    </tr>\n",
       "  </tbody>\n",
       "</table>\n",
       "<p>100 rows × 4 columns</p>\n",
       "</div>"
      ],
      "text/plain": [
       "              Song name                                     Artist name  \\\n",
       "0            Last Night                                   Morgan Wallen   \n",
       "1               Flowers                                     Miley Cyrus   \n",
       "2             Kill Bill                                             SZA   \n",
       "3           Die For You                      The Weeknd & Ariana Grande   \n",
       "4   Boy's A Liar, Pt. 2                      PinkPantheress & Ice Spice   \n",
       "..                  ...                                             ...   \n",
       "95             Nonsense                               Sabrina Carpenter   \n",
       "96                  AMG  Gabito Ballesteros, Peso Pluma & Natanael Cano   \n",
       "97           Lift Me Up                                         Rihanna   \n",
       "98           You Didn't                                     Brett Young   \n",
       "99                10:35                     Tiesto Featuring Tate McRae   \n",
       "\n",
       "   Last week rank Peak rank  \n",
       "0                            \n",
       "1                            \n",
       "2                            \n",
       "3                            \n",
       "4                            \n",
       "..            ...       ...  \n",
       "95                           \n",
       "96                           \n",
       "97                           \n",
       "98                           \n",
       "99                           \n",
       "\n",
       "[100 rows x 4 columns]"
      ]
     },
     "execution_count": 284,
     "metadata": {},
     "output_type": "execute_result"
    }
   ],
   "source": [
    "df=pd.DataFrame({\" Song name\":s_nam,\"Artist name\":s_art,\"Last week rank\":s_las,\"Peak rank\":s_pea})\n",
    "df"
   ]
  },
  {
   "cell_type": "code",
   "execution_count": null,
   "id": "ac9ceec7",
   "metadata": {},
   "outputs": [],
   "source": []
  }
 ],
 "metadata": {
  "kernelspec": {
   "display_name": "Python 3 (ipykernel)",
   "language": "python",
   "name": "python3"
  },
  "language_info": {
   "codemirror_mode": {
    "name": "ipython",
    "version": 3
   },
   "file_extension": ".py",
   "mimetype": "text/x-python",
   "name": "python",
   "nbconvert_exporter": "python",
   "pygments_lexer": "ipython3",
   "version": "3.9.13"
  }
 },
 "nbformat": 4,
 "nbformat_minor": 5
}
