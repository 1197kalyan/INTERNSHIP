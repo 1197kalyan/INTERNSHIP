{
 "cells": [
  {
   "cell_type": "code",
   "execution_count": 1,
   "id": "f67a2131",
   "metadata": {},
   "outputs": [
    {
     "name": "stdout",
     "output_type": "stream",
     "text": [
      "Requirement already satisfied: selenium in c:\\users\\kalya\\anaconda3\\lib\\site-packages (4.8.0)\n",
      "Requirement already satisfied: trio-websocket~=0.9 in c:\\users\\kalya\\anaconda3\\lib\\site-packages (from selenium) (0.9.2)\n",
      "Requirement already satisfied: certifi>=2021.10.8 in c:\\users\\kalya\\anaconda3\\lib\\site-packages (from selenium) (2022.9.14)\n",
      "Requirement already satisfied: urllib3[socks]~=1.26 in c:\\users\\kalya\\anaconda3\\lib\\site-packages (from selenium) (1.26.11)\n",
      "Requirement already satisfied: trio~=0.17 in c:\\users\\kalya\\anaconda3\\lib\\site-packages (from selenium) (0.22.0)\n",
      "Requirement already satisfied: sniffio in c:\\users\\kalya\\anaconda3\\lib\\site-packages (from trio~=0.17->selenium) (1.2.0)\n",
      "Requirement already satisfied: attrs>=19.2.0 in c:\\users\\kalya\\anaconda3\\lib\\site-packages (from trio~=0.17->selenium) (21.4.0)\n",
      "Requirement already satisfied: sortedcontainers in c:\\users\\kalya\\anaconda3\\lib\\site-packages (from trio~=0.17->selenium) (2.4.0)\n",
      "Requirement already satisfied: idna in c:\\users\\kalya\\anaconda3\\lib\\site-packages (from trio~=0.17->selenium) (3.3)\n",
      "Requirement already satisfied: exceptiongroup>=1.0.0rc9 in c:\\users\\kalya\\anaconda3\\lib\\site-packages (from trio~=0.17->selenium) (1.1.0)\n",
      "Requirement already satisfied: outcome in c:\\users\\kalya\\anaconda3\\lib\\site-packages (from trio~=0.17->selenium) (1.2.0)\n",
      "Requirement already satisfied: cffi>=1.14 in c:\\users\\kalya\\anaconda3\\lib\\site-packages (from trio~=0.17->selenium) (1.15.1)\n",
      "Requirement already satisfied: async-generator>=1.9 in c:\\users\\kalya\\anaconda3\\lib\\site-packages (from trio~=0.17->selenium) (1.10)\n",
      "Requirement already satisfied: wsproto>=0.14 in c:\\users\\kalya\\anaconda3\\lib\\site-packages (from trio-websocket~=0.9->selenium) (1.2.0)\n",
      "Requirement already satisfied: PySocks!=1.5.7,<2.0,>=1.5.6 in c:\\users\\kalya\\anaconda3\\lib\\site-packages (from urllib3[socks]~=1.26->selenium) (1.7.1)\n",
      "Requirement already satisfied: pycparser in c:\\users\\kalya\\anaconda3\\lib\\site-packages (from cffi>=1.14->trio~=0.17->selenium) (2.21)\n",
      "Requirement already satisfied: h11<1,>=0.9.0 in c:\\users\\kalya\\anaconda3\\lib\\site-packages (from wsproto>=0.14->trio-websocket~=0.9->selenium) (0.14.0)\n",
      "Note: you may need to restart the kernel to use updated packages.\n"
     ]
    }
   ],
   "source": [
    "pip install selenium"
   ]
  },
  {
   "cell_type": "markdown",
   "id": "180c40de",
   "metadata": {},
   "source": [
    "# FIRST QUESTION ANSWER"
   ]
  },
  {
   "cell_type": "code",
   "execution_count": 154,
   "id": "c56a3b3e",
   "metadata": {},
   "outputs": [],
   "source": [
    "import pandas as pd \n",
    "import selenium"
   ]
  },
  {
   "cell_type": "code",
   "execution_count": 155,
   "id": "c33099ef",
   "metadata": {},
   "outputs": [],
   "source": [
    "from selenium import webdriver\n",
    "import warnings\n",
    "warnings.filterwarnings('ignore')\n",
    "from selenium.webdriver.common.by import By\n",
    "import time"
   ]
  },
  {
   "cell_type": "code",
   "execution_count": 156,
   "id": "4dd1629e",
   "metadata": {},
   "outputs": [],
   "source": [
    "driver=webdriver.Chrome(r\"chromedriver.exe\")"
   ]
  },
  {
   "cell_type": "code",
   "execution_count": 157,
   "id": "0b79b4d7",
   "metadata": {},
   "outputs": [],
   "source": [
    "driver.get(\"http://www.naukri.com/\")"
   ]
  },
  {
   "cell_type": "code",
   "execution_count": 158,
   "id": "07e7e171",
   "metadata": {},
   "outputs": [],
   "source": [
    "pspk=driver.find_element(By.CLASS_NAME,\"suggestor-input\")\n",
    "pspk.send_keys(\"Data Analyst\")"
   ]
  },
  {
   "cell_type": "code",
   "execution_count": 159,
   "id": "86723fa5",
   "metadata": {},
   "outputs": [],
   "source": [
    "location=driver.find_element(By.XPATH,\"/html/body/div[1]/div[6]/div/div/div[3]/div/input\")\n",
    "location.send_keys(\"Bangalore\")"
   ]
  },
  {
   "cell_type": "code",
   "execution_count": 160,
   "id": "18258d71",
   "metadata": {},
   "outputs": [],
   "source": [
    "search=driver.find_element(By.CLASS_NAME,\"qsbSubmit\")\n",
    "search.click()"
   ]
  },
  {
   "cell_type": "code",
   "execution_count": 161,
   "id": "c181e417",
   "metadata": {},
   "outputs": [],
   "source": [
    "job_titles=[]\n",
    "job_location=[]\n",
    "company_name=[]\n",
    "experience_required=[]"
   ]
  },
  {
   "cell_type": "code",
   "execution_count": 162,
   "id": "080d52bc",
   "metadata": {},
   "outputs": [],
   "source": [
    "title_tags=driver.find_elements(By.XPATH,\"//a[@class='title ellipsis']\")\n",
    "for i in title_tags[0:10]:\n",
    "    title=i.text\n",
    "    job_titles.append(title)"
   ]
  },
  {
   "cell_type": "code",
   "execution_count": 163,
   "id": "0332be6d",
   "metadata": {},
   "outputs": [],
   "source": [
    "location_tags=driver.find_elements(By.XPATH,\"//span[@class='ellipsis fleft locWdth']\")\n",
    "for i in location_tags[0:10]:\n",
    "    location=i.text\n",
    "    job_location.append(location)"
   ]
  },
  {
   "cell_type": "code",
   "execution_count": 164,
   "id": "2903ec71",
   "metadata": {},
   "outputs": [],
   "source": [
    "company_tags=driver.find_elements(By.XPATH,\"//a[@class='subTitle ellipsis fleft']\")\n",
    "for i in company_tags[0:10]:\n",
    "    company=i.text\n",
    "    company_name.append(company)"
   ]
  },
  {
   "cell_type": "code",
   "execution_count": 165,
   "id": "377ab75b",
   "metadata": {},
   "outputs": [],
   "source": [
    "experience_tags=driver.find_elements(By.XPATH,\"//span[@class='ellipsis fleft expwdth']\")\n",
    "for i in experience_tags[0:10]:\n",
    "    experience=i.text\n",
    "    experience_required.append(experience)"
   ]
  },
  {
   "cell_type": "code",
   "execution_count": 166,
   "id": "e97464c6",
   "metadata": {},
   "outputs": [
    {
     "name": "stdout",
     "output_type": "stream",
     "text": [
      "10 10 10 10\n"
     ]
    }
   ],
   "source": [
    "print(len(job_titles),len(job_location),len(company_name),len(experience_required))\n"
   ]
  },
  {
   "cell_type": "code",
   "execution_count": 167,
   "id": "79280a47",
   "metadata": {},
   "outputs": [
    {
     "data": {
      "text/html": [
       "<div>\n",
       "<style scoped>\n",
       "    .dataframe tbody tr th:only-of-type {\n",
       "        vertical-align: middle;\n",
       "    }\n",
       "\n",
       "    .dataframe tbody tr th {\n",
       "        vertical-align: top;\n",
       "    }\n",
       "\n",
       "    .dataframe thead th {\n",
       "        text-align: right;\n",
       "    }\n",
       "</style>\n",
       "<table border=\"1\" class=\"dataframe\">\n",
       "  <thead>\n",
       "    <tr style=\"text-align: right;\">\n",
       "      <th></th>\n",
       "      <th>Title</th>\n",
       "      <th>Location</th>\n",
       "      <th>Company name</th>\n",
       "      <th>Experience</th>\n",
       "    </tr>\n",
       "  </thead>\n",
       "  <tbody>\n",
       "    <tr>\n",
       "      <th>0</th>\n",
       "      <td>Data Analyst</td>\n",
       "      <td>Mumbai Suburban, Mumbai (All Areas)</td>\n",
       "      <td>Cointab Software</td>\n",
       "      <td>0-2 Yrs</td>\n",
       "    </tr>\n",
       "    <tr>\n",
       "      <th>1</th>\n",
       "      <td>Data Analyst : ( Night Shift )</td>\n",
       "      <td>Vadodara</td>\n",
       "      <td>Bluebox Infosoft</td>\n",
       "      <td>0-2 Yrs</td>\n",
       "    </tr>\n",
       "    <tr>\n",
       "      <th>2</th>\n",
       "      <td>Data Analyst</td>\n",
       "      <td>Mumbai Suburban, Thane, Panvel, Navi Mumbai, K...</td>\n",
       "      <td>Ornet Technologies</td>\n",
       "      <td>0-1 Yrs</td>\n",
       "    </tr>\n",
       "    <tr>\n",
       "      <th>3</th>\n",
       "      <td>Data Analyst</td>\n",
       "      <td>Gurgaon/Gurugram</td>\n",
       "      <td>GM Analytics Solutions</td>\n",
       "      <td>2-5 Yrs</td>\n",
       "    </tr>\n",
       "    <tr>\n",
       "      <th>4</th>\n",
       "      <td>Data Analyst</td>\n",
       "      <td>Chennai(Alwarpet)</td>\n",
       "      <td>Wiz Logtec Solutions</td>\n",
       "      <td>1-3 Yrs</td>\n",
       "    </tr>\n",
       "    <tr>\n",
       "      <th>5</th>\n",
       "      <td>Data Analyst</td>\n",
       "      <td>Hybrid - Hyderabad/Secunderabad, Pune, Bangalo...</td>\n",
       "      <td>EY</td>\n",
       "      <td>5-10 Yrs</td>\n",
       "    </tr>\n",
       "    <tr>\n",
       "      <th>6</th>\n",
       "      <td>Data Analyst Databricks</td>\n",
       "      <td>Bangalore/Bengaluru</td>\n",
       "      <td>Optum</td>\n",
       "      <td>4-6 Yrs</td>\n",
       "    </tr>\n",
       "    <tr>\n",
       "      <th>7</th>\n",
       "      <td>Data Analyst</td>\n",
       "      <td>Bangalore/Bengaluru</td>\n",
       "      <td>Siemens</td>\n",
       "      <td>1-4 Yrs</td>\n",
       "    </tr>\n",
       "    <tr>\n",
       "      <th>8</th>\n",
       "      <td>Data Analyst</td>\n",
       "      <td>Hybrid - Bangalore/Bengaluru, Delhi / NCR</td>\n",
       "      <td>Aon</td>\n",
       "      <td>6-9 Yrs</td>\n",
       "    </tr>\n",
       "    <tr>\n",
       "      <th>9</th>\n",
       "      <td>Data Analyst</td>\n",
       "      <td>Bangalore/Bengaluru</td>\n",
       "      <td>Entrupy</td>\n",
       "      <td>1-3 Yrs</td>\n",
       "    </tr>\n",
       "  </tbody>\n",
       "</table>\n",
       "</div>"
      ],
      "text/plain": [
       "                            Title  \\\n",
       "0                    Data Analyst   \n",
       "1  Data Analyst : ( Night Shift )   \n",
       "2                    Data Analyst   \n",
       "3                    Data Analyst   \n",
       "4                    Data Analyst   \n",
       "5                    Data Analyst   \n",
       "6         Data Analyst Databricks   \n",
       "7                    Data Analyst   \n",
       "8                    Data Analyst   \n",
       "9                    Data Analyst   \n",
       "\n",
       "                                            Location            Company name  \\\n",
       "0                Mumbai Suburban, Mumbai (All Areas)        Cointab Software   \n",
       "1                                           Vadodara        Bluebox Infosoft   \n",
       "2  Mumbai Suburban, Thane, Panvel, Navi Mumbai, K...      Ornet Technologies   \n",
       "3                                   Gurgaon/Gurugram  GM Analytics Solutions   \n",
       "4                                  Chennai(Alwarpet)    Wiz Logtec Solutions   \n",
       "5  Hybrid - Hyderabad/Secunderabad, Pune, Bangalo...                      EY   \n",
       "6                                Bangalore/Bengaluru                   Optum   \n",
       "7                                Bangalore/Bengaluru                 Siemens   \n",
       "8          Hybrid - Bangalore/Bengaluru, Delhi / NCR                     Aon   \n",
       "9                                Bangalore/Bengaluru                 Entrupy   \n",
       "\n",
       "  Experience  \n",
       "0    0-2 Yrs  \n",
       "1    0-2 Yrs  \n",
       "2    0-1 Yrs  \n",
       "3    2-5 Yrs  \n",
       "4    1-3 Yrs  \n",
       "5   5-10 Yrs  \n",
       "6    4-6 Yrs  \n",
       "7    1-4 Yrs  \n",
       "8    6-9 Yrs  \n",
       "9    1-3 Yrs  "
      ]
     },
     "execution_count": 167,
     "metadata": {},
     "output_type": "execute_result"
    }
   ],
   "source": [
    "import pandas as pd\n",
    "df=pd.DataFrame({'Title':job_titles,'Location':job_location,'Company name':company_name,'Experience':experience_required})\n",
    "df"
   ]
  },
  {
   "cell_type": "markdown",
   "id": "ec40cb2e",
   "metadata": {},
   "source": [
    "# SECOND QUESTION ANSWER"
   ]
  },
  {
   "cell_type": "code",
   "execution_count": 361,
   "id": "c0bb303e",
   "metadata": {},
   "outputs": [],
   "source": [
    "import pandas as pd \n",
    "import selenium"
   ]
  },
  {
   "cell_type": "code",
   "execution_count": 362,
   "id": "0e4407c9",
   "metadata": {},
   "outputs": [],
   "source": [
    "from selenium import webdriver\n",
    "import warnings\n",
    "warnings.filterwarnings('ignore')\n",
    "from selenium.webdriver.common.by import By\n",
    "import time"
   ]
  },
  {
   "cell_type": "code",
   "execution_count": 363,
   "id": "d8cf5b1e",
   "metadata": {},
   "outputs": [],
   "source": [
    "driver=webdriver.Chrome(r\"chromedriver.exe\")"
   ]
  },
  {
   "cell_type": "code",
   "execution_count": 364,
   "id": "a63bc717",
   "metadata": {},
   "outputs": [],
   "source": [
    "driver.get(\"http://www.naukri.com/\")"
   ]
  },
  {
   "cell_type": "code",
   "execution_count": 365,
   "id": "50a4b7d8",
   "metadata": {},
   "outputs": [],
   "source": [
    "munna=driver.find_element(By.CLASS_NAME,\"suggestor-input\")\n",
    "munna.send_keys(\"Data Scientist\")"
   ]
  },
  {
   "cell_type": "code",
   "execution_count": 366,
   "id": "be6ae572",
   "metadata": {},
   "outputs": [],
   "source": [
    "location=driver.find_element(By.XPATH,\"/html/body/div[1]/div[6]/div/div/div[5]/div/div/div/input\")\n",
    "location.send_keys(\"Bangalore\")"
   ]
  },
  {
   "cell_type": "code",
   "execution_count": 367,
   "id": "edee14e3",
   "metadata": {},
   "outputs": [],
   "source": [
    "search=driver.find_element(By.CLASS_NAME,\"qsbSubmit\")\n",
    "search.click()"
   ]
  },
  {
   "cell_type": "code",
   "execution_count": 368,
   "id": "b4d0deab",
   "metadata": {},
   "outputs": [],
   "source": [
    "job_tit=[]\n",
    "job_loc=[]\n",
    "company_nam=[]\n",
    "experience_req=[]"
   ]
  },
  {
   "cell_type": "code",
   "execution_count": 369,
   "id": "9b22c8f9",
   "metadata": {},
   "outputs": [],
   "source": [
    "tit_tags=driver.find_elements(By.XPATH,\"//a[@class='title ellipsis']\")\n",
    "for i in tit_tags[0:10]:\n",
    "    \n",
    "    tit=i.text                           \n",
    "    job_tit.append(tit)"
   ]
  },
  {
   "cell_type": "code",
   "execution_count": 370,
   "id": "df706ee3",
   "metadata": {},
   "outputs": [],
   "source": [
    "company_tags=driver.find_elements(By.XPATH,\"//a[@class='subTitle ellipsis fleft']\")\n",
    "for i in company_tags[0:10]:\n",
    "    company=i.text\n",
    "    company_nam.append(company)"
   ]
  },
  {
   "cell_type": "code",
   "execution_count": 371,
   "id": "33eff277",
   "metadata": {},
   "outputs": [],
   "source": [
    "experience_tags=driver.find_elements(By.XPATH,\"//span[@class='ellipsis fleft expwdth']\")\n",
    "for i in experience_tags[0:10]:\n",
    "    experience=i.text\n",
    "    experience_req.append(experience)"
   ]
  },
  {
   "cell_type": "code",
   "execution_count": 372,
   "id": "16243b0b",
   "metadata": {},
   "outputs": [],
   "source": [
    "loc_tags=driver.find_elements(By.XPATH,\"//span[@class='ellipsis fleft locWdth']\")\n",
    "for i in loc_tags[0:10]:\n",
    "    loc=i.text\n",
    "    job_loc.append(loc)"
   ]
  },
  {
   "cell_type": "code",
   "execution_count": 373,
   "id": "5e9b3162",
   "metadata": {},
   "outputs": [
    {
     "name": "stdout",
     "output_type": "stream",
     "text": [
      "10 10 10 10\n"
     ]
    }
   ],
   "source": [
    "print(len(job_tit),len(job_loc),len(company_nam),len(experience_req))"
   ]
  },
  {
   "cell_type": "code",
   "execution_count": 374,
   "id": "26e55369",
   "metadata": {},
   "outputs": [
    {
     "data": {
      "text/html": [
       "<div>\n",
       "<style scoped>\n",
       "    .dataframe tbody tr th:only-of-type {\n",
       "        vertical-align: middle;\n",
       "    }\n",
       "\n",
       "    .dataframe tbody tr th {\n",
       "        vertical-align: top;\n",
       "    }\n",
       "\n",
       "    .dataframe thead th {\n",
       "        text-align: right;\n",
       "    }\n",
       "</style>\n",
       "<table border=\"1\" class=\"dataframe\">\n",
       "  <thead>\n",
       "    <tr style=\"text-align: right;\">\n",
       "      <th></th>\n",
       "      <th>Title</th>\n",
       "      <th>Location</th>\n",
       "      <th>Company name</th>\n",
       "      <th>Experience</th>\n",
       "    </tr>\n",
       "  </thead>\n",
       "  <tbody>\n",
       "    <tr>\n",
       "      <th>0</th>\n",
       "      <td>Data Science Specialist</td>\n",
       "      <td>Bangalore/Bengaluru, Kolkata, Mumbai, Hyderaba...</td>\n",
       "      <td>Accenture</td>\n",
       "      <td>2-4 Yrs</td>\n",
       "    </tr>\n",
       "    <tr>\n",
       "      <th>1</th>\n",
       "      <td>Analystics &amp; Modeling Specialist</td>\n",
       "      <td>Bangalore/Bengaluru, Kolkata, Mumbai, Hyderaba...</td>\n",
       "      <td>Accenture</td>\n",
       "      <td>6-8 Yrs</td>\n",
       "    </tr>\n",
       "    <tr>\n",
       "      <th>2</th>\n",
       "      <td>Data Scientist</td>\n",
       "      <td>Hybrid - Bangalore/Bengaluru, Kolkata, Hyderab...</td>\n",
       "      <td>Cognizant</td>\n",
       "      <td>8-10 Yrs</td>\n",
       "    </tr>\n",
       "    <tr>\n",
       "      <th>3</th>\n",
       "      <td>Sr. Data scientist</td>\n",
       "      <td>Bangalore/Bengaluru, Hyderabad/Secunderabad, M...</td>\n",
       "      <td>Tata Consultancy Services (TCS)</td>\n",
       "      <td>7-12 Yrs</td>\n",
       "    </tr>\n",
       "    <tr>\n",
       "      <th>4</th>\n",
       "      <td>Data Scientist</td>\n",
       "      <td>Bangalore/Bengaluru, Noida, Kolkata, Mumbai, H...</td>\n",
       "      <td>Capgemini</td>\n",
       "      <td>9-14 Yrs</td>\n",
       "    </tr>\n",
       "    <tr>\n",
       "      <th>5</th>\n",
       "      <td>Lead Data Scientist</td>\n",
       "      <td>Bangalore/Bengaluru, Noida, Hyderabad/Secunder...</td>\n",
       "      <td>Birlasoft</td>\n",
       "      <td>8-12 Yrs</td>\n",
       "    </tr>\n",
       "    <tr>\n",
       "      <th>6</th>\n",
       "      <td>Expert Data Scientist</td>\n",
       "      <td>Bangalore/Bengaluru, Mumbai</td>\n",
       "      <td>UPL Limited</td>\n",
       "      <td>8-10 Yrs</td>\n",
       "    </tr>\n",
       "    <tr>\n",
       "      <th>7</th>\n",
       "      <td>Sr. Data Scientist</td>\n",
       "      <td>Bangalore/Bengaluru</td>\n",
       "      <td>Visa</td>\n",
       "      <td>4-8 Yrs</td>\n",
       "    </tr>\n",
       "    <tr>\n",
       "      <th>8</th>\n",
       "      <td>Lead Artificial Intelligence Specialist</td>\n",
       "      <td>Bangalore/Bengaluru</td>\n",
       "      <td>Baker Hughes</td>\n",
       "      <td>5-10 Yrs</td>\n",
       "    </tr>\n",
       "    <tr>\n",
       "      <th>9</th>\n",
       "      <td>Lead data scientist</td>\n",
       "      <td>Bangalore/Bengaluru</td>\n",
       "      <td>Siemens</td>\n",
       "      <td>8-10 Yrs</td>\n",
       "    </tr>\n",
       "  </tbody>\n",
       "</table>\n",
       "</div>"
      ],
      "text/plain": [
       "                                     Title  \\\n",
       "0                  Data Science Specialist   \n",
       "1         Analystics & Modeling Specialist   \n",
       "2                           Data Scientist   \n",
       "3                       Sr. Data scientist   \n",
       "4                           Data Scientist   \n",
       "5                      Lead Data Scientist   \n",
       "6                    Expert Data Scientist   \n",
       "7                       Sr. Data Scientist   \n",
       "8  Lead Artificial Intelligence Specialist   \n",
       "9                      Lead data scientist   \n",
       "\n",
       "                                            Location  \\\n",
       "0  Bangalore/Bengaluru, Kolkata, Mumbai, Hyderaba...   \n",
       "1  Bangalore/Bengaluru, Kolkata, Mumbai, Hyderaba...   \n",
       "2  Hybrid - Bangalore/Bengaluru, Kolkata, Hyderab...   \n",
       "3  Bangalore/Bengaluru, Hyderabad/Secunderabad, M...   \n",
       "4  Bangalore/Bengaluru, Noida, Kolkata, Mumbai, H...   \n",
       "5  Bangalore/Bengaluru, Noida, Hyderabad/Secunder...   \n",
       "6                        Bangalore/Bengaluru, Mumbai   \n",
       "7                                Bangalore/Bengaluru   \n",
       "8                                Bangalore/Bengaluru   \n",
       "9                                Bangalore/Bengaluru   \n",
       "\n",
       "                      Company name Experience  \n",
       "0                        Accenture    2-4 Yrs  \n",
       "1                        Accenture    6-8 Yrs  \n",
       "2                        Cognizant   8-10 Yrs  \n",
       "3  Tata Consultancy Services (TCS)   7-12 Yrs  \n",
       "4                        Capgemini   9-14 Yrs  \n",
       "5                        Birlasoft   8-12 Yrs  \n",
       "6                      UPL Limited   8-10 Yrs  \n",
       "7                             Visa    4-8 Yrs  \n",
       "8                     Baker Hughes   5-10 Yrs  \n",
       "9                          Siemens   8-10 Yrs  "
      ]
     },
     "execution_count": 374,
     "metadata": {},
     "output_type": "execute_result"
    }
   ],
   "source": [
    "import pandas as pd\n",
    "df=pd.DataFrame({'Title':job_tit,'Location':job_loc,'Company name':company_nam,'Experience':experience_req})\n",
    "df"
   ]
  },
  {
   "cell_type": "markdown",
   "id": "cf90b65c",
   "metadata": {},
   "source": [
    "# FOURTH QUESTION ANSWER"
   ]
  },
  {
   "cell_type": "code",
   "execution_count": 27,
   "id": "368881f5",
   "metadata": {},
   "outputs": [],
   "source": [
    "import pandas as pd \n",
    "import selenium"
   ]
  },
  {
   "cell_type": "code",
   "execution_count": 28,
   "id": "4efc6985",
   "metadata": {},
   "outputs": [],
   "source": [
    "from selenium import webdriver\n",
    "import warnings\n",
    "warnings.filterwarnings('ignore')\n",
    "from selenium.webdriver.common.by import By"
   ]
  },
  {
   "cell_type": "code",
   "execution_count": 29,
   "id": "aeefbfaf",
   "metadata": {},
   "outputs": [],
   "source": [
    "driver=webdriver.Chrome(r\"chromedriver.exe\")"
   ]
  },
  {
   "cell_type": "code",
   "execution_count": 30,
   "id": "308c5bdc",
   "metadata": {},
   "outputs": [],
   "source": [
    "driver.get(\"http://www.flipkart.com/\")"
   ]
  },
  {
   "cell_type": "code",
   "execution_count": 31,
   "id": "0cffab4b",
   "metadata": {},
   "outputs": [],
   "source": [
    "kal=driver.find_element(By.CLASS_NAME,\"_3704LK\")\n",
    "kal.send_keys(\"sunglasses\")"
   ]
  },
  {
   "cell_type": "code",
   "execution_count": 33,
   "id": "1586f7e6",
   "metadata": {},
   "outputs": [],
   "source": [
    "search=driver.find_element(By.CLASS_NAME,\"L0Z3Pu\")\n",
    "search.click()"
   ]
  },
  {
   "cell_type": "code",
   "execution_count": 34,
   "id": "22bb32a6",
   "metadata": {},
   "outputs": [],
   "source": [
    "g_brand=[]\n",
    "g_price=[]\n",
    "g_fea=[]"
   ]
  },
  {
   "cell_type": "code",
   "execution_count": 35,
   "id": "7d176475",
   "metadata": {},
   "outputs": [],
   "source": [
    "start=0\n",
    "end=3\n",
    "for page in range (start,end):\n",
    "    brand_tags=driver.find_elements(By.XPATH,\"//div[@class='_2WkVRV']\")\n",
    "    for i in brand_tags[0:100]:\n",
    "        brand=i.text\n",
    "        g_brand.append(brand)\n",
    "        "
   ]
  },
  {
   "cell_type": "code",
   "execution_count": 36,
   "id": "09af559e",
   "metadata": {},
   "outputs": [
    {
     "data": {
      "text/plain": [
       "120"
      ]
     },
     "execution_count": 36,
     "metadata": {},
     "output_type": "execute_result"
    }
   ],
   "source": [
    "len(g_brand)"
   ]
  },
  {
   "cell_type": "code",
   "execution_count": 37,
   "id": "52f2cd4d",
   "metadata": {},
   "outputs": [],
   "source": [
    "start=0\n",
    "end=3\n",
    "for page in range (start,end):\n",
    "    price_tags=driver.find_elements(By.XPATH,\"//a[@class='_3bPFwb']\")\n",
    "    for i in price_tags[0:100]:\n",
    "        price=i.text\n",
    "        g_price.append(price)"
   ]
  },
  {
   "cell_type": "code",
   "execution_count": 38,
   "id": "ee7e071e",
   "metadata": {},
   "outputs": [
    {
     "data": {
      "text/plain": [
       "120"
      ]
     },
     "execution_count": 38,
     "metadata": {},
     "output_type": "execute_result"
    }
   ],
   "source": [
    "len(g_price)"
   ]
  },
  {
   "cell_type": "code",
   "execution_count": 42,
   "id": "2c318bfc",
   "metadata": {},
   "outputs": [],
   "source": [
    "start=0\n",
    "end=3\n",
    "for page in range(start,end):\n",
    "    fea_tags=driver.find_elements(By.XPATH,\"//a[@class='IRpwTa']\")\n",
    "    for i in fea_tags[0:100]:\n",
    "        fea=i.text\n",
    "        g_fea.append(fea)"
   ]
  },
  {
   "cell_type": "code",
   "execution_count": 43,
   "id": "b11f58fb",
   "metadata": {},
   "outputs": [
    {
     "data": {
      "text/plain": [
       "120"
      ]
     },
     "execution_count": 43,
     "metadata": {},
     "output_type": "execute_result"
    }
   ],
   "source": [
    "len(g_fea)"
   ]
  },
  {
   "cell_type": "code",
   "execution_count": 44,
   "id": "0a533414",
   "metadata": {},
   "outputs": [
    {
     "name": "stdout",
     "output_type": "stream",
     "text": [
      "120 120 120\n"
     ]
    }
   ],
   "source": [
    "print(len(g_brand),len(g_price),len(g_fea))"
   ]
  },
  {
   "cell_type": "code",
   "execution_count": 52,
   "id": "dc65e600",
   "metadata": {},
   "outputs": [
    {
     "data": {
      "text/html": [
       "<div>\n",
       "<style scoped>\n",
       "    .dataframe tbody tr th:only-of-type {\n",
       "        vertical-align: middle;\n",
       "    }\n",
       "\n",
       "    .dataframe tbody tr th {\n",
       "        vertical-align: top;\n",
       "    }\n",
       "\n",
       "    .dataframe thead th {\n",
       "        text-align: right;\n",
       "    }\n",
       "</style>\n",
       "<table border=\"1\" class=\"dataframe\">\n",
       "  <thead>\n",
       "    <tr style=\"text-align: right;\">\n",
       "      <th></th>\n",
       "      <th>Brand</th>\n",
       "      <th>FEATURES</th>\n",
       "      <th>Price</th>\n",
       "    </tr>\n",
       "  </thead>\n",
       "  <tbody>\n",
       "    <tr>\n",
       "      <th>0</th>\n",
       "      <td>R Resist</td>\n",
       "      <td>UV Protection Aviator Sunglasses (55)</td>\n",
       "      <td>₹1,399₹4,99972% off\\nFree delivery</td>\n",
       "    </tr>\n",
       "    <tr>\n",
       "      <th>1</th>\n",
       "      <td>R Resist</td>\n",
       "      <td>UV Protection Rectangular Sunglasses (Free Size)</td>\n",
       "      <td>₹1,399₹4,99972% off\\nFree delivery</td>\n",
       "    </tr>\n",
       "    <tr>\n",
       "      <th>2</th>\n",
       "      <td>R Resist</td>\n",
       "      <td>UV Protection Wayfarer Sunglasses (50)</td>\n",
       "      <td>₹1,399₹4,99972% off\\nFree delivery</td>\n",
       "    </tr>\n",
       "    <tr>\n",
       "      <th>3</th>\n",
       "      <td>R Resist</td>\n",
       "      <td>Others Wayfarer, Retro Square Sunglasses (50)</td>\n",
       "      <td>₹1,399₹4,99972% off\\nFree delivery</td>\n",
       "    </tr>\n",
       "    <tr>\n",
       "      <th>4</th>\n",
       "      <td>R Resist</td>\n",
       "      <td>Gradient, UV Protection Wayfarer Sunglasses (F...</td>\n",
       "      <td>₹1,399₹4,99972% off\\nFree delivery</td>\n",
       "    </tr>\n",
       "    <tr>\n",
       "      <th>...</th>\n",
       "      <td>...</td>\n",
       "      <td>...</td>\n",
       "      <td>...</td>\n",
       "    </tr>\n",
       "    <tr>\n",
       "      <th>95</th>\n",
       "      <td>R Resist</td>\n",
       "      <td>UV Protection Cat-eye Sunglasses (46)</td>\n",
       "      <td>₹1,399₹4,99972% off\\nFree delivery</td>\n",
       "    </tr>\n",
       "    <tr>\n",
       "      <th>96</th>\n",
       "      <td>R Resist</td>\n",
       "      <td>UV Protection Aviator Sunglasses (54)</td>\n",
       "      <td>₹1,399₹4,99972% off\\nFree delivery</td>\n",
       "    </tr>\n",
       "    <tr>\n",
       "      <th>97</th>\n",
       "      <td>R Resist</td>\n",
       "      <td>UV Protection Aviator Sunglasses (Free Size)</td>\n",
       "      <td>₹1,399₹4,99972% off\\nFree delivery</td>\n",
       "    </tr>\n",
       "    <tr>\n",
       "      <th>98</th>\n",
       "      <td>R Resist</td>\n",
       "      <td>UV Protection Rectangular Sunglasses (Free Size)</td>\n",
       "      <td>₹1,399₹4,99972% off\\nFree delivery</td>\n",
       "    </tr>\n",
       "    <tr>\n",
       "      <th>99</th>\n",
       "      <td>R Resist</td>\n",
       "      <td>Polarized, UV Protection, Mirrored Retro Squar...</td>\n",
       "      <td>₹1,399₹4,99972% off\\nFree delivery</td>\n",
       "    </tr>\n",
       "  </tbody>\n",
       "</table>\n",
       "<p>100 rows × 3 columns</p>\n",
       "</div>"
      ],
      "text/plain": [
       "       Brand                                           FEATURES  \\\n",
       "0   R Resist              UV Protection Aviator Sunglasses (55)   \n",
       "1   R Resist   UV Protection Rectangular Sunglasses (Free Size)   \n",
       "2   R Resist             UV Protection Wayfarer Sunglasses (50)   \n",
       "3   R Resist      Others Wayfarer, Retro Square Sunglasses (50)   \n",
       "4   R Resist  Gradient, UV Protection Wayfarer Sunglasses (F...   \n",
       "..       ...                                                ...   \n",
       "95  R Resist              UV Protection Cat-eye Sunglasses (46)   \n",
       "96  R Resist              UV Protection Aviator Sunglasses (54)   \n",
       "97  R Resist       UV Protection Aviator Sunglasses (Free Size)   \n",
       "98  R Resist   UV Protection Rectangular Sunglasses (Free Size)   \n",
       "99  R Resist  Polarized, UV Protection, Mirrored Retro Squar...   \n",
       "\n",
       "                                 Price  \n",
       "0   ₹1,399₹4,99972% off\\nFree delivery  \n",
       "1   ₹1,399₹4,99972% off\\nFree delivery  \n",
       "2   ₹1,399₹4,99972% off\\nFree delivery  \n",
       "3   ₹1,399₹4,99972% off\\nFree delivery  \n",
       "4   ₹1,399₹4,99972% off\\nFree delivery  \n",
       "..                                 ...  \n",
       "95  ₹1,399₹4,99972% off\\nFree delivery  \n",
       "96  ₹1,399₹4,99972% off\\nFree delivery  \n",
       "97  ₹1,399₹4,99972% off\\nFree delivery  \n",
       "98  ₹1,399₹4,99972% off\\nFree delivery  \n",
       "99  ₹1,399₹4,99972% off\\nFree delivery  \n",
       "\n",
       "[100 rows x 3 columns]"
      ]
     },
     "execution_count": 52,
     "metadata": {},
     "output_type": "execute_result"
    }
   ],
   "source": [
    "import pandas as pd\n",
    "df=pd.DataFrame({'BRAND':g_brand,'PRICE':g_price,'FEATURES':g_fea})\n",
    "df=pd.DataFrame({'Brand':brand[0:100],\n",
    "\n",
    "                'FEATURES':g_fea[0:100],\n",
    "\n",
    "                'Price':price[0:100]})\n",
    "df\n"
   ]
  },
  {
   "cell_type": "markdown",
   "id": "87b1360d",
   "metadata": {},
   "source": [
    "# FIFTH QUESTION ANSWER"
   ]
  },
  {
   "cell_type": "code",
   "execution_count": 143,
   "id": "ddcd44bb",
   "metadata": {},
   "outputs": [],
   "source": [
    "import pandas as pd \n",
    "import selenium"
   ]
  },
  {
   "cell_type": "code",
   "execution_count": 437,
   "id": "ad472bbe",
   "metadata": {},
   "outputs": [],
   "source": [
    "from selenium import webdriver\n",
    "import warnings\n",
    "warnings.filterwarnings('ignore')\n",
    "from selenium.webdriver.common.by import By"
   ]
  },
  {
   "cell_type": "code",
   "execution_count": 438,
   "id": "e2a54a17",
   "metadata": {},
   "outputs": [],
   "source": [
    "driver=webdriver.Chrome(r\"chromedriver.exe\")"
   ]
  },
  {
   "cell_type": "code",
   "execution_count": 146,
   "id": "9a30f092",
   "metadata": {},
   "outputs": [],
   "source": [
    "driver.get(\"https://www.flipkart.com/apple-iphone-11-black-64-gb/product-reviews/itm4e5041ba101fd?pid=MOBFWQ6BXGJCEYNY&lid=LSTMOBFWQ6BXGJCEYNYZXSHRJ&market\")"
   ]
  },
  {
   "cell_type": "code",
   "execution_count": 147,
   "id": "8f14bee2",
   "metadata": {},
   "outputs": [],
   "source": [
    "mob_rat=[]\n",
    "mob_sum=[]\n",
    "mob_rev=[]"
   ]
  },
  {
   "cell_type": "code",
   "execution_count": 148,
   "id": "458b8d23",
   "metadata": {},
   "outputs": [],
   "source": [
    "start=0\n",
    "end=100\n",
    "\n",
    "for page in range(start,end):\n",
    "    rating_tags=driver.find_elements(By.XPATH,\"//div[@class='_2d4LTz']\")\n",
    "    for i in rating_tags[0:100]:\n",
    "        rating=i.text\n",
    "        mob_rat.append(rating)                             \n"
   ]
  },
  {
   "cell_type": "code",
   "execution_count": 149,
   "id": "a224893a",
   "metadata": {},
   "outputs": [],
   "source": [
    "start=0\n",
    "end=10\n",
    "for i in range(start,end):\n",
    "    summary_tags=driver.find_elements(By.XPATH,\"//div[@class='t-ZTKy']\")\n",
    "    for i in summary_tags[0:10]:\n",
    "        summary=i.text\n",
    "        mob_sum.append(summary)"
   ]
  },
  {
   "cell_type": "code",
   "execution_count": 150,
   "id": "e551bcc1",
   "metadata": {},
   "outputs": [],
   "source": [
    "start=0\n",
    "end=50\n",
    "for i in range(start,end):\n",
    "    reviews_tag=driver.find_elements(By.XPATH,\"//div[@class='col-12-12']\")\n",
    "    for i in review_tag[0:25]:\n",
    "        reviews=i.text\n",
    "        mob_rev.append(reviews)"
   ]
  },
  {
   "cell_type": "code",
   "execution_count": 151,
   "id": "dff282d8",
   "metadata": {},
   "outputs": [
    {
     "name": "stdout",
     "output_type": "stream",
     "text": [
      "100 100 100\n"
     ]
    }
   ],
   "source": [
    "print(len(mob_rat),len(mob_sum),len(mob_rev))"
   ]
  },
  {
   "cell_type": "code",
   "execution_count": 153,
   "id": "b34b894e",
   "metadata": {},
   "outputs": [
    {
     "data": {
      "text/html": [
       "<div>\n",
       "<style scoped>\n",
       "    .dataframe tbody tr th:only-of-type {\n",
       "        vertical-align: middle;\n",
       "    }\n",
       "\n",
       "    .dataframe tbody tr th {\n",
       "        vertical-align: top;\n",
       "    }\n",
       "\n",
       "    .dataframe thead th {\n",
       "        text-align: right;\n",
       "    }\n",
       "</style>\n",
       "<table border=\"1\" class=\"dataframe\">\n",
       "  <thead>\n",
       "    <tr style=\"text-align: right;\">\n",
       "      <th></th>\n",
       "      <th>RATING</th>\n",
       "      <th>SUMMARY</th>\n",
       "      <th>REVIEWS</th>\n",
       "    </tr>\n",
       "  </thead>\n",
       "  <tbody>\n",
       "    <tr>\n",
       "      <th>0</th>\n",
       "      <td>4.6</td>\n",
       "      <td>Really satisfied with the Product I received.....</td>\n",
       "      <td>1,82,975 Ratings &amp;</td>\n",
       "    </tr>\n",
       "    <tr>\n",
       "      <th>1</th>\n",
       "      <td>4.6</td>\n",
       "      <td>Amazing phone with great cameras and better ba...</td>\n",
       "      <td>10,766 Reviews</td>\n",
       "    </tr>\n",
       "    <tr>\n",
       "      <th>2</th>\n",
       "      <td>4.6</td>\n",
       "      <td>Great iPhone very snappy experience as apple k...</td>\n",
       "      <td>1,82,975 Ratings &amp;</td>\n",
       "    </tr>\n",
       "    <tr>\n",
       "      <th>3</th>\n",
       "      <td>4.6</td>\n",
       "      <td>I'm Really happy with the product\\nDelivery wa...</td>\n",
       "      <td>10,766 Reviews</td>\n",
       "    </tr>\n",
       "    <tr>\n",
       "      <th>4</th>\n",
       "      <td>4.6</td>\n",
       "      <td>It's my first time to use iOS phone and I am l...</td>\n",
       "      <td>1,82,975 Ratings &amp;</td>\n",
       "    </tr>\n",
       "    <tr>\n",
       "      <th>...</th>\n",
       "      <td>...</td>\n",
       "      <td>...</td>\n",
       "      <td>...</td>\n",
       "    </tr>\n",
       "    <tr>\n",
       "      <th>95</th>\n",
       "      <td>4.6</td>\n",
       "      <td>Previously I was using one plus 3t it was a gr...</td>\n",
       "      <td>10,766 Reviews</td>\n",
       "    </tr>\n",
       "    <tr>\n",
       "      <th>96</th>\n",
       "      <td>4.6</td>\n",
       "      <td>Value for money\\n5 star rating\\nExcellent came...</td>\n",
       "      <td>1,82,975 Ratings &amp;</td>\n",
       "    </tr>\n",
       "    <tr>\n",
       "      <th>97</th>\n",
       "      <td>4.6</td>\n",
       "      <td>What a camera .....just awesome ..you can feel...</td>\n",
       "      <td>10,766 Reviews</td>\n",
       "    </tr>\n",
       "    <tr>\n",
       "      <th>98</th>\n",
       "      <td>4.6</td>\n",
       "      <td>I was using Iphone 6s and also Oneplus 6t. Bot...</td>\n",
       "      <td>1,82,975 Ratings &amp;</td>\n",
       "    </tr>\n",
       "    <tr>\n",
       "      <th>99</th>\n",
       "      <td>4.6</td>\n",
       "      <td>Amazing Powerful and Durable Gadget.\\n\\nI’m am...</td>\n",
       "      <td>10,766 Reviews</td>\n",
       "    </tr>\n",
       "  </tbody>\n",
       "</table>\n",
       "<p>100 rows × 3 columns</p>\n",
       "</div>"
      ],
      "text/plain": [
       "   RATING                                            SUMMARY  \\\n",
       "0     4.6  Really satisfied with the Product I received.....   \n",
       "1     4.6  Amazing phone with great cameras and better ba...   \n",
       "2     4.6  Great iPhone very snappy experience as apple k...   \n",
       "3     4.6  I'm Really happy with the product\\nDelivery wa...   \n",
       "4     4.6  It's my first time to use iOS phone and I am l...   \n",
       "..    ...                                                ...   \n",
       "95    4.6  Previously I was using one plus 3t it was a gr...   \n",
       "96    4.6  Value for money\\n5 star rating\\nExcellent came...   \n",
       "97    4.6  What a camera .....just awesome ..you can feel...   \n",
       "98    4.6  I was using Iphone 6s and also Oneplus 6t. Bot...   \n",
       "99    4.6  Amazing Powerful and Durable Gadget.\\n\\nI’m am...   \n",
       "\n",
       "               REVIEWS  \n",
       "0   1,82,975 Ratings &  \n",
       "1       10,766 Reviews  \n",
       "2   1,82,975 Ratings &  \n",
       "3       10,766 Reviews  \n",
       "4   1,82,975 Ratings &  \n",
       "..                 ...  \n",
       "95      10,766 Reviews  \n",
       "96  1,82,975 Ratings &  \n",
       "97      10,766 Reviews  \n",
       "98  1,82,975 Ratings &  \n",
       "99      10,766 Reviews  \n",
       "\n",
       "[100 rows x 3 columns]"
      ]
     },
     "execution_count": 153,
     "metadata": {},
     "output_type": "execute_result"
    }
   ],
   "source": [
    "import pandas as pd \n",
    "df=pd.DataFrame({'RATING':mob_rat,'SUMMARY':mob_sum,'REVIEWS':mob_rev})\n",
    "df"
   ]
  },
  {
   "cell_type": "markdown",
   "id": "8e83eefb",
   "metadata": {},
   "source": [
    "#  SIX QUESTION ANSWER"
   ]
  },
  {
   "cell_type": "code",
   "execution_count": 53,
   "id": "c53c6ffe",
   "metadata": {},
   "outputs": [],
   "source": [
    "import pandas as pd \n",
    "import selenium"
   ]
  },
  {
   "cell_type": "code",
   "execution_count": 54,
   "id": "9a1d6f6d",
   "metadata": {},
   "outputs": [],
   "source": [
    "from selenium import webdriver\n",
    "import warnings\n",
    "warnings.filterwarnings('ignore')\n",
    "from selenium.webdriver.common.by import By"
   ]
  },
  {
   "cell_type": "code",
   "execution_count": 55,
   "id": "74397b7f",
   "metadata": {},
   "outputs": [],
   "source": [
    "driver=webdriver.Chrome(r\"chromedriver.exe\")"
   ]
  },
  {
   "cell_type": "code",
   "execution_count": 56,
   "id": "8eb09c78",
   "metadata": {},
   "outputs": [],
   "source": [
    "driver.get(\"http://www.flipkart.com/\")"
   ]
  },
  {
   "cell_type": "code",
   "execution_count": 57,
   "id": "39d64cc9",
   "metadata": {},
   "outputs": [],
   "source": [
    "kar=driver.find_element(By.CLASS_NAME,\"_3704LK\")\n",
    "kar.send_keys(\"sneakers\")\n",
    "                       "
   ]
  },
  {
   "cell_type": "code",
   "execution_count": 59,
   "id": "157a8b77",
   "metadata": {},
   "outputs": [],
   "source": [
    "search=driver.find_element(By.CLASS_NAME,\"_34RNph\")\n",
    "search.click()"
   ]
  },
  {
   "cell_type": "code",
   "execution_count": 60,
   "id": "d1f84644",
   "metadata": {},
   "outputs": [],
   "source": [
    "s_brand=[]\n",
    "s_pd=[]\n",
    "s_price=[]"
   ]
  },
  {
   "cell_type": "code",
   "execution_count": 61,
   "id": "aa7aba99",
   "metadata": {},
   "outputs": [],
   "source": [
    "start=0\n",
    "end=3\n",
    "for page in range(start,end):\n",
    "    brand_tags=driver.find_elements(By.XPATH,\"//div[@class='_2WkVRV']\")\n",
    "    for i in brand_tags[0:100]:\n",
    "        brand=i.text\n",
    "        s_brand.append(brand)"
   ]
  },
  {
   "cell_type": "code",
   "execution_count": 62,
   "id": "0d0d4bd0",
   "metadata": {},
   "outputs": [
    {
     "data": {
      "text/plain": [
       "120"
      ]
     },
     "execution_count": 62,
     "metadata": {},
     "output_type": "execute_result"
    }
   ],
   "source": [
    "len(s_brand)"
   ]
  },
  {
   "cell_type": "code",
   "execution_count": 64,
   "id": "f4deab70",
   "metadata": {},
   "outputs": [],
   "source": [
    "start=0\n",
    "end=3\n",
    "for i in range(start,end):\n",
    "    pd_tags=driver.find_elements(By.XPATH,\"//a[@class='IRpwTa']\")\n",
    "    for i in pd_tags[0:100]:\n",
    "        pd=i.text\n",
    "        s_pd.append(pd)"
   ]
  },
  {
   "cell_type": "code",
   "execution_count": 65,
   "id": "02d846b3",
   "metadata": {},
   "outputs": [
    {
     "data": {
      "text/plain": [
       "120"
      ]
     },
     "execution_count": 65,
     "metadata": {},
     "output_type": "execute_result"
    }
   ],
   "source": [
    "len(s_pd)"
   ]
  },
  {
   "cell_type": "code",
   "execution_count": 66,
   "id": "f3f692e5",
   "metadata": {},
   "outputs": [],
   "source": [
    "start=0\n",
    "end=3\n",
    "for i in range(start,end):\n",
    "    price_tags=driver.find_elements(By.XPATH,\"//div[@class='_30jeq3']\")\n",
    "    for i in price_tags[0:100]:\n",
    "        price=i.text\n",
    "        s_price.append(price)"
   ]
  },
  {
   "cell_type": "code",
   "execution_count": 67,
   "id": "01cd4810",
   "metadata": {},
   "outputs": [
    {
     "data": {
      "text/plain": [
       "120"
      ]
     },
     "execution_count": 67,
     "metadata": {},
     "output_type": "execute_result"
    }
   ],
   "source": [
    "len(s_price)"
   ]
  },
  {
   "cell_type": "code",
   "execution_count": 70,
   "id": "0bc86d66",
   "metadata": {},
   "outputs": [
    {
     "data": {
      "text/html": [
       "<div>\n",
       "<style scoped>\n",
       "    .dataframe tbody tr th:only-of-type {\n",
       "        vertical-align: middle;\n",
       "    }\n",
       "\n",
       "    .dataframe tbody tr th {\n",
       "        vertical-align: top;\n",
       "    }\n",
       "\n",
       "    .dataframe thead th {\n",
       "        text-align: right;\n",
       "    }\n",
       "</style>\n",
       "<table border=\"1\" class=\"dataframe\">\n",
       "  <thead>\n",
       "    <tr style=\"text-align: right;\">\n",
       "      <th></th>\n",
       "      <th>BRAND</th>\n",
       "      <th>PRODUCT DESCRIPTION</th>\n",
       "      <th>PRICE</th>\n",
       "    </tr>\n",
       "  </thead>\n",
       "  <tbody>\n",
       "    <tr>\n",
       "      <th>0</th>\n",
       "      <td>RapidBox</td>\n",
       "      <td>Sneakers For Men</td>\n",
       "      <td>₹606</td>\n",
       "    </tr>\n",
       "    <tr>\n",
       "      <th>1</th>\n",
       "      <td>aadi</td>\n",
       "      <td>Mesh |Lightweight|Comfort|Summer|Trendy|Walkin...</td>\n",
       "      <td>₹373</td>\n",
       "    </tr>\n",
       "    <tr>\n",
       "      <th>2</th>\n",
       "      <td>Shozie</td>\n",
       "      <td>Stylish Sneakers Shoes for Women And Girls Sne...</td>\n",
       "      <td>₹374</td>\n",
       "    </tr>\n",
       "    <tr>\n",
       "      <th>3</th>\n",
       "      <td>aadi</td>\n",
       "      <td>Synthetic Leather |Lightweight|Comfort|Summer|...</td>\n",
       "      <td>₹399</td>\n",
       "    </tr>\n",
       "    <tr>\n",
       "      <th>4</th>\n",
       "      <td>Kraasa</td>\n",
       "      <td>Sneakers For Women</td>\n",
       "      <td>₹299</td>\n",
       "    </tr>\n",
       "    <tr>\n",
       "      <th>...</th>\n",
       "      <td>...</td>\n",
       "      <td>...</td>\n",
       "      <td>...</td>\n",
       "    </tr>\n",
       "    <tr>\n",
       "      <th>95</th>\n",
       "      <td>Gorofy</td>\n",
       "      <td>Gorofy Casual Shoes For Men Walking,Sneakers,L...</td>\n",
       "      <td>₹399</td>\n",
       "    </tr>\n",
       "    <tr>\n",
       "      <th>96</th>\n",
       "      <td>ADIDAS</td>\n",
       "      <td>STREET ICON M Sneakers For Men</td>\n",
       "      <td>₹1,943</td>\n",
       "    </tr>\n",
       "    <tr>\n",
       "      <th>97</th>\n",
       "      <td>Kraasa</td>\n",
       "      <td>Series 7 Sneakers For Men</td>\n",
       "      <td>₹599</td>\n",
       "    </tr>\n",
       "    <tr>\n",
       "      <th>98</th>\n",
       "      <td>Layasa</td>\n",
       "      <td>Stylish Casual Sports Shoe Sneakers For Women</td>\n",
       "      <td>₹389</td>\n",
       "    </tr>\n",
       "    <tr>\n",
       "      <th>99</th>\n",
       "      <td>aadi</td>\n",
       "      <td>Mesh |Lightweight|Comfort|Summer|Trendy|Walkin...</td>\n",
       "      <td>₹479</td>\n",
       "    </tr>\n",
       "  </tbody>\n",
       "</table>\n",
       "<p>100 rows × 3 columns</p>\n",
       "</div>"
      ],
      "text/plain": [
       "       BRAND                                PRODUCT DESCRIPTION   PRICE\n",
       "0   RapidBox                                   Sneakers For Men    ₹606\n",
       "1       aadi  Mesh |Lightweight|Comfort|Summer|Trendy|Walkin...    ₹373\n",
       "2     Shozie  Stylish Sneakers Shoes for Women And Girls Sne...    ₹374\n",
       "3       aadi  Synthetic Leather |Lightweight|Comfort|Summer|...    ₹399\n",
       "4     Kraasa                                 Sneakers For Women    ₹299\n",
       "..       ...                                                ...     ...\n",
       "95    Gorofy  Gorofy Casual Shoes For Men Walking,Sneakers,L...    ₹399\n",
       "96    ADIDAS                     STREET ICON M Sneakers For Men  ₹1,943\n",
       "97    Kraasa                          Series 7 Sneakers For Men    ₹599\n",
       "98    Layasa      Stylish Casual Sports Shoe Sneakers For Women    ₹389\n",
       "99      aadi  Mesh |Lightweight|Comfort|Summer|Trendy|Walkin...    ₹479\n",
       "\n",
       "[100 rows x 3 columns]"
      ]
     },
     "execution_count": 70,
     "metadata": {},
     "output_type": "execute_result"
    }
   ],
   "source": [
    "import pandas as pd\n",
    "df=pd.DataFrame({\"BRAND\":s_brand,\"PRODUCT DESCRIPTION\":s_pd,\"PRICE\":s_price})\n",
    "df=pd.DataFrame({'BRAND':s_brand[0:100],\n",
    "\n",
    "                'PRODUCT DESCRIPTION':s_pd[0:100],\n",
    "\n",
    "                'PRICE':s_price[0:100]})\n",
    "df"
   ]
  },
  {
   "cell_type": "markdown",
   "id": "816233e1",
   "metadata": {},
   "source": [
    "# SEVENTH QUESTION ANSWER"
   ]
  },
  {
   "cell_type": "code",
   "execution_count": 501,
   "id": "160f5697",
   "metadata": {},
   "outputs": [],
   "source": [
    "import pandas as pd \n",
    "import selenium"
   ]
  },
  {
   "cell_type": "code",
   "execution_count": 502,
   "id": "b26e52e8",
   "metadata": {},
   "outputs": [],
   "source": [
    "from selenium import webdriver\n",
    "import warnings\n",
    "warnings.filterwarnings('ignore')\n",
    "from selenium.webdriver.common.by import By"
   ]
  },
  {
   "cell_type": "code",
   "execution_count": 503,
   "id": "61389cb2",
   "metadata": {},
   "outputs": [],
   "source": [
    "driver=webdriver.Chrome(r\"chromedriver.exe\")"
   ]
  },
  {
   "cell_type": "code",
   "execution_count": 504,
   "id": "15e1537f",
   "metadata": {},
   "outputs": [],
   "source": [
    "driver.get(\"https://www.amazon.in/\")"
   ]
  },
  {
   "cell_type": "code",
   "execution_count": 505,
   "id": "9fc88c34",
   "metadata": {
    "scrolled": true
   },
   "outputs": [],
   "source": [
    "son=driver.find_element(By.XPATH,\"/html/body/div[1]/header/div/div[1]/div[2]/div/form/div[2]/div[1]/input\")\n",
    "son.send_keys(\"laptops\")"
   ]
  },
  {
   "cell_type": "code",
   "execution_count": 506,
   "id": "cb3b57ba",
   "metadata": {},
   "outputs": [],
   "source": [
    "search=driver.find_element(By.XPATH,\"/html/body/div[1]/header/div/div[1]/div[2]/div/form/div[3]/div/span/input\")\n",
    "search.click()"
   ]
  },
  {
   "cell_type": "code",
   "execution_count": 508,
   "id": "706098ac",
   "metadata": {},
   "outputs": [],
   "source": [
    "nit=driver.find_element(By.XPATH,\"/html/body/div[1]/div[2]/div[1]/div[2]/div/div[3]/span/div[1]/div/div/div[6]/ul[6]/li[12]/span/a/span\")\n",
    "                       \n",
    "nit.click()"
   ]
  },
  {
   "cell_type": "code",
   "execution_count": 509,
   "id": "71fc5c70",
   "metadata": {},
   "outputs": [],
   "source": [
    "l_tit=[]\n",
    "l_pri=[]\n",
    "l_rati=[]"
   ]
  },
  {
   "cell_type": "code",
   "execution_count": 510,
   "id": "5eac101c",
   "metadata": {},
   "outputs": [],
   "source": [
    "tit_tags=driver.find_elements(By.XPATH,\"//span[@class='a-size-medium a-color-base a-text-normal']\")\n",
    "for i in tit_tags[0:10]:\n",
    "    tit=i.text\n",
    "    l_tit.append(tit)"
   ]
  },
  {
   "cell_type": "code",
   "execution_count": 511,
   "id": "cb23a11a",
   "metadata": {},
   "outputs": [
    {
     "data": {
      "text/plain": [
       "10"
      ]
     },
     "execution_count": 511,
     "metadata": {},
     "output_type": "execute_result"
    }
   ],
   "source": [
    "len(l_tit)"
   ]
  },
  {
   "cell_type": "code",
   "execution_count": 512,
   "id": "1977c6df",
   "metadata": {},
   "outputs": [],
   "source": [
    "pri_tags=driver.find_elements(By.XPATH,\"//span[@class='a-price-whole']\")\n",
    "for i in pri_tags[0:10]:\n",
    "    pri=i.text\n",
    "    l_pri.append(pri)"
   ]
  },
  {
   "cell_type": "code",
   "execution_count": 513,
   "id": "b6631f0c",
   "metadata": {},
   "outputs": [
    {
     "data": {
      "text/plain": [
       "10"
      ]
     },
     "execution_count": 513,
     "metadata": {},
     "output_type": "execute_result"
    }
   ],
   "source": [
    "len(l_pri)"
   ]
  },
  {
   "cell_type": "code",
   "execution_count": 514,
   "id": "e69cf7e7",
   "metadata": {},
   "outputs": [],
   "source": [
    "rati_tags=driver.find_elements(By.XPATH,\"//span[@class='a-size-base']\")\n",
    "for i in rati_tags[0:10]:\n",
    "    rati=i.text\n",
    "    l_rati.append(rati)\n"
   ]
  },
  {
   "cell_type": "code",
   "execution_count": 515,
   "id": "68733bb2",
   "metadata": {},
   "outputs": [
    {
     "data": {
      "text/plain": [
       "10"
      ]
     },
     "execution_count": 515,
     "metadata": {},
     "output_type": "execute_result"
    }
   ],
   "source": [
    "len(l_rati)"
   ]
  },
  {
   "cell_type": "code",
   "execution_count": 517,
   "id": "843e40ff",
   "metadata": {},
   "outputs": [
    {
     "data": {
      "text/html": [
       "<div>\n",
       "<style scoped>\n",
       "    .dataframe tbody tr th:only-of-type {\n",
       "        vertical-align: middle;\n",
       "    }\n",
       "\n",
       "    .dataframe tbody tr th {\n",
       "        vertical-align: top;\n",
       "    }\n",
       "\n",
       "    .dataframe thead th {\n",
       "        text-align: right;\n",
       "    }\n",
       "</style>\n",
       "<table border=\"1\" class=\"dataframe\">\n",
       "  <thead>\n",
       "    <tr style=\"text-align: right;\">\n",
       "      <th></th>\n",
       "      <th>TITLE</th>\n",
       "      <th>RATINGS</th>\n",
       "      <th>PRICE</th>\n",
       "    </tr>\n",
       "  </thead>\n",
       "  <tbody>\n",
       "    <tr>\n",
       "      <th>0</th>\n",
       "      <td>Fujitsu UH-X 11th Gen Intel Core i7 13.3\" FHD ...</td>\n",
       "      <td>4.3</td>\n",
       "      <td>89,990</td>\n",
       "    </tr>\n",
       "    <tr>\n",
       "      <th>1</th>\n",
       "      <td>Lenovo Legion 5 Intel Core i7 11th Gen 15.6\" (...</td>\n",
       "      <td>2.9</td>\n",
       "      <td>1,17,990</td>\n",
       "    </tr>\n",
       "    <tr>\n",
       "      <th>2</th>\n",
       "      <td>ASUS Vivobook 14, Intel Core i7-1165G7 11th Ge...</td>\n",
       "      <td>4.1</td>\n",
       "      <td>56,990</td>\n",
       "    </tr>\n",
       "    <tr>\n",
       "      <th>3</th>\n",
       "      <td>HP Victus Gaming Latest 12th Gen Intel Core i7...</td>\n",
       "      <td>4.3</td>\n",
       "      <td>85,990</td>\n",
       "    </tr>\n",
       "    <tr>\n",
       "      <th>4</th>\n",
       "      <td>Lenovo IdeaPad Slim 5 12th Gen Intel Core i7 1...</td>\n",
       "      <td>4.2</td>\n",
       "      <td>82,990</td>\n",
       "    </tr>\n",
       "    <tr>\n",
       "      <th>5</th>\n",
       "      <td>HP Pavilion Plus, 12th Gen Intel Core i7 16GB ...</td>\n",
       "      <td></td>\n",
       "      <td></td>\n",
       "    </tr>\n",
       "    <tr>\n",
       "      <th>6</th>\n",
       "      <td>Dell Inspiron 5320 Laptop, Intel i7-1260P, 16G...</td>\n",
       "      <td></td>\n",
       "      <td></td>\n",
       "    </tr>\n",
       "    <tr>\n",
       "      <th>7</th>\n",
       "      <td>Samsung Galaxy Book2 (NP750) Intel 12th Gen co...</td>\n",
       "      <td></td>\n",
       "      <td></td>\n",
       "    </tr>\n",
       "    <tr>\n",
       "      <th>8</th>\n",
       "      <td>Acer Nitro 5 Gaming Laptop Intel core i7 11th ...</td>\n",
       "      <td></td>\n",
       "      <td></td>\n",
       "    </tr>\n",
       "    <tr>\n",
       "      <th>9</th>\n",
       "      <td>HP Pavilion 14 12th Gen Intel Core i7 16GB SDR...</td>\n",
       "      <td></td>\n",
       "      <td></td>\n",
       "    </tr>\n",
       "  </tbody>\n",
       "</table>\n",
       "</div>"
      ],
      "text/plain": [
       "                                               TITLE RATINGS     PRICE\n",
       "0  Fujitsu UH-X 11th Gen Intel Core i7 13.3\" FHD ...     4.3    89,990\n",
       "1  Lenovo Legion 5 Intel Core i7 11th Gen 15.6\" (...     2.9  1,17,990\n",
       "2  ASUS Vivobook 14, Intel Core i7-1165G7 11th Ge...     4.1    56,990\n",
       "3  HP Victus Gaming Latest 12th Gen Intel Core i7...     4.3    85,990\n",
       "4  Lenovo IdeaPad Slim 5 12th Gen Intel Core i7 1...     4.2    82,990\n",
       "5  HP Pavilion Plus, 12th Gen Intel Core i7 16GB ...                  \n",
       "6  Dell Inspiron 5320 Laptop, Intel i7-1260P, 16G...                  \n",
       "7  Samsung Galaxy Book2 (NP750) Intel 12th Gen co...                  \n",
       "8  Acer Nitro 5 Gaming Laptop Intel core i7 11th ...                  \n",
       "9  HP Pavilion 14 12th Gen Intel Core i7 16GB SDR...                  "
      ]
     },
     "execution_count": 517,
     "metadata": {},
     "output_type": "execute_result"
    }
   ],
   "source": [
    "import pandas as pd \n",
    "df=pd.DataFrame({\"TITLE\":l_tit,\"RATINGS\":l_rati,\"PRICE\":l_pri})\n",
    "df"
   ]
  },
  {
   "cell_type": "markdown",
   "id": "f97848f1",
   "metadata": {},
   "source": [
    "# EIGHT QUESTION ANSWER"
   ]
  },
  {
   "cell_type": "code",
   "execution_count": 181,
   "id": "b82dee88",
   "metadata": {},
   "outputs": [],
   "source": [
    "import pandas as pd \n",
    "import selenium"
   ]
  },
  {
   "cell_type": "code",
   "execution_count": 182,
   "id": "2e517da3",
   "metadata": {},
   "outputs": [],
   "source": [
    "from selenium import webdriver\n",
    "import warnings\n",
    "warnings.filterwarnings('ignore')\n",
    "from selenium.webdriver.common.by import By"
   ]
  },
  {
   "cell_type": "code",
   "execution_count": 183,
   "id": "57155d94",
   "metadata": {},
   "outputs": [],
   "source": [
    "driver=webdriver.Chrome(r\"chromedriver.exe\")"
   ]
  },
  {
   "cell_type": "code",
   "execution_count": 187,
   "id": "9b0cd09c",
   "metadata": {},
   "outputs": [],
   "source": [
    "driver.get(\"http://www.azquotes.com/\")"
   ]
  },
  {
   "cell_type": "code",
   "execution_count": 188,
   "id": "2f105406",
   "metadata": {},
   "outputs": [],
   "source": [
    "far=driver.find_element(By.XPATH,\"/html/body/div[1]/div[1]/div[1]/div/div[3]/ul/li[5]/a\")\n",
    "far.click()"
   ]
  },
  {
   "cell_type": "code",
   "execution_count": 189,
   "id": "982fdcd2",
   "metadata": {},
   "outputs": [],
   "source": [
    "k_quote=[]\n",
    "k_author=[]\n",
    "k_tq=[]"
   ]
  },
  {
   "cell_type": "code",
   "execution_count": 190,
   "id": "42a0c38d",
   "metadata": {},
   "outputs": [],
   "source": [
    "start=0\n",
    "end=10\n",
    "for page in range(start,end):\n",
    "    quote_tags=driver.find_elements(By.XPATH,\"//a[@class='title']\")\n",
    "    for i in quote_tags[0:1000]:\n",
    "        quote=i.text\n",
    "        k_quote.append(quote)"
   ]
  },
  {
   "cell_type": "code",
   "execution_count": 191,
   "id": "8d865b7e",
   "metadata": {},
   "outputs": [
    {
     "data": {
      "text/plain": [
       "1000"
      ]
     },
     "execution_count": 191,
     "metadata": {},
     "output_type": "execute_result"
    }
   ],
   "source": [
    "len(k_quote)"
   ]
  },
  {
   "cell_type": "code",
   "execution_count": 193,
   "id": "3979fd8d",
   "metadata": {},
   "outputs": [],
   "source": [
    "start=0\n",
    "end=10\n",
    "for page in range(start,end):\n",
    "    author_tags=driver.find_elements(By.XPATH,\"//div[@class='author']\")\n",
    "    for i in author_tags[0:1000]:\n",
    "        author=i.text\n",
    "        k_author.append(author)"
   ]
  },
  {
   "cell_type": "code",
   "execution_count": 194,
   "id": "b438fb0d",
   "metadata": {},
   "outputs": [
    {
     "data": {
      "text/plain": [
       "1000"
      ]
     },
     "execution_count": 194,
     "metadata": {},
     "output_type": "execute_result"
    }
   ],
   "source": [
    "len(k_author)"
   ]
  },
  {
   "cell_type": "code",
   "execution_count": 195,
   "id": "bb18747c",
   "metadata": {},
   "outputs": [],
   "source": [
    "start=0\n",
    "end=10\n",
    "for page in range(start,end):\n",
    "    tq_tags=driver.find_elements(By.XPATH,\"//div[@class='tags']\")\n",
    "    for i in tq_tags[0:1000]:\n",
    "        tq=i.text\n",
    "        k_tq.append(tq)"
   ]
  },
  {
   "cell_type": "code",
   "execution_count": 196,
   "id": "7ebf7c3a",
   "metadata": {},
   "outputs": [
    {
     "data": {
      "text/plain": [
       "1000"
      ]
     },
     "execution_count": 196,
     "metadata": {},
     "output_type": "execute_result"
    }
   ],
   "source": [
    "len(k_tq)"
   ]
  },
  {
   "cell_type": "code",
   "execution_count": 197,
   "id": "c4189d5f",
   "metadata": {},
   "outputs": [
    {
     "data": {
      "text/html": [
       "<div>\n",
       "<style scoped>\n",
       "    .dataframe tbody tr th:only-of-type {\n",
       "        vertical-align: middle;\n",
       "    }\n",
       "\n",
       "    .dataframe tbody tr th {\n",
       "        vertical-align: top;\n",
       "    }\n",
       "\n",
       "    .dataframe thead th {\n",
       "        text-align: right;\n",
       "    }\n",
       "</style>\n",
       "<table border=\"1\" class=\"dataframe\">\n",
       "  <thead>\n",
       "    <tr style=\"text-align: right;\">\n",
       "      <th></th>\n",
       "      <th>QUOTE</th>\n",
       "      <th>AUTHOR</th>\n",
       "      <th>TYPES OF QUOTES</th>\n",
       "    </tr>\n",
       "  </thead>\n",
       "  <tbody>\n",
       "    <tr>\n",
       "      <th>0</th>\n",
       "      <td>The essence of strategy is choosing what not t...</td>\n",
       "      <td>Michael Porter</td>\n",
       "      <td>Essence, Deep Thought, Transcendentalism</td>\n",
       "    </tr>\n",
       "    <tr>\n",
       "      <th>1</th>\n",
       "      <td>One cannot and must not try to erase the past ...</td>\n",
       "      <td>Golda Meir</td>\n",
       "      <td>Inspiration, Past, Trying</td>\n",
       "    </tr>\n",
       "    <tr>\n",
       "      <th>2</th>\n",
       "      <td>Patriotism means to stand by the country. It d...</td>\n",
       "      <td>Theodore Roosevelt</td>\n",
       "      <td>Country, Peace, War</td>\n",
       "    </tr>\n",
       "    <tr>\n",
       "      <th>3</th>\n",
       "      <td>Death is something inevitable. When a man has ...</td>\n",
       "      <td>Nelson Mandela</td>\n",
       "      <td>Inspirational, Motivational, Death</td>\n",
       "    </tr>\n",
       "    <tr>\n",
       "      <th>4</th>\n",
       "      <td>You have to love a nation that celebrates its ...</td>\n",
       "      <td>Erma Bombeck</td>\n",
       "      <td>4th Of July, Food, Patriotic</td>\n",
       "    </tr>\n",
       "    <tr>\n",
       "      <th>...</th>\n",
       "      <td>...</td>\n",
       "      <td>...</td>\n",
       "      <td>...</td>\n",
       "    </tr>\n",
       "    <tr>\n",
       "      <th>995</th>\n",
       "      <td>When the going gets weird, the weird turn pro.</td>\n",
       "      <td>Hunter S. Thompson</td>\n",
       "      <td>Music, Sports, Hunting</td>\n",
       "    </tr>\n",
       "    <tr>\n",
       "      <th>996</th>\n",
       "      <td>When a train goes through a tunnel and it gets...</td>\n",
       "      <td>Corrie Ten Boom</td>\n",
       "      <td>Trust, Encouraging, Uplifting</td>\n",
       "    </tr>\n",
       "    <tr>\n",
       "      <th>997</th>\n",
       "      <td>If you think you are too small to make a diffe...</td>\n",
       "      <td>Dalai Lama</td>\n",
       "      <td>Inspirational, Funny, Change</td>\n",
       "    </tr>\n",
       "    <tr>\n",
       "      <th>998</th>\n",
       "      <td>God doesn't require us to succeed, he only req...</td>\n",
       "      <td>Mother Teresa</td>\n",
       "      <td>Success, God, Mother</td>\n",
       "    </tr>\n",
       "    <tr>\n",
       "      <th>999</th>\n",
       "      <td>Change your thoughts and you change your world.</td>\n",
       "      <td>Norman Vincent Peale</td>\n",
       "      <td>Inspirational, Motivational, Change</td>\n",
       "    </tr>\n",
       "  </tbody>\n",
       "</table>\n",
       "<p>1000 rows × 3 columns</p>\n",
       "</div>"
      ],
      "text/plain": [
       "                                                 QUOTE                AUTHOR  \\\n",
       "0    The essence of strategy is choosing what not t...        Michael Porter   \n",
       "1    One cannot and must not try to erase the past ...            Golda Meir   \n",
       "2    Patriotism means to stand by the country. It d...    Theodore Roosevelt   \n",
       "3    Death is something inevitable. When a man has ...        Nelson Mandela   \n",
       "4    You have to love a nation that celebrates its ...          Erma Bombeck   \n",
       "..                                                 ...                   ...   \n",
       "995     When the going gets weird, the weird turn pro.    Hunter S. Thompson   \n",
       "996  When a train goes through a tunnel and it gets...       Corrie Ten Boom   \n",
       "997  If you think you are too small to make a diffe...            Dalai Lama   \n",
       "998  God doesn't require us to succeed, he only req...         Mother Teresa   \n",
       "999    Change your thoughts and you change your world.  Norman Vincent Peale   \n",
       "\n",
       "                              TYPES OF QUOTES  \n",
       "0    Essence, Deep Thought, Transcendentalism  \n",
       "1                   Inspiration, Past, Trying  \n",
       "2                         Country, Peace, War  \n",
       "3          Inspirational, Motivational, Death  \n",
       "4                4th Of July, Food, Patriotic  \n",
       "..                                        ...  \n",
       "995                    Music, Sports, Hunting  \n",
       "996             Trust, Encouraging, Uplifting  \n",
       "997              Inspirational, Funny, Change  \n",
       "998                      Success, God, Mother  \n",
       "999       Inspirational, Motivational, Change  \n",
       "\n",
       "[1000 rows x 3 columns]"
      ]
     },
     "execution_count": 197,
     "metadata": {},
     "output_type": "execute_result"
    }
   ],
   "source": [
    "df=pd.DataFrame({\"QUOTE\":k_quote,\"AUTHOR\":k_author,\"TYPES OF QUOTES\":k_tq})\n",
    "df"
   ]
  },
  {
   "cell_type": "code",
   "execution_count": null,
   "id": "e750b637",
   "metadata": {},
   "outputs": [],
   "source": []
  },
  {
   "cell_type": "markdown",
   "id": "f841ac53",
   "metadata": {},
   "source": [
    "# NINTH QUESTION ANSWER"
   ]
  },
  {
   "cell_type": "code",
   "execution_count": 378,
   "id": "dffea605",
   "metadata": {},
   "outputs": [],
   "source": [
    "import pandas as pd \n",
    "import selenium"
   ]
  },
  {
   "cell_type": "code",
   "execution_count": 379,
   "id": "6b19458f",
   "metadata": {},
   "outputs": [],
   "source": [
    "from selenium import webdriver\n",
    "import warnings\n",
    "warnings.filterwarnings('ignore')\n",
    "from selenium.webdriver.common.by import By"
   ]
  },
  {
   "cell_type": "code",
   "execution_count": 380,
   "id": "19789e1d",
   "metadata": {},
   "outputs": [],
   "source": [
    "driver=webdriver.Chrome(r\"chromedriver.exe\")"
   ]
  },
  {
   "cell_type": "code",
   "execution_count": 381,
   "id": "cea8ee8c",
   "metadata": {},
   "outputs": [],
   "source": [
    "driver.get(\"http://www.jagranjosh.com/\")"
   ]
  },
  {
   "cell_type": "code",
   "execution_count": 382,
   "id": "be61c11d",
   "metadata": {},
   "outputs": [],
   "source": [
    "dar=driver.find_element(By.XPATH,\"/html/body/div/div[1]/div/div[1]/div/div[6]/div/div[1]/header/div[3]/ul/li[9]/a\")\n",
    "dar.click()"
   ]
  },
  {
   "cell_type": "code",
   "execution_count": 384,
   "id": "19afabcb",
   "metadata": {},
   "outputs": [],
   "source": [
    "sea=driver.find_element(By.XPATH,\"/html/body/div[1]/div/div/div[2]/div/div[10]/div/div/ul/li[2]/a\")\n",
    "sea.click()"
   ]
  },
  {
   "cell_type": "code",
   "execution_count": 406,
   "id": "061f0a69",
   "metadata": {},
   "outputs": [],
   "source": [
    "pm_name=[]\n",
    "pm_bd=[]\n",
    "pm_to=[]\n",
    "pm_rem=[]\n"
   ]
  },
  {
   "cell_type": "code",
   "execution_count": 389,
   "id": "d7771a28",
   "metadata": {},
   "outputs": [
    {
     "data": {
      "text/plain": [
       "[\"S.N.\\nName\\nBorn-Dead\\nTerm of office\\nRemark\\n1.\\nJawahar Lal Nehru\\n(1889–1964)\\n15 August 1947 to 27 May 1964\\n16 years, 286 days\\nThe first prime minister of India and the longest-serving PM of India, the first to die in office.\\n2.\\nGulzarilal Nanda (Acting)\\n(1898-1998)\\n27 May 1964 to 9 June 1964,\\n13 days\\nFirst acting PM of India\\n3.\\nLal Bahadur Shastri\\n(1904–1966)\\n9 June 1964 to 11 January 1966\\n1 year, 216 days\\nHe has given the slogan of 'Jai Jawan Jai Kisan' during the Indo-Pak war of 1965\\n4. \\nGulzari Lal Nanda  (Acting)\\n(1898-1998)\\n11 January 1966 to 24 January 1966\\n13 days\\n-\\n5.\\nIndira Gandhi\\n(1917–1984)\\n24 January 1966 to 24 March 1977\\n11 years, 59 days\\nFirst female Prime Minister of India\\n6.\\nMorarji Desai\\n(1896–1995)\\n24 March 1977 to  28 July 1979 \\n2 year, 126 days\\nOldest to become PM (81 years old) and first to resign from office\\n7.\\nCharan Singh\\n(1902–1987)\\n28 July 1979 to 14 January 1980\\n170 days\\nOnly PM who did not face the Parliament\\n8.\\nIndira Gandhi\\n(1917–1984)\\n14 January 1980 to 31 October 1984\\n4 years, 291 days\\nThe first lady who served as PM for the second term\\n9.\\nRajiv Gandhi\\n(1944–1991)\\n31 October 1984 to 2 December 1989\\n5 years, 32 days\\nYoungest to become PM (40 years old)\\n10.\\nV. P. Singh\\n(1931–2008)\\n2 December 1989 to 10 November 1990\\n343 days\\nFirst PM to step down after a vote of no confidence\\n11.\\nChandra Shekhar\\n(1927–2007)\\n10 November 1990 to 21 June 1991\\n223 days\\nHe belongs to  Samajwadi Janata Party\\n12.\\nP. V. Narasimha Rao\\n(1921–2004)\\n21 June 1991 to 16 May 1996\\n4 years, 330 days\\nFirst PM from south India\\n13.\\nAtal Bihari Vajpayee\\n(1924- 2018)\\n16 May 1996 to 1 June 1996\\n16 days\\nPM for shortest tenure\\n14.\\nH. D. Deve Gowda\\n(born 1933)\\n1 June 1996 to 21 April 1997\\n324 days\\nHe belongs to  Janata Dal\\n15.\\nInder Kumar Gujral\\n(1919–2012)\\n21 April 1997 to 19 March 1998 \\n332 days\\n------\\n16.\\nAtal Bihari Vajpayee\\n(1924-2018)\\n19 March 1998 to 22 May 2004 \\n6 years, 64 days\\n The first non-congress PM who completed a full term as PM\\n17.\\nManmohan Singh\\n(born 1932)\\n22 May 2004 to 26 May 2014   \\n10 years, 4 days\\n First Sikh PM\\n18.\\nNarendra Modi\\n(born 1950)\\n26 May 2014 - Present\\n4th Prime Minister of India who served two consecutive tenures\"]"
      ]
     },
     "execution_count": 389,
     "metadata": {},
     "output_type": "execute_result"
    }
   ],
   "source": [
    "list_PM"
   ]
  },
  {
   "cell_type": "code",
   "execution_count": 394,
   "id": "274000b6",
   "metadata": {},
   "outputs": [
    {
     "name": "stdout",
     "output_type": "stream",
     "text": [
      "[\"S.N.\\nName\\nBorn-Dead\\nTerm of office\\nRemark\\n1.\\nJawahar Lal Nehru\\n(1889–1964)\\n15 August 1947 to 27 May 1964\\n16 years, 286 days\\nThe first prime minister of India and the longest-serving PM of India, the first to die in office.\\n2.\\nGulzarilal Nanda (Acting)\\n(1898-1998)\\n27 May 1964 to 9 June 1964,\\n13 days\\nFirst acting PM of India\\n3.\\nLal Bahadur Shastri\\n(1904–1966)\\n9 June 1964 to 11 January 1966\\n1 year, 216 days\\nHe has given the slogan of 'Jai Jawan Jai Kisan' during the Indo-Pak war of 1965\\n4. \\nGulzari Lal Nanda  (Acting)\\n(1898-1998)\\n11 January 1966 to 24 January 1966\\n13 days\\n-\\n5.\\nIndira Gandhi\\n(1917–1984)\\n24 January 1966 to 24 March 1977\\n11 years, 59 days\\nFirst female Prime Minister of India\\n6.\\nMorarji Desai\\n(1896–1995)\\n24 March 1977 to  28 July 1979 \\n2 year, 126 days\\nOldest to become PM (81 years old) and first to resign from office\\n7.\\nCharan Singh\\n(1902–1987)\\n28 July 1979 to 14 January 1980\\n170 days\\nOnly PM who did not face the Parliament\\n8.\\nIndira Gandhi\\n(1917–1984)\\n14 January 1980 to 31 October 1984\\n4 years, 291 days\\nThe first lady who served as PM for the second term\\n9.\\nRajiv Gandhi\\n(1944–1991)\\n31 October 1984 to 2 December 1989\\n5 years, 32 days\\nYoungest to become PM (40 years old)\\n10.\\nV. P. Singh\\n(1931–2008)\\n2 December 1989 to 10 November 1990\\n343 days\\nFirst PM to step down after a vote of no confidence\\n11.\\nChandra Shekhar\\n(1927–2007)\\n10 November 1990 to 21 June 1991\\n223 days\\nHe belongs to  Samajwadi Janata Party\\n12.\\nP. V. Narasimha Rao\\n(1921–2004)\\n21 June 1991 to 16 May 1996\\n4 years, 330 days\\nFirst PM from south India\\n13.\\nAtal Bihari Vajpayee\\n(1924- 2018)\\n16 May 1996 to 1 June 1996\\n16 days\\nPM for shortest tenure\\n14.\\nH. D. Deve Gowda\\n(born 1933)\\n1 June 1996 to 21 April 1997\\n324 days\\nHe belongs to  Janata Dal\\n15.\\nInder Kumar Gujral\\n(1919–2012)\\n21 April 1997 to 19 March 1998 \\n332 days\\n------\\n16.\\nAtal Bihari Vajpayee\\n(1924-2018)\\n19 March 1998 to 22 May 2004 \\n6 years, 64 days\\n The first non-congress PM who completed a full term as PM\\n17.\\nManmohan Singh\\n(born 1932)\\n22 May 2004 to 26 May 2014   \\n10 years, 4 days\\n First Sikh PM\\n18.\\nNarendra Modi\\n(born 1950)\\n26 May 2014 - Present\\n4th Prime Minister of India who served two consecutive tenures\"]\n"
     ]
    }
   ],
   "source": [
    "print(list_PM)"
   ]
  },
  {
   "cell_type": "code",
   "execution_count": null,
   "id": "73df46f9",
   "metadata": {},
   "outputs": [],
   "source": []
  },
  {
   "cell_type": "markdown",
   "id": "51d8a548",
   "metadata": {},
   "source": [
    "# TENTH QUESTION ANSWER"
   ]
  },
  {
   "cell_type": "code",
   "execution_count": 83,
   "id": "e9493b4d",
   "metadata": {},
   "outputs": [],
   "source": [
    "import pandas as pd \n",
    "import selenium"
   ]
  },
  {
   "cell_type": "code",
   "execution_count": 84,
   "id": "66d6a6aa",
   "metadata": {},
   "outputs": [],
   "source": [
    "from selenium import webdriver\n",
    "import warnings\n",
    "warnings.filterwarnings('ignore')\n",
    "from selenium.webdriver.common.by import By"
   ]
  },
  {
   "cell_type": "code",
   "execution_count": 85,
   "id": "81b83a3a",
   "metadata": {},
   "outputs": [],
   "source": [
    "driver=webdriver.Chrome(r\"chromedriver.exe\")"
   ]
  },
  {
   "cell_type": "code",
   "execution_count": 86,
   "id": "330a4ba8",
   "metadata": {},
   "outputs": [],
   "source": [
    "driver.get(\"https://www.motor1.com/\")"
   ]
  },
  {
   "cell_type": "code",
   "execution_count": 87,
   "id": "0b41ac07",
   "metadata": {},
   "outputs": [],
   "source": [
    "son=driver.find_element(By.XPATH,\"/html/body/div[3]/div[2]/div/div/div[3]/ul/li[3]/a\")\n",
    "son.click()"
   ]
  },
  {
   "cell_type": "code",
   "execution_count": 88,
   "id": "9ba16545",
   "metadata": {},
   "outputs": [],
   "source": [
    "sony=driver.find_element(By.XPATH,\"/html/body/div[3]/div[7]/div/div[1]/div[1]/div[2]/a/span\")\n",
    "sony.click()"
   ]
  },
  {
   "cell_type": "code",
   "execution_count": 92,
   "id": "d57fb022",
   "metadata": {},
   "outputs": [],
   "source": [
    "nith=driver.find_element(By.XPATH,\"/html/body/div[3]/div[9]/div[1]/div[1]/div/div/div[2]/div/div[1]/h3/a\")\n",
    "nith.click()"
   ]
  },
  {
   "cell_type": "code",
   "execution_count": 95,
   "id": "e8f1be14",
   "metadata": {},
   "outputs": [],
   "source": [
    "c_brand=[]\n",
    "c_price=[]"
   ]
  },
  {
   "cell_type": "code",
   "execution_count": 97,
   "id": "ece4e355",
   "metadata": {},
   "outputs": [],
   "source": [
    "brand_tags=driver.find_elements(By.XPATH,\"//div[@class='subheader']\")\n",
    "for i in brand_tags[0:50]:\n",
    "    brand=i.text\n",
    "    c_brand.append(brand)"
   ]
  },
  {
   "cell_type": "code",
   "execution_count": 101,
   "id": "66721276",
   "metadata": {},
   "outputs": [
    {
     "data": {
      "text/plain": [
       "0"
      ]
     },
     "execution_count": 101,
     "metadata": {},
     "output_type": "execute_result"
    }
   ],
   "source": [
    "len(c_brand)"
   ]
  },
  {
   "cell_type": "code",
   "execution_count": 102,
   "id": "7a8359d1",
   "metadata": {},
   "outputs": [
    {
     "ename": "TypeError",
     "evalue": "'WebElement' object is not subscriptable",
     "output_type": "error",
     "traceback": [
      "\u001b[1;31m---------------------------------------------------------------------------\u001b[0m",
      "\u001b[1;31mTypeError\u001b[0m                                 Traceback (most recent call last)",
      "\u001b[1;32m~\\AppData\\Local\\Temp\\ipykernel_8404\\2522758401.py\u001b[0m in \u001b[0;36m<module>\u001b[1;34m\u001b[0m\n\u001b[0;32m      1\u001b[0m \u001b[0mprice_tags\u001b[0m\u001b[1;33m=\u001b[0m\u001b[0mdriver\u001b[0m\u001b[1;33m.\u001b[0m\u001b[0mfind_element\u001b[0m\u001b[1;33m(\u001b[0m\u001b[0mBy\u001b[0m\u001b[1;33m.\u001b[0m\u001b[0mXPATH\u001b[0m\u001b[1;33m,\u001b[0m\u001b[1;34m\"//div[@class='m1_MobileMPU adgrid-ad-target']\"\u001b[0m\u001b[1;33m)\u001b[0m\u001b[1;33m\u001b[0m\u001b[1;33m\u001b[0m\u001b[0m\n\u001b[1;32m----> 2\u001b[1;33m \u001b[1;32mfor\u001b[0m \u001b[0mi\u001b[0m \u001b[1;32min\u001b[0m \u001b[0mprice_tags\u001b[0m\u001b[1;33m[\u001b[0m\u001b[1;36m0\u001b[0m\u001b[1;33m:\u001b[0m\u001b[1;36m50\u001b[0m\u001b[1;33m]\u001b[0m\u001b[1;33m:\u001b[0m\u001b[1;33m\u001b[0m\u001b[1;33m\u001b[0m\u001b[0m\n\u001b[0m\u001b[0;32m      3\u001b[0m     \u001b[0mprice\u001b[0m\u001b[1;33m=\u001b[0m\u001b[0mi\u001b[0m\u001b[1;33m.\u001b[0m\u001b[0mtext\u001b[0m\u001b[1;33m\u001b[0m\u001b[1;33m\u001b[0m\u001b[0m\n\u001b[0;32m      4\u001b[0m     \u001b[0mc_price\u001b[0m\u001b[1;33m.\u001b[0m\u001b[0mappend\u001b[0m\u001b[1;33m(\u001b[0m\u001b[0mprice\u001b[0m\u001b[1;33m)\u001b[0m\u001b[1;33m\u001b[0m\u001b[1;33m\u001b[0m\u001b[0m\n",
      "\u001b[1;31mTypeError\u001b[0m: 'WebElement' object is not subscriptable"
     ]
    }
   ],
   "source": [
    "price_tags=driver.find_element(By.XPATH,\"//div[@class='m1_MobileMPU adgrid-ad-target']\")\n",
    "for i in price_tags[0:50]:\n",
    "    price=i.text\n",
    "    c_price.append(price)"
   ]
  },
  {
   "cell_type": "code",
   "execution_count": null,
   "id": "644d3c64",
   "metadata": {},
   "outputs": [],
   "source": []
  },
  {
   "cell_type": "code",
   "execution_count": null,
   "id": "e62faafa",
   "metadata": {},
   "outputs": [],
   "source": []
  },
  {
   "cell_type": "markdown",
   "id": "1184b6bf",
   "metadata": {},
   "source": [
    "# THIRD QUESTION ANSWER"
   ]
  },
  {
   "cell_type": "code",
   "execution_count": 527,
   "id": "327130dc",
   "metadata": {},
   "outputs": [],
   "source": [
    "import pandas as pd \n",
    "import selenium"
   ]
  },
  {
   "cell_type": "code",
   "execution_count": 528,
   "id": "0e24f0d5",
   "metadata": {},
   "outputs": [],
   "source": [
    "from selenium import webdriver\n",
    "import warnings\n",
    "warnings.filterwarnings('ignore')\n",
    "from selenium.webdriver.common.by import By"
   ]
  },
  {
   "cell_type": "code",
   "execution_count": 529,
   "id": "551fbeee",
   "metadata": {},
   "outputs": [],
   "source": [
    "driver=webdriver.Chrome(r\"chromedriver.exe\")"
   ]
  },
  {
   "cell_type": "code",
   "execution_count": 530,
   "id": "9831f203",
   "metadata": {},
   "outputs": [],
   "source": [
    "driver.get(\"http://www.naukri.com/\")"
   ]
  },
  {
   "cell_type": "code",
   "execution_count": 531,
   "id": "df571670",
   "metadata": {},
   "outputs": [],
   "source": [
    "get=driver.find_element(By.CLASS_NAME,\"suggestor-input \")\n",
    "get.send_keys('Data Scientist')"
   ]
  },
  {
   "cell_type": "code",
   "execution_count": 533,
   "id": "e89bdd8f",
   "metadata": {},
   "outputs": [],
   "source": [
    "jet=driver.find_element(By.XPATH,\"/html/body/div[1]/div[6]/div/div/div[3]/div/input\")\n",
    "jet.send_keys('5')"
   ]
  },
  {
   "cell_type": "code",
   "execution_count": 534,
   "id": "91ab6c64",
   "metadata": {},
   "outputs": [],
   "source": [
    "bet=driver.find_element(By.XPATH,\"/html/body/div[1]/div[6]/div/div/div[5]/div/div/div/input\")\n",
    "bet.send_keys('Delhi')"
   ]
  },
  {
   "cell_type": "code",
   "execution_count": 535,
   "id": "0e725afa",
   "metadata": {},
   "outputs": [],
   "source": [
    "search=driver.find_element(By.CLASS_NAME,\"qsbSubmit\")\n",
    "search.click()"
   ]
  },
  {
   "cell_type": "code",
   "execution_count": 536,
   "id": "4471f2c2",
   "metadata": {},
   "outputs": [],
   "source": [
    "nan=driver.find_element(By.XPATH,\"/html/body/div[1]/div[4]/div/div/section[1]/div[2]/div[5]/div[2]/div[2]/label/p/span[1]\")\n",
    "nan.click()"
   ]
  },
  {
   "cell_type": "code",
   "execution_count": 538,
   "id": "10dc1c81",
   "metadata": {},
   "outputs": [],
   "source": [
    "job_tit=[]\n",
    "job_loc=[]\n",
    "com_name=[]\n",
    "exp_req=[]\n"
   ]
  },
  {
   "cell_type": "code",
   "execution_count": 539,
   "id": "790ff4aa",
   "metadata": {},
   "outputs": [],
   "source": [
    "tit_tags=driver.find_elements(By.XPATH,\"//a[@class='title ellipsis']\")\n",
    "for i in tit_tags[0:10]:\n",
    "    tit=i.text\n",
    "    job_tit.append(tit)"
   ]
  },
  {
   "cell_type": "code",
   "execution_count": 540,
   "id": "449073be",
   "metadata": {},
   "outputs": [
    {
     "data": {
      "text/plain": [
       "10"
      ]
     },
     "execution_count": 540,
     "metadata": {},
     "output_type": "execute_result"
    }
   ],
   "source": [
    "len(job_tit)"
   ]
  },
  {
   "cell_type": "code",
   "execution_count": 541,
   "id": "4f12a2bd",
   "metadata": {},
   "outputs": [],
   "source": [
    "loc_tags=driver.find_elements(By.XPATH,\"//span[@class='ellipsis fleft locWdth']\")\n",
    "for i in loc_tags[0:10]:\n",
    "    loc=i.text\n",
    "    job_loc.append(loc)"
   ]
  },
  {
   "cell_type": "code",
   "execution_count": 542,
   "id": "87bb0b7e",
   "metadata": {},
   "outputs": [
    {
     "data": {
      "text/plain": [
       "10"
      ]
     },
     "execution_count": 542,
     "metadata": {},
     "output_type": "execute_result"
    }
   ],
   "source": [
    "len(job_loc)"
   ]
  },
  {
   "cell_type": "code",
   "execution_count": 543,
   "id": "29e6faea",
   "metadata": {},
   "outputs": [],
   "source": [
    "com_tags=driver.find_elements(By.XPATH,\"//a[@class='subTitle ellipsis fleft']\")\n",
    "for i in com_tags[0:10]:\n",
    "    com=i.text\n",
    "    com_name.append(com)\n"
   ]
  },
  {
   "cell_type": "code",
   "execution_count": 544,
   "id": "53a4ff63",
   "metadata": {},
   "outputs": [
    {
     "data": {
      "text/plain": [
       "10"
      ]
     },
     "execution_count": 544,
     "metadata": {},
     "output_type": "execute_result"
    }
   ],
   "source": [
    "len(com_name)"
   ]
  },
  {
   "cell_type": "code",
   "execution_count": 546,
   "id": "33e13b3e",
   "metadata": {},
   "outputs": [],
   "source": [
    "exp_tags=driver.find_elements(By.XPATH,\"//span[@class='ellipsis fleft expwdth']\")\n",
    "for i in exp_tags[0:10]:\n",
    "    exp=i.text\n",
    "    exp_req.append(exp)"
   ]
  },
  {
   "cell_type": "code",
   "execution_count": 547,
   "id": "d7c97d16",
   "metadata": {},
   "outputs": [
    {
     "data": {
      "text/plain": [
       "10"
      ]
     },
     "execution_count": 547,
     "metadata": {},
     "output_type": "execute_result"
    }
   ],
   "source": [
    "len(exp_req)"
   ]
  },
  {
   "cell_type": "code",
   "execution_count": 548,
   "id": "a13ad0fc",
   "metadata": {},
   "outputs": [
    {
     "data": {
      "text/html": [
       "<div>\n",
       "<style scoped>\n",
       "    .dataframe tbody tr th:only-of-type {\n",
       "        vertical-align: middle;\n",
       "    }\n",
       "\n",
       "    .dataframe tbody tr th {\n",
       "        vertical-align: top;\n",
       "    }\n",
       "\n",
       "    .dataframe thead th {\n",
       "        text-align: right;\n",
       "    }\n",
       "</style>\n",
       "<table border=\"1\" class=\"dataframe\">\n",
       "  <thead>\n",
       "    <tr style=\"text-align: right;\">\n",
       "      <th></th>\n",
       "      <th>TITLES</th>\n",
       "      <th>LOCATION</th>\n",
       "      <th>COMPANY NAME</th>\n",
       "      <th>EXPERIENCE REQURIED</th>\n",
       "    </tr>\n",
       "  </thead>\n",
       "  <tbody>\n",
       "    <tr>\n",
       "      <th>0</th>\n",
       "      <td>Data Science Specialist</td>\n",
       "      <td>Kolkata, Mumbai, Hyderabad/Secunderabad, Pune,...</td>\n",
       "      <td>Accenture</td>\n",
       "      <td>2-4 Yrs</td>\n",
       "    </tr>\n",
       "    <tr>\n",
       "      <th>1</th>\n",
       "      <td>Sr. Associate - QR Strats Analytics</td>\n",
       "      <td>Mumbai</td>\n",
       "      <td>Morgan Stanley</td>\n",
       "      <td>2-6 Yrs</td>\n",
       "    </tr>\n",
       "    <tr>\n",
       "      <th>2</th>\n",
       "      <td>Data Scientist</td>\n",
       "      <td>Bangalore/Bengaluru</td>\n",
       "      <td>Capgemini</td>\n",
       "      <td>3-5 Yrs</td>\n",
       "    </tr>\n",
       "    <tr>\n",
       "      <th>3</th>\n",
       "      <td>Senior Data Science and Analytics Strategy Con...</td>\n",
       "      <td>Bangalore/Bengaluru</td>\n",
       "      <td>Wells Fargo</td>\n",
       "      <td>5-7 Yrs</td>\n",
       "    </tr>\n",
       "    <tr>\n",
       "      <th>4</th>\n",
       "      <td>Smart Dispatcher</td>\n",
       "      <td>Bangalore/Bengaluru</td>\n",
       "      <td>Capgemini</td>\n",
       "      <td>6-9 Yrs</td>\n",
       "    </tr>\n",
       "    <tr>\n",
       "      <th>5</th>\n",
       "      <td>Data Scientist data Analyst</td>\n",
       "      <td>Kolkata, Hyderabad/Secunderabad, Pune, Ahmedab...</td>\n",
       "      <td>Smark Laser Automation</td>\n",
       "      <td>0-5 Yrs</td>\n",
       "    </tr>\n",
       "    <tr>\n",
       "      <th>6</th>\n",
       "      <td>Data Science/ ML freshers</td>\n",
       "      <td>Mumbai, Hyderabad/Secunderabad, Pune, Chennai,...</td>\n",
       "      <td>Cliqhr Recruitment Services</td>\n",
       "      <td>0-1 Yrs</td>\n",
       "    </tr>\n",
       "    <tr>\n",
       "      <th>7</th>\n",
       "      <td>MACHINE LEARNING / DATA SCIENCE TRAINER</td>\n",
       "      <td>Bangalore/Bengaluru</td>\n",
       "      <td>Ethnotech Academy</td>\n",
       "      <td>2-5 Yrs</td>\n",
       "    </tr>\n",
       "    <tr>\n",
       "      <th>8</th>\n",
       "      <td>Data Science Professional</td>\n",
       "      <td>Bangalore/Bengaluru</td>\n",
       "      <td>Infosys</td>\n",
       "      <td>4-6 Yrs</td>\n",
       "    </tr>\n",
       "    <tr>\n",
       "      <th>9</th>\n",
       "      <td>Data Scientist</td>\n",
       "      <td>Bangalore/Bengaluru</td>\n",
       "      <td>Infosys</td>\n",
       "      <td>3-5 Yrs</td>\n",
       "    </tr>\n",
       "  </tbody>\n",
       "</table>\n",
       "</div>"
      ],
      "text/plain": [
       "                                              TITLES  \\\n",
       "0                            Data Science Specialist   \n",
       "1                Sr. Associate - QR Strats Analytics   \n",
       "2                                     Data Scientist   \n",
       "3  Senior Data Science and Analytics Strategy Con...   \n",
       "4                                   Smart Dispatcher   \n",
       "5                        Data Scientist data Analyst   \n",
       "6                          Data Science/ ML freshers   \n",
       "7            MACHINE LEARNING / DATA SCIENCE TRAINER   \n",
       "8                          Data Science Professional   \n",
       "9                                     Data Scientist   \n",
       "\n",
       "                                            LOCATION  \\\n",
       "0  Kolkata, Mumbai, Hyderabad/Secunderabad, Pune,...   \n",
       "1                                             Mumbai   \n",
       "2                                Bangalore/Bengaluru   \n",
       "3                                Bangalore/Bengaluru   \n",
       "4                                Bangalore/Bengaluru   \n",
       "5  Kolkata, Hyderabad/Secunderabad, Pune, Ahmedab...   \n",
       "6  Mumbai, Hyderabad/Secunderabad, Pune, Chennai,...   \n",
       "7                                Bangalore/Bengaluru   \n",
       "8                                Bangalore/Bengaluru   \n",
       "9                                Bangalore/Bengaluru   \n",
       "\n",
       "                  COMPANY NAME EXPERIENCE REQURIED  \n",
       "0                    Accenture             2-4 Yrs  \n",
       "1               Morgan Stanley             2-6 Yrs  \n",
       "2                    Capgemini             3-5 Yrs  \n",
       "3                  Wells Fargo             5-7 Yrs  \n",
       "4                    Capgemini             6-9 Yrs  \n",
       "5       Smark Laser Automation             0-5 Yrs  \n",
       "6  Cliqhr Recruitment Services             0-1 Yrs  \n",
       "7            Ethnotech Academy             2-5 Yrs  \n",
       "8                      Infosys             4-6 Yrs  \n",
       "9                      Infosys             3-5 Yrs  "
      ]
     },
     "execution_count": 548,
     "metadata": {},
     "output_type": "execute_result"
    }
   ],
   "source": [
    "import pandas as pd\n",
    "df=pd.DataFrame({\"TITLES\":job_tit,\"LOCATION\":job_loc,\"COMPANY NAME\":com_name,\"EXPERIENCE REQURIED\":exp_req})\n",
    "df"
   ]
  },
  {
   "cell_type": "code",
   "execution_count": null,
   "id": "8cf7c1d8",
   "metadata": {},
   "outputs": [],
   "source": []
  }
 ],
 "metadata": {
  "kernelspec": {
   "display_name": "Python 3 (ipykernel)",
   "language": "python",
   "name": "python3"
  },
  "language_info": {
   "codemirror_mode": {
    "name": "ipython",
    "version": 3
   },
   "file_extension": ".py",
   "mimetype": "text/x-python",
   "name": "python",
   "nbconvert_exporter": "python",
   "pygments_lexer": "ipython3",
   "version": "3.9.13"
  }
 },
 "nbformat": 4,
 "nbformat_minor": 5
}
