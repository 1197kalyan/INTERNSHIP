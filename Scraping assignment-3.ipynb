{
 "cells": [
  {
   "cell_type": "code",
   "execution_count": 1,
   "id": "13396636",
   "metadata": {},
   "outputs": [
    {
     "name": "stdout",
     "output_type": "stream",
     "text": [
      "Requirement already satisfied: selenium in c:\\users\\kalya\\anaconda3\\lib\\site-packages (4.8.0)\n",
      "Requirement already satisfied: trio~=0.17 in c:\\users\\kalya\\anaconda3\\lib\\site-packages (from selenium) (0.22.0)\n",
      "Requirement already satisfied: certifi>=2021.10.8 in c:\\users\\kalya\\anaconda3\\lib\\site-packages (from selenium) (2022.9.14)\n",
      "Requirement already satisfied: trio-websocket~=0.9 in c:\\users\\kalya\\anaconda3\\lib\\site-packages (from selenium) (0.9.2)\n",
      "Requirement already satisfied: urllib3[socks]~=1.26 in c:\\users\\kalya\\anaconda3\\lib\\site-packages (from selenium) (1.26.11)\n",
      "Requirement already satisfied: outcome in c:\\users\\kalya\\anaconda3\\lib\\site-packages (from trio~=0.17->selenium) (1.2.0)\n",
      "Requirement already satisfied: attrs>=19.2.0 in c:\\users\\kalya\\anaconda3\\lib\\site-packages (from trio~=0.17->selenium) (21.4.0)\n",
      "Requirement already satisfied: exceptiongroup>=1.0.0rc9 in c:\\users\\kalya\\anaconda3\\lib\\site-packages (from trio~=0.17->selenium) (1.1.0)\n",
      "Requirement already satisfied: sortedcontainers in c:\\users\\kalya\\anaconda3\\lib\\site-packages (from trio~=0.17->selenium) (2.4.0)\n",
      "Requirement already satisfied: async-generator>=1.9 in c:\\users\\kalya\\anaconda3\\lib\\site-packages (from trio~=0.17->selenium) (1.10)\n",
      "Requirement already satisfied: idna in c:\\users\\kalya\\anaconda3\\lib\\site-packages (from trio~=0.17->selenium) (3.3)\n",
      "Requirement already satisfied: sniffio in c:\\users\\kalya\\anaconda3\\lib\\site-packages (from trio~=0.17->selenium) (1.2.0)\n",
      "Requirement already satisfied: cffi>=1.14 in c:\\users\\kalya\\anaconda3\\lib\\site-packages (from trio~=0.17->selenium) (1.15.1)\n",
      "Requirement already satisfied: wsproto>=0.14 in c:\\users\\kalya\\anaconda3\\lib\\site-packages (from trio-websocket~=0.9->selenium) (1.2.0)\n",
      "Requirement already satisfied: PySocks!=1.5.7,<2.0,>=1.5.6 in c:\\users\\kalya\\anaconda3\\lib\\site-packages (from urllib3[socks]~=1.26->selenium) (1.7.1)\n",
      "Requirement already satisfied: pycparser in c:\\users\\kalya\\anaconda3\\lib\\site-packages (from cffi>=1.14->trio~=0.17->selenium) (2.21)\n",
      "Requirement already satisfied: h11<1,>=0.9.0 in c:\\users\\kalya\\anaconda3\\lib\\site-packages (from wsproto>=0.14->trio-websocket~=0.9->selenium) (0.14.0)\n",
      "Note: you may need to restart the kernel to use updated packages.\n"
     ]
    }
   ],
   "source": [
    "pip install selenium"
   ]
  },
  {
   "cell_type": "code",
   "execution_count": 2,
   "id": "91f660a8",
   "metadata": {},
   "outputs": [],
   "source": [
    "import pandas as pd \n",
    "import selenium\n",
    "from bs4 import BeautifulSoup\n",
    "from selenium.common.exceptions import StaleElementReferenceException, NoSuchElementException"
   ]
  },
  {
   "cell_type": "code",
   "execution_count": 3,
   "id": "cbd87d95",
   "metadata": {},
   "outputs": [],
   "source": [
    "from selenium import webdriver\n",
    "import warnings\n",
    "warnings.filterwarnings('ignore')\n",
    "from selenium.webdriver.common.by import By\n",
    "import time"
   ]
  },
  {
   "cell_type": "code",
   "execution_count": 4,
   "id": "81f16ad3",
   "metadata": {},
   "outputs": [
    {
     "name": "stdout",
     "output_type": "stream",
     "text": [
      "Enter the product you want to search for: guitar\n"
     ]
    }
   ],
   "source": [
    "\n",
    "g_product = input(\"Enter the product you want to search for: \")\n",
    "\n",
    "driver = webdriver.Chrome()\n",
    "\n",
    "\n",
    "driver.get(\"https://www.amazon.in/\")"
   ]
  },
  {
   "cell_type": "code",
   "execution_count": 5,
   "id": "e0000e1a",
   "metadata": {},
   "outputs": [],
   "source": [
    "search_bar = driver.find_element(By.XPATH,\"/html/body/div[1]/header/div/div[1]/div[2]/div/form/div[2]/div[1]/input\")\n",
    "search_bar.send_keys(g_product)\n",
    "\n"
   ]
  },
  {
   "cell_type": "code",
   "execution_count": 6,
   "id": "cfbbaa57",
   "metadata": {},
   "outputs": [],
   "source": [
    "search=driver.find_element(By.XPATH,\"/html/body/div[1]/header/div/div[1]/div[2]/div/form/div[3]/div/span/input\")\n",
    "search.click()"
   ]
  },
  {
   "cell_type": "code",
   "execution_count": 7,
   "id": "f854329d",
   "metadata": {},
   "outputs": [],
   "source": [
    "driver.implicitly_wait(10)\n",
    "g_product=[]\n"
   ]
  },
  {
   "cell_type": "code",
   "execution_count": 8,
   "id": "099fa0c9",
   "metadata": {},
   "outputs": [],
   "source": [
    "brand_name=[]\n",
    "product_name=[]\n",
    "g_price=[]\n",
    "g_exchange=[]\n",
    "g_deliverie=[]\n",
    "g_availabilitie=[]\n",
    "product_url=[]"
   ]
  },
  {
   "cell_type": "code",
   "execution_count": 10,
   "id": "a0f33025",
   "metadata": {},
   "outputs": [],
   "source": [
    "start=0\n",
    "end=4\n",
    "for page in range(start,end):\n",
    "    try:\n",
    "        product_tags=driver.find_elements(By.XPATH,\"//span[@class='a-size-base-plus a-color-base a-text-normal']\")\n",
    "        for i in product_tags[0:10]:\n",
    "            product=i.text\n",
    "            product_name.append(product)\n",
    "            \n",
    "            \n",
    "    except:\n",
    "        product =\"-\"\n",
    "        product_name.append(product)\n",
    "            \n",
    "            \n",
    "            \n",
    "            "
   ]
  },
  {
   "cell_type": "code",
   "execution_count": 12,
   "id": "6c878d59",
   "metadata": {},
   "outputs": [],
   "source": [
    "start=0\n",
    "end=4\n",
    "for page in range(start,end):\n",
    "    try:\n",
    "        price_tags=driver.find_elements(By.XPATH,\"//span[@class='a-price-whole']\")\n",
    "        for i in price_tags[0:10]:\n",
    "            price=i.text\n",
    "            g_price.append(price)\n",
    "            \n",
    "            \n",
    "            \n",
    "    except:\n",
    "            price = \"-\"\n",
    "            g_price.append(price)"
   ]
  },
  {
   "cell_type": "code",
   "execution_count": 52,
   "id": "6674857b",
   "metadata": {},
   "outputs": [],
   "source": [
    "start=0\n",
    "end=4\n",
    "for page in range(start,end):\n",
    "    try:\n",
    "        exc_tags=driver.find_elements(By.XPATH,\"\")\n",
    "        for i in exc_tags[0:10]:\n",
    "            exc=i.text\n",
    "            g_exchange.append(exc)\n",
    "            \n",
    "            \n",
    "            \n",
    "    except:\n",
    "        exc = \"-\"\n",
    "        g_exchange.append(exc)"
   ]
  },
  {
   "cell_type": "code",
   "execution_count": 16,
   "id": "585f54ba",
   "metadata": {},
   "outputs": [],
   "source": [
    "start=0\n",
    "end=4\n",
    "for page in range(start,end):\n",
    "    try:\n",
    "        ava_tags=driver.find_elements(By.XPATH,\"//span[@class='a-badge-text']\")\n",
    "        for i in ava_tags[0:10]:\n",
    "            ava=i.text\n",
    "            g_availabilitie.append(ava)\n",
    "            \n",
    "            \n",
    "            \n",
    "    except:\n",
    "        ava = \"-\"\n",
    "        g_availabilitie.append(ava)"
   ]
  },
  {
   "cell_type": "code",
   "execution_count": 58,
   "id": "2fc6f079",
   "metadata": {},
   "outputs": [],
   "source": [
    "start=0\n",
    "end=4\n",
    "for page in range (start,end):\n",
    "    try:\n",
    "        pro_tags=driver.find_elements(By.XPATH,\"//span[@class='a-size-base-plus a-color-base a-text-normal']\")\n",
    "        for i in pro_tags:\n",
    "            product_url.append(i.get_attribute('href'))\n",
    "        next_button=driver.find_elements(By.XPATH,\"/html/body/div[1]/div[2]/div[1]/div[1]/div/span[1]/div[1]/div[71]/div/div/span/a[3]\") \n",
    "      \n",
    "    \n",
    "    except:\n",
    "        pro = '-'\n",
    "        product_url.append(pro)\n",
    "        "
   ]
  },
  {
   "cell_type": "code",
   "execution_count": 60,
   "id": "c9615b9b",
   "metadata": {},
   "outputs": [
    {
     "data": {
      "text/html": [
       "<div>\n",
       "<style scoped>\n",
       "    .dataframe tbody tr th:only-of-type {\n",
       "        vertical-align: middle;\n",
       "    }\n",
       "\n",
       "    .dataframe tbody tr th {\n",
       "        vertical-align: top;\n",
       "    }\n",
       "\n",
       "    .dataframe thead th {\n",
       "        text-align: right;\n",
       "    }\n",
       "</style>\n",
       "<table border=\"1\" class=\"dataframe\">\n",
       "  <thead>\n",
       "    <tr style=\"text-align: right;\">\n",
       "      <th></th>\n",
       "      <th>PRODUCT NAME</th>\n",
       "      <th>PRICE</th>\n",
       "      <th>EXCHANGE</th>\n",
       "      <th>AVAILABILITIE</th>\n",
       "      <th>PRODUCT_URL</th>\n",
       "    </tr>\n",
       "  </thead>\n",
       "  <tbody>\n",
       "    <tr>\n",
       "      <th>0</th>\n",
       "      <td>Kadence Frontier Jumbo Semi Acoustic Guitar Wi...</td>\n",
       "      <td>6,899</td>\n",
       "      <td>-</td>\n",
       "      <td>Limited time deal</td>\n",
       "      <td>None</td>\n",
       "    </tr>\n",
       "    <tr>\n",
       "      <th>1</th>\n",
       "      <td>Kadence Frontier guitar with Online Guitar lea...</td>\n",
       "      <td>4,899</td>\n",
       "      <td>-</td>\n",
       "      <td>Limited time deal</td>\n",
       "      <td>None</td>\n",
       "    </tr>\n",
       "    <tr>\n",
       "      <th>2</th>\n",
       "      <td>Vault DA20 Dreadnought Acoustic Guitar With Gi...</td>\n",
       "      <td>4,669</td>\n",
       "      <td>-</td>\n",
       "      <td>Limited time deal</td>\n",
       "      <td>None</td>\n",
       "    </tr>\n",
       "    <tr>\n",
       "      <th>3</th>\n",
       "      <td>Blueberry 38 Inch D38S Acoustic Guitar Kit Inb...</td>\n",
       "      <td>2,849</td>\n",
       "      <td>-</td>\n",
       "      <td>Best seller</td>\n",
       "      <td>None</td>\n",
       "    </tr>\n",
       "    <tr>\n",
       "      <th>4</th>\n",
       "      <td>Juârez Acoustic Guitar, 38 Inch Cutaway, 038C ...</td>\n",
       "      <td>2,139</td>\n",
       "      <td>-</td>\n",
       "      <td>Limited time deal</td>\n",
       "      <td>None</td>\n",
       "    </tr>\n",
       "    <tr>\n",
       "      <th>5</th>\n",
       "      <td>Intern INT-38C Right hand Acoustic Guitar Kit,...</td>\n",
       "      <td>2,399</td>\n",
       "      <td>-</td>\n",
       "      <td>Limited time deal</td>\n",
       "      <td>None</td>\n",
       "    </tr>\n",
       "    <tr>\n",
       "      <th>6</th>\n",
       "      <td>Yamaha F280 Acoustic Rosewood Guitar (Natural,...</td>\n",
       "      <td>7,200</td>\n",
       "      <td>-</td>\n",
       "      <td>Limited time deal</td>\n",
       "      <td>None</td>\n",
       "    </tr>\n",
       "    <tr>\n",
       "      <th>7</th>\n",
       "      <td>Kadence Frontier Jumbo Semi Acoustic Guitar Wi...</td>\n",
       "      <td>6,899</td>\n",
       "      <td>-</td>\n",
       "      <td>Limited time deal</td>\n",
       "      <td>None</td>\n",
       "    </tr>\n",
       "    <tr>\n",
       "      <th>8</th>\n",
       "      <td>Kadence Frontier guitar with Online Guitar lea...</td>\n",
       "      <td>4,899</td>\n",
       "      <td>-</td>\n",
       "      <td></td>\n",
       "      <td>None</td>\n",
       "    </tr>\n",
       "    <tr>\n",
       "      <th>9</th>\n",
       "      <td>Mustang Guitar Stand Foldable Universal A-Fram...</td>\n",
       "      <td>425</td>\n",
       "      <td>-</td>\n",
       "      <td>Best seller</td>\n",
       "      <td>None</td>\n",
       "    </tr>\n",
       "    <tr>\n",
       "      <th>10</th>\n",
       "      <td>Kadence Frontier Jumbo Semi Acoustic Guitar Wi...</td>\n",
       "      <td>6,899</td>\n",
       "      <td>-</td>\n",
       "      <td>Limited time deal</td>\n",
       "      <td>None</td>\n",
       "    </tr>\n",
       "    <tr>\n",
       "      <th>11</th>\n",
       "      <td>Kadence Frontier guitar with Online Guitar lea...</td>\n",
       "      <td>4,899</td>\n",
       "      <td>-</td>\n",
       "      <td>Limited time deal</td>\n",
       "      <td>None</td>\n",
       "    </tr>\n",
       "    <tr>\n",
       "      <th>12</th>\n",
       "      <td>Vault DA20 Dreadnought Acoustic Guitar With Gi...</td>\n",
       "      <td>4,669</td>\n",
       "      <td>-</td>\n",
       "      <td>Limited time deal</td>\n",
       "      <td>None</td>\n",
       "    </tr>\n",
       "    <tr>\n",
       "      <th>13</th>\n",
       "      <td>Blueberry 38 Inch D38S Acoustic Guitar Kit Inb...</td>\n",
       "      <td>2,849</td>\n",
       "      <td>-</td>\n",
       "      <td>Best seller</td>\n",
       "      <td>None</td>\n",
       "    </tr>\n",
       "    <tr>\n",
       "      <th>14</th>\n",
       "      <td>Juârez Acoustic Guitar, 38 Inch Cutaway, 038C ...</td>\n",
       "      <td>2,139</td>\n",
       "      <td>-</td>\n",
       "      <td>Limited time deal</td>\n",
       "      <td>None</td>\n",
       "    </tr>\n",
       "    <tr>\n",
       "      <th>15</th>\n",
       "      <td>Intern INT-38C Right hand Acoustic Guitar Kit,...</td>\n",
       "      <td>2,399</td>\n",
       "      <td>-</td>\n",
       "      <td>Limited time deal</td>\n",
       "      <td>None</td>\n",
       "    </tr>\n",
       "    <tr>\n",
       "      <th>16</th>\n",
       "      <td>Yamaha F280 Acoustic Rosewood Guitar (Natural,...</td>\n",
       "      <td>7,200</td>\n",
       "      <td>-</td>\n",
       "      <td>Limited time deal</td>\n",
       "      <td>None</td>\n",
       "    </tr>\n",
       "    <tr>\n",
       "      <th>17</th>\n",
       "      <td>Kadence Frontier Jumbo Semi Acoustic Guitar Wi...</td>\n",
       "      <td>6,899</td>\n",
       "      <td>-</td>\n",
       "      <td>Limited time deal</td>\n",
       "      <td>None</td>\n",
       "    </tr>\n",
       "    <tr>\n",
       "      <th>18</th>\n",
       "      <td>Kadence Frontier guitar with Online Guitar lea...</td>\n",
       "      <td>4,899</td>\n",
       "      <td>-</td>\n",
       "      <td></td>\n",
       "      <td>None</td>\n",
       "    </tr>\n",
       "    <tr>\n",
       "      <th>19</th>\n",
       "      <td>Mustang Guitar Stand Foldable Universal A-Fram...</td>\n",
       "      <td>425</td>\n",
       "      <td>-</td>\n",
       "      <td>Best seller</td>\n",
       "      <td>None</td>\n",
       "    </tr>\n",
       "    <tr>\n",
       "      <th>20</th>\n",
       "      <td>Kadence Frontier Jumbo Semi Acoustic Guitar Wi...</td>\n",
       "      <td>6,899</td>\n",
       "      <td>-</td>\n",
       "      <td>Limited time deal</td>\n",
       "      <td>None</td>\n",
       "    </tr>\n",
       "    <tr>\n",
       "      <th>21</th>\n",
       "      <td>Kadence Frontier guitar with Online Guitar lea...</td>\n",
       "      <td>4,899</td>\n",
       "      <td>-</td>\n",
       "      <td>Limited time deal</td>\n",
       "      <td>None</td>\n",
       "    </tr>\n",
       "    <tr>\n",
       "      <th>22</th>\n",
       "      <td>Vault DA20 Dreadnought Acoustic Guitar With Gi...</td>\n",
       "      <td>4,669</td>\n",
       "      <td>-</td>\n",
       "      <td>Limited time deal</td>\n",
       "      <td>None</td>\n",
       "    </tr>\n",
       "    <tr>\n",
       "      <th>23</th>\n",
       "      <td>Blueberry 38 Inch D38S Acoustic Guitar Kit Inb...</td>\n",
       "      <td>2,849</td>\n",
       "      <td>-</td>\n",
       "      <td>Best seller</td>\n",
       "      <td>None</td>\n",
       "    </tr>\n",
       "    <tr>\n",
       "      <th>24</th>\n",
       "      <td>Juârez Acoustic Guitar, 38 Inch Cutaway, 038C ...</td>\n",
       "      <td>2,139</td>\n",
       "      <td>-</td>\n",
       "      <td>Limited time deal</td>\n",
       "      <td>None</td>\n",
       "    </tr>\n",
       "    <tr>\n",
       "      <th>25</th>\n",
       "      <td>Intern INT-38C Right hand Acoustic Guitar Kit,...</td>\n",
       "      <td>2,399</td>\n",
       "      <td>-</td>\n",
       "      <td>Limited time deal</td>\n",
       "      <td>None</td>\n",
       "    </tr>\n",
       "    <tr>\n",
       "      <th>26</th>\n",
       "      <td>Yamaha F280 Acoustic Rosewood Guitar (Natural,...</td>\n",
       "      <td>7,200</td>\n",
       "      <td>-</td>\n",
       "      <td>Limited time deal</td>\n",
       "      <td>None</td>\n",
       "    </tr>\n",
       "    <tr>\n",
       "      <th>27</th>\n",
       "      <td>Kadence Frontier Jumbo Semi Acoustic Guitar Wi...</td>\n",
       "      <td>6,899</td>\n",
       "      <td>-</td>\n",
       "      <td>Limited time deal</td>\n",
       "      <td>None</td>\n",
       "    </tr>\n",
       "    <tr>\n",
       "      <th>28</th>\n",
       "      <td>Kadence Frontier guitar with Online Guitar lea...</td>\n",
       "      <td>4,899</td>\n",
       "      <td>-</td>\n",
       "      <td></td>\n",
       "      <td>None</td>\n",
       "    </tr>\n",
       "    <tr>\n",
       "      <th>29</th>\n",
       "      <td>Mustang Guitar Stand Foldable Universal A-Fram...</td>\n",
       "      <td>425</td>\n",
       "      <td>-</td>\n",
       "      <td>Best seller</td>\n",
       "      <td>None</td>\n",
       "    </tr>\n",
       "    <tr>\n",
       "      <th>30</th>\n",
       "      <td>Kadence Frontier Jumbo Semi Acoustic Guitar Wi...</td>\n",
       "      <td>6,899</td>\n",
       "      <td>-</td>\n",
       "      <td>Limited time deal</td>\n",
       "      <td>None</td>\n",
       "    </tr>\n",
       "    <tr>\n",
       "      <th>31</th>\n",
       "      <td>Kadence Frontier guitar with Online Guitar lea...</td>\n",
       "      <td>4,899</td>\n",
       "      <td>-</td>\n",
       "      <td>Limited time deal</td>\n",
       "      <td>None</td>\n",
       "    </tr>\n",
       "    <tr>\n",
       "      <th>32</th>\n",
       "      <td>Vault DA20 Dreadnought Acoustic Guitar With Gi...</td>\n",
       "      <td>4,669</td>\n",
       "      <td>-</td>\n",
       "      <td>Limited time deal</td>\n",
       "      <td>None</td>\n",
       "    </tr>\n",
       "    <tr>\n",
       "      <th>33</th>\n",
       "      <td>Blueberry 38 Inch D38S Acoustic Guitar Kit Inb...</td>\n",
       "      <td>2,849</td>\n",
       "      <td>-</td>\n",
       "      <td>Best seller</td>\n",
       "      <td>None</td>\n",
       "    </tr>\n",
       "    <tr>\n",
       "      <th>34</th>\n",
       "      <td>Juârez Acoustic Guitar, 38 Inch Cutaway, 038C ...</td>\n",
       "      <td>2,139</td>\n",
       "      <td>-</td>\n",
       "      <td>Limited time deal</td>\n",
       "      <td>None</td>\n",
       "    </tr>\n",
       "    <tr>\n",
       "      <th>35</th>\n",
       "      <td>Intern INT-38C Right hand Acoustic Guitar Kit,...</td>\n",
       "      <td>2,399</td>\n",
       "      <td>-</td>\n",
       "      <td>Limited time deal</td>\n",
       "      <td>None</td>\n",
       "    </tr>\n",
       "    <tr>\n",
       "      <th>36</th>\n",
       "      <td>Yamaha F280 Acoustic Rosewood Guitar (Natural,...</td>\n",
       "      <td>7,200</td>\n",
       "      <td>-</td>\n",
       "      <td>Limited time deal</td>\n",
       "      <td>None</td>\n",
       "    </tr>\n",
       "    <tr>\n",
       "      <th>37</th>\n",
       "      <td>Kadence Frontier Jumbo Semi Acoustic Guitar Wi...</td>\n",
       "      <td>6,899</td>\n",
       "      <td>-</td>\n",
       "      <td>Limited time deal</td>\n",
       "      <td>None</td>\n",
       "    </tr>\n",
       "    <tr>\n",
       "      <th>38</th>\n",
       "      <td>Kadence Frontier guitar with Online Guitar lea...</td>\n",
       "      <td>4,899</td>\n",
       "      <td>-</td>\n",
       "      <td></td>\n",
       "      <td>None</td>\n",
       "    </tr>\n",
       "    <tr>\n",
       "      <th>39</th>\n",
       "      <td>Mustang Guitar Stand Foldable Universal A-Fram...</td>\n",
       "      <td>425</td>\n",
       "      <td>-</td>\n",
       "      <td>Best seller</td>\n",
       "      <td>None</td>\n",
       "    </tr>\n",
       "  </tbody>\n",
       "</table>\n",
       "</div>"
      ],
      "text/plain": [
       "                                         PRODUCT NAME  PRICE EXCHANGE  \\\n",
       "0   Kadence Frontier Jumbo Semi Acoustic Guitar Wi...  6,899        -   \n",
       "1   Kadence Frontier guitar with Online Guitar lea...  4,899        -   \n",
       "2   Vault DA20 Dreadnought Acoustic Guitar With Gi...  4,669        -   \n",
       "3   Blueberry 38 Inch D38S Acoustic Guitar Kit Inb...  2,849        -   \n",
       "4   Juârez Acoustic Guitar, 38 Inch Cutaway, 038C ...  2,139        -   \n",
       "5   Intern INT-38C Right hand Acoustic Guitar Kit,...  2,399        -   \n",
       "6   Yamaha F280 Acoustic Rosewood Guitar (Natural,...  7,200        -   \n",
       "7   Kadence Frontier Jumbo Semi Acoustic Guitar Wi...  6,899        -   \n",
       "8   Kadence Frontier guitar with Online Guitar lea...  4,899        -   \n",
       "9   Mustang Guitar Stand Foldable Universal A-Fram...    425        -   \n",
       "10  Kadence Frontier Jumbo Semi Acoustic Guitar Wi...  6,899        -   \n",
       "11  Kadence Frontier guitar with Online Guitar lea...  4,899        -   \n",
       "12  Vault DA20 Dreadnought Acoustic Guitar With Gi...  4,669        -   \n",
       "13  Blueberry 38 Inch D38S Acoustic Guitar Kit Inb...  2,849        -   \n",
       "14  Juârez Acoustic Guitar, 38 Inch Cutaway, 038C ...  2,139        -   \n",
       "15  Intern INT-38C Right hand Acoustic Guitar Kit,...  2,399        -   \n",
       "16  Yamaha F280 Acoustic Rosewood Guitar (Natural,...  7,200        -   \n",
       "17  Kadence Frontier Jumbo Semi Acoustic Guitar Wi...  6,899        -   \n",
       "18  Kadence Frontier guitar with Online Guitar lea...  4,899        -   \n",
       "19  Mustang Guitar Stand Foldable Universal A-Fram...    425        -   \n",
       "20  Kadence Frontier Jumbo Semi Acoustic Guitar Wi...  6,899        -   \n",
       "21  Kadence Frontier guitar with Online Guitar lea...  4,899        -   \n",
       "22  Vault DA20 Dreadnought Acoustic Guitar With Gi...  4,669        -   \n",
       "23  Blueberry 38 Inch D38S Acoustic Guitar Kit Inb...  2,849        -   \n",
       "24  Juârez Acoustic Guitar, 38 Inch Cutaway, 038C ...  2,139        -   \n",
       "25  Intern INT-38C Right hand Acoustic Guitar Kit,...  2,399        -   \n",
       "26  Yamaha F280 Acoustic Rosewood Guitar (Natural,...  7,200        -   \n",
       "27  Kadence Frontier Jumbo Semi Acoustic Guitar Wi...  6,899        -   \n",
       "28  Kadence Frontier guitar with Online Guitar lea...  4,899        -   \n",
       "29  Mustang Guitar Stand Foldable Universal A-Fram...    425        -   \n",
       "30  Kadence Frontier Jumbo Semi Acoustic Guitar Wi...  6,899        -   \n",
       "31  Kadence Frontier guitar with Online Guitar lea...  4,899        -   \n",
       "32  Vault DA20 Dreadnought Acoustic Guitar With Gi...  4,669        -   \n",
       "33  Blueberry 38 Inch D38S Acoustic Guitar Kit Inb...  2,849        -   \n",
       "34  Juârez Acoustic Guitar, 38 Inch Cutaway, 038C ...  2,139        -   \n",
       "35  Intern INT-38C Right hand Acoustic Guitar Kit,...  2,399        -   \n",
       "36  Yamaha F280 Acoustic Rosewood Guitar (Natural,...  7,200        -   \n",
       "37  Kadence Frontier Jumbo Semi Acoustic Guitar Wi...  6,899        -   \n",
       "38  Kadence Frontier guitar with Online Guitar lea...  4,899        -   \n",
       "39  Mustang Guitar Stand Foldable Universal A-Fram...    425        -   \n",
       "\n",
       "        AVAILABILITIE PRODUCT_URL  \n",
       "0   Limited time deal        None  \n",
       "1   Limited time deal        None  \n",
       "2   Limited time deal        None  \n",
       "3         Best seller        None  \n",
       "4   Limited time deal        None  \n",
       "5   Limited time deal        None  \n",
       "6   Limited time deal        None  \n",
       "7   Limited time deal        None  \n",
       "8                            None  \n",
       "9         Best seller        None  \n",
       "10  Limited time deal        None  \n",
       "11  Limited time deal        None  \n",
       "12  Limited time deal        None  \n",
       "13        Best seller        None  \n",
       "14  Limited time deal        None  \n",
       "15  Limited time deal        None  \n",
       "16  Limited time deal        None  \n",
       "17  Limited time deal        None  \n",
       "18                           None  \n",
       "19        Best seller        None  \n",
       "20  Limited time deal        None  \n",
       "21  Limited time deal        None  \n",
       "22  Limited time deal        None  \n",
       "23        Best seller        None  \n",
       "24  Limited time deal        None  \n",
       "25  Limited time deal        None  \n",
       "26  Limited time deal        None  \n",
       "27  Limited time deal        None  \n",
       "28                           None  \n",
       "29        Best seller        None  \n",
       "30  Limited time deal        None  \n",
       "31  Limited time deal        None  \n",
       "32  Limited time deal        None  \n",
       "33        Best seller        None  \n",
       "34  Limited time deal        None  \n",
       "35  Limited time deal        None  \n",
       "36  Limited time deal        None  \n",
       "37  Limited time deal        None  \n",
       "38                           None  \n",
       "39        Best seller        None  "
      ]
     },
     "execution_count": 60,
     "metadata": {},
     "output_type": "execute_result"
    }
   ],
   "source": [
    "\n",
    " df=pd.DataFrame({'PRODUCT NAME':product_name[0:40],\n",
    "                'PRICE':g_price[0:40],\n",
    "                'EXCHANGE':g_exchange[0:40],\n",
    "                'AVAILABILITIE':g_availabilitie[0:40],\n",
    "                'PRODUCT_URL':product_url[0:40]})\n",
    "df"
   ]
  },
  {
   "cell_type": "code",
   "execution_count": null,
   "id": "8cf24a81",
   "metadata": {},
   "outputs": [],
   "source": [
    "df.to_csv(\"amazon_products.csv\")\n",
    "driver.quit()"
   ]
  },
  {
   "cell_type": "markdown",
   "id": "2a60e0ae",
   "metadata": {},
   "source": [
    "# THIRD QUESTION ANSWER"
   ]
  },
  {
   "cell_type": "code",
   "execution_count": 120,
   "id": "a760d254",
   "metadata": {},
   "outputs": [
    {
     "ename": "ElementClickInterceptedException",
     "evalue": "Message: element click intercepted: Element <div class=\"zgAlFc\">...</div> is not clickable at point (780, 200). Other element would receive the click: <iframe role=\"presentation\" frameborder=\"0\" scrolling=\"no\" name=\"callout\" src=\"https://ogs.google.com/widget/callout?prid=19028915&amp;pgid=19027681&amp;puid=3e9e72cbc9a83b93&amp;cce=1&amp;dc=1&amp;origin=https%3A%2F%2Fwww.google.com&amp;cn=callout&amp;pid=1&amp;spid=2&amp;hl=en\" style=\"height: 100%; width: 100%;\" data-iml=\"1677744586977\"></iframe>\n  (Session info: chrome=110.0.5481.178)\nStacktrace:\nBacktrace:\n\t(No symbol) [0x004937D3]\n\t(No symbol) [0x00428B81]\n\t(No symbol) [0x0032B36D]\n\t(No symbol) [0x00364E3B]\n\t(No symbol) [0x003626DB]\n\t(No symbol) [0x0035FD0B]\n\t(No symbol) [0x0035E4D8]\n\t(No symbol) [0x00353253]\n\t(No symbol) [0x0037B41C]\n\t(No symbol) [0x00352B96]\n\t(No symbol) [0x0037B774]\n\t(No symbol) [0x00391215]\n\t(No symbol) [0x0037B216]\n\t(No symbol) [0x00350D97]\n\t(No symbol) [0x0035253D]\n\tGetHandleVerifier [0x0070ABF2+2510930]\n\tGetHandleVerifier [0x00738EC1+2700065]\n\tGetHandleVerifier [0x0073C86C+2714828]\n\tGetHandleVerifier [0x00543480+645344]\n\t(No symbol) [0x00430FD2]\n\t(No symbol) [0x00436C68]\n\t(No symbol) [0x00436D4B]\n\t(No symbol) [0x00440D6B]\n\tBaseThreadInitThunk [0x75A27D69+25]\n\tRtlInitializeExceptionChain [0x771FBB9B+107]\n\tRtlClearBits [0x771FBB1F+191]\n",
     "output_type": "error",
     "traceback": [
      "\u001b[1;31m---------------------------------------------------------------------------\u001b[0m",
      "\u001b[1;31mElementClickInterceptedException\u001b[0m          Traceback (most recent call last)",
      "\u001b[1;32m~\\AppData\\Local\\Temp\\ipykernel_29780\\2839637995.py\u001b[0m in \u001b[0;36m<module>\u001b[1;34m\u001b[0m\n\u001b[0;32m     19\u001b[0m \u001b[1;33m\u001b[0m\u001b[0m\n\u001b[0;32m     20\u001b[0m \u001b[0msearch\u001b[0m\u001b[1;33m=\u001b[0m\u001b[0mdriver\u001b[0m\u001b[1;33m.\u001b[0m\u001b[0mfind_element\u001b[0m\u001b[1;33m(\u001b[0m\u001b[0mBy\u001b[0m\u001b[1;33m.\u001b[0m\u001b[0mCLASS_NAME\u001b[0m\u001b[1;33m,\u001b[0m\u001b[1;34m\"zgAlFc\"\u001b[0m\u001b[1;33m)\u001b[0m\u001b[1;33m\u001b[0m\u001b[1;33m\u001b[0m\u001b[0m\n\u001b[1;32m---> 21\u001b[1;33m \u001b[0msearch\u001b[0m\u001b[1;33m.\u001b[0m\u001b[0mclick\u001b[0m\u001b[1;33m(\u001b[0m\u001b[1;33m)\u001b[0m\u001b[1;33m\u001b[0m\u001b[1;33m\u001b[0m\u001b[0m\n\u001b[0m\u001b[0;32m     22\u001b[0m \u001b[1;33m\u001b[0m\u001b[0m\n\u001b[0;32m     23\u001b[0m \u001b[1;32mfor\u001b[0m \u001b[0m_\u001b[0m \u001b[1;32min\u001b[0m \u001b[0mrange\u001b[0m\u001b[1;33m(\u001b[0m\u001b[1;36m10\u001b[0m\u001b[1;33m)\u001b[0m\u001b[1;33m:\u001b[0m\u001b[1;33m\u001b[0m\u001b[1;33m\u001b[0m\u001b[0m\n",
      "\u001b[1;32m~\\anaconda3\\lib\\site-packages\\selenium\\webdriver\\remote\\webelement.py\u001b[0m in \u001b[0;36mclick\u001b[1;34m(self)\u001b[0m\n\u001b[0;32m     91\u001b[0m     \u001b[1;32mdef\u001b[0m \u001b[0mclick\u001b[0m\u001b[1;33m(\u001b[0m\u001b[0mself\u001b[0m\u001b[1;33m)\u001b[0m \u001b[1;33m->\u001b[0m \u001b[1;32mNone\u001b[0m\u001b[1;33m:\u001b[0m\u001b[1;33m\u001b[0m\u001b[1;33m\u001b[0m\u001b[0m\n\u001b[0;32m     92\u001b[0m         \u001b[1;34m\"\"\"Clicks the element.\"\"\"\u001b[0m\u001b[1;33m\u001b[0m\u001b[1;33m\u001b[0m\u001b[0m\n\u001b[1;32m---> 93\u001b[1;33m         \u001b[0mself\u001b[0m\u001b[1;33m.\u001b[0m\u001b[0m_execute\u001b[0m\u001b[1;33m(\u001b[0m\u001b[0mCommand\u001b[0m\u001b[1;33m.\u001b[0m\u001b[0mCLICK_ELEMENT\u001b[0m\u001b[1;33m)\u001b[0m\u001b[1;33m\u001b[0m\u001b[1;33m\u001b[0m\u001b[0m\n\u001b[0m\u001b[0;32m     94\u001b[0m \u001b[1;33m\u001b[0m\u001b[0m\n\u001b[0;32m     95\u001b[0m     \u001b[1;32mdef\u001b[0m \u001b[0msubmit\u001b[0m\u001b[1;33m(\u001b[0m\u001b[0mself\u001b[0m\u001b[1;33m)\u001b[0m\u001b[1;33m:\u001b[0m\u001b[1;33m\u001b[0m\u001b[1;33m\u001b[0m\u001b[0m\n",
      "\u001b[1;32m~\\anaconda3\\lib\\site-packages\\selenium\\webdriver\\remote\\webelement.py\u001b[0m in \u001b[0;36m_execute\u001b[1;34m(self, command, params)\u001b[0m\n\u001b[0;32m    401\u001b[0m             \u001b[0mparams\u001b[0m \u001b[1;33m=\u001b[0m \u001b[1;33m{\u001b[0m\u001b[1;33m}\u001b[0m\u001b[1;33m\u001b[0m\u001b[1;33m\u001b[0m\u001b[0m\n\u001b[0;32m    402\u001b[0m         \u001b[0mparams\u001b[0m\u001b[1;33m[\u001b[0m\u001b[1;34m\"id\"\u001b[0m\u001b[1;33m]\u001b[0m \u001b[1;33m=\u001b[0m \u001b[0mself\u001b[0m\u001b[1;33m.\u001b[0m\u001b[0m_id\u001b[0m\u001b[1;33m\u001b[0m\u001b[1;33m\u001b[0m\u001b[0m\n\u001b[1;32m--> 403\u001b[1;33m         \u001b[1;32mreturn\u001b[0m \u001b[0mself\u001b[0m\u001b[1;33m.\u001b[0m\u001b[0m_parent\u001b[0m\u001b[1;33m.\u001b[0m\u001b[0mexecute\u001b[0m\u001b[1;33m(\u001b[0m\u001b[0mcommand\u001b[0m\u001b[1;33m,\u001b[0m \u001b[0mparams\u001b[0m\u001b[1;33m)\u001b[0m\u001b[1;33m\u001b[0m\u001b[1;33m\u001b[0m\u001b[0m\n\u001b[0m\u001b[0;32m    404\u001b[0m \u001b[1;33m\u001b[0m\u001b[0m\n\u001b[0;32m    405\u001b[0m     \u001b[1;32mdef\u001b[0m \u001b[0mfind_element\u001b[0m\u001b[1;33m(\u001b[0m\u001b[0mself\u001b[0m\u001b[1;33m,\u001b[0m \u001b[0mby\u001b[0m\u001b[1;33m=\u001b[0m\u001b[0mBy\u001b[0m\u001b[1;33m.\u001b[0m\u001b[0mID\u001b[0m\u001b[1;33m,\u001b[0m \u001b[0mvalue\u001b[0m\u001b[1;33m=\u001b[0m\u001b[1;32mNone\u001b[0m\u001b[1;33m)\u001b[0m \u001b[1;33m->\u001b[0m \u001b[0mWebElement\u001b[0m\u001b[1;33m:\u001b[0m\u001b[1;33m\u001b[0m\u001b[1;33m\u001b[0m\u001b[0m\n",
      "\u001b[1;32m~\\anaconda3\\lib\\site-packages\\selenium\\webdriver\\remote\\webdriver.py\u001b[0m in \u001b[0;36mexecute\u001b[1;34m(self, driver_command, params)\u001b[0m\n\u001b[0;32m    438\u001b[0m         \u001b[0mresponse\u001b[0m \u001b[1;33m=\u001b[0m \u001b[0mself\u001b[0m\u001b[1;33m.\u001b[0m\u001b[0mcommand_executor\u001b[0m\u001b[1;33m.\u001b[0m\u001b[0mexecute\u001b[0m\u001b[1;33m(\u001b[0m\u001b[0mdriver_command\u001b[0m\u001b[1;33m,\u001b[0m \u001b[0mparams\u001b[0m\u001b[1;33m)\u001b[0m\u001b[1;33m\u001b[0m\u001b[1;33m\u001b[0m\u001b[0m\n\u001b[0;32m    439\u001b[0m         \u001b[1;32mif\u001b[0m \u001b[0mresponse\u001b[0m\u001b[1;33m:\u001b[0m\u001b[1;33m\u001b[0m\u001b[1;33m\u001b[0m\u001b[0m\n\u001b[1;32m--> 440\u001b[1;33m             \u001b[0mself\u001b[0m\u001b[1;33m.\u001b[0m\u001b[0merror_handler\u001b[0m\u001b[1;33m.\u001b[0m\u001b[0mcheck_response\u001b[0m\u001b[1;33m(\u001b[0m\u001b[0mresponse\u001b[0m\u001b[1;33m)\u001b[0m\u001b[1;33m\u001b[0m\u001b[1;33m\u001b[0m\u001b[0m\n\u001b[0m\u001b[0;32m    441\u001b[0m             \u001b[0mresponse\u001b[0m\u001b[1;33m[\u001b[0m\u001b[1;34m\"value\"\u001b[0m\u001b[1;33m]\u001b[0m \u001b[1;33m=\u001b[0m \u001b[0mself\u001b[0m\u001b[1;33m.\u001b[0m\u001b[0m_unwrap_value\u001b[0m\u001b[1;33m(\u001b[0m\u001b[0mresponse\u001b[0m\u001b[1;33m.\u001b[0m\u001b[0mget\u001b[0m\u001b[1;33m(\u001b[0m\u001b[1;34m\"value\"\u001b[0m\u001b[1;33m,\u001b[0m \u001b[1;32mNone\u001b[0m\u001b[1;33m)\u001b[0m\u001b[1;33m)\u001b[0m\u001b[1;33m\u001b[0m\u001b[1;33m\u001b[0m\u001b[0m\n\u001b[0;32m    442\u001b[0m             \u001b[1;32mreturn\u001b[0m \u001b[0mresponse\u001b[0m\u001b[1;33m\u001b[0m\u001b[1;33m\u001b[0m\u001b[0m\n",
      "\u001b[1;32m~\\anaconda3\\lib\\site-packages\\selenium\\webdriver\\remote\\errorhandler.py\u001b[0m in \u001b[0;36mcheck_response\u001b[1;34m(self, response)\u001b[0m\n\u001b[0;32m    243\u001b[0m                 \u001b[0malert_text\u001b[0m \u001b[1;33m=\u001b[0m \u001b[0mvalue\u001b[0m\u001b[1;33m[\u001b[0m\u001b[1;34m\"alert\"\u001b[0m\u001b[1;33m]\u001b[0m\u001b[1;33m.\u001b[0m\u001b[0mget\u001b[0m\u001b[1;33m(\u001b[0m\u001b[1;34m\"text\"\u001b[0m\u001b[1;33m)\u001b[0m\u001b[1;33m\u001b[0m\u001b[1;33m\u001b[0m\u001b[0m\n\u001b[0;32m    244\u001b[0m             \u001b[1;32mraise\u001b[0m \u001b[0mexception_class\u001b[0m\u001b[1;33m(\u001b[0m\u001b[0mmessage\u001b[0m\u001b[1;33m,\u001b[0m \u001b[0mscreen\u001b[0m\u001b[1;33m,\u001b[0m \u001b[0mstacktrace\u001b[0m\u001b[1;33m,\u001b[0m \u001b[0malert_text\u001b[0m\u001b[1;33m)\u001b[0m  \u001b[1;31m# type: ignore[call-arg]  # mypy is not smart enough here\u001b[0m\u001b[1;33m\u001b[0m\u001b[1;33m\u001b[0m\u001b[0m\n\u001b[1;32m--> 245\u001b[1;33m         \u001b[1;32mraise\u001b[0m \u001b[0mexception_class\u001b[0m\u001b[1;33m(\u001b[0m\u001b[0mmessage\u001b[0m\u001b[1;33m,\u001b[0m \u001b[0mscreen\u001b[0m\u001b[1;33m,\u001b[0m \u001b[0mstacktrace\u001b[0m\u001b[1;33m)\u001b[0m\u001b[1;33m\u001b[0m\u001b[1;33m\u001b[0m\u001b[0m\n\u001b[0m",
      "\u001b[1;31mElementClickInterceptedException\u001b[0m: Message: element click intercepted: Element <div class=\"zgAlFc\">...</div> is not clickable at point (780, 200). Other element would receive the click: <iframe role=\"presentation\" frameborder=\"0\" scrolling=\"no\" name=\"callout\" src=\"https://ogs.google.com/widget/callout?prid=19028915&amp;pgid=19027681&amp;puid=3e9e72cbc9a83b93&amp;cce=1&amp;dc=1&amp;origin=https%3A%2F%2Fwww.google.com&amp;cn=callout&amp;pid=1&amp;spid=2&amp;hl=en\" style=\"height: 100%; width: 100%;\" data-iml=\"1677744586977\"></iframe>\n  (Session info: chrome=110.0.5481.178)\nStacktrace:\nBacktrace:\n\t(No symbol) [0x004937D3]\n\t(No symbol) [0x00428B81]\n\t(No symbol) [0x0032B36D]\n\t(No symbol) [0x00364E3B]\n\t(No symbol) [0x003626DB]\n\t(No symbol) [0x0035FD0B]\n\t(No symbol) [0x0035E4D8]\n\t(No symbol) [0x00353253]\n\t(No symbol) [0x0037B41C]\n\t(No symbol) [0x00352B96]\n\t(No symbol) [0x0037B774]\n\t(No symbol) [0x00391215]\n\t(No symbol) [0x0037B216]\n\t(No symbol) [0x00350D97]\n\t(No symbol) [0x0035253D]\n\tGetHandleVerifier [0x0070ABF2+2510930]\n\tGetHandleVerifier [0x00738EC1+2700065]\n\tGetHandleVerifier [0x0073C86C+2714828]\n\tGetHandleVerifier [0x00543480+645344]\n\t(No symbol) [0x00430FD2]\n\t(No symbol) [0x00436C68]\n\t(No symbol) [0x00436D4B]\n\t(No symbol) [0x00440D6B]\n\tBaseThreadInitThunk [0x75A27D69+25]\n\tRtlInitializeExceptionChain [0x771FBB9B+107]\n\tRtlClearBits [0x771FBB1F+191]\n"
     ]
    }
   ],
   "source": [
    "import pandas as pd \n",
    "import selenium\n",
    "from bs4 import BeautifulSoup\n",
    "from selenium.common.exceptions import StaleElementReferenceException, NoSuchElementException\n",
    "\n",
    "from selenium import webdriver\n",
    "import warnings\n",
    "warnings.filterwarnings('ignore')\n",
    "from selenium.webdriver.common.by import By\n",
    "import time\n",
    "\n",
    "driver = webdriver.Chrome()\n",
    "\n",
    "\n",
    "driver.get(\"https://www.google.com/imghp\")\n",
    "\n",
    "search_bar=driver.find_element(By.XPATH,\"/html/body/div[1]/div[3]/form/div[1]/div[1]/div[1]/div/div[2]/input\")\n",
    "search_bar.send_keys('cakes')\n",
    "\n",
    "search=driver.find_element(By.CLASS_NAME,\"zgAlFc\")\n",
    "search.click()\n",
    "\n",
    "for _ in range(10):\n",
    "    driver.execute_script(\"window.scrollBy(0,20)\")\n",
    "    \n",
    "    images=driver.find_elements(By.XPATH,\"//div[@class=' bRMDJf islir']\")\n",
    "    \n",
    "img_urls = []\n",
    "img_data =[]\n",
    "for image in images:\n",
    "    source= image.get_attribute(\"src\")\n",
    "    if source is not None:\n",
    "        if(sourse[0:4] == 'http'):\n",
    "            img_urls.append(sourse)\n",
    "            \n",
    "            \n",
    "            \n",
    "for i in range(len(img_urls)):\n",
    "    if i > 10:\n",
    "        breakBy.XPATH,\"//div[@class=' bRMDJf islir'\"\n",
    "    print(\"Downloading  {0} of {1} cakes\" .format(i, 10))    \n",
    "    response= requests.get(img_urls[i])\n",
    "    file = open(r\"C:\\Users\\kalya\\Desktop\\Fliprobo\"+str(i)+\".jpg\",\"wb\")\n",
    "    file.write(response.content)\n",
    "                "
   ]
  },
  {
   "cell_type": "code",
   "execution_count": 1,
   "id": "a7cab94a",
   "metadata": {},
   "outputs": [],
   "source": [
    "# sir you told that stop this question q3 and continue another "
   ]
  },
  {
   "cell_type": "markdown",
   "id": "921e8e5d",
   "metadata": {},
   "source": [
    "# SIXTH QUESTION ANSWER"
   ]
  },
  {
   "cell_type": "code",
   "execution_count": 50,
   "id": "19aa487b",
   "metadata": {},
   "outputs": [],
   "source": [
    "import pandas as pd \n",
    "import selenium\n",
    "from bs4 import BeautifulSoup\n",
    "from selenium.common.exceptions import StaleElementReferenceException, NoSuchElementException"
   ]
  },
  {
   "cell_type": "code",
   "execution_count": 51,
   "id": "37d3957e",
   "metadata": {},
   "outputs": [],
   "source": [
    "from selenium import webdriver\n",
    "import warnings\n",
    "warnings.filterwarnings('ignore')\n",
    "from selenium.webdriver.common.by import By\n",
    "import time"
   ]
  },
  {
   "cell_type": "code",
   "execution_count": 52,
   "id": "768acccf",
   "metadata": {},
   "outputs": [],
   "source": [
    "driver = webdriver.Chrome()"
   ]
  },
  {
   "cell_type": "code",
   "execution_count": 53,
   "id": "a2b0dc81",
   "metadata": {},
   "outputs": [],
   "source": [
    "driver.get(\"http://www.digit.in/\")"
   ]
  },
  {
   "cell_type": "code",
   "execution_count": 54,
   "id": "acb4d12e",
   "metadata": {},
   "outputs": [],
   "source": [
    "kal=driver.find_element(By.XPATH,\"/html/body/div[2]/div/ul/li[3]/a\")\n",
    "kal.click()"
   ]
  },
  {
   "cell_type": "code",
   "execution_count": 55,
   "id": "10b956fa",
   "metadata": {},
   "outputs": [],
   "source": [
    "kar=driver.find_element(By.XPATH,\"/html/body/div[2]/div/ul/li[2]/a\")\n",
    "kar.click()"
   ]
  },
  {
   "cell_type": "code",
   "execution_count": 56,
   "id": "f410a894",
   "metadata": {},
   "outputs": [],
   "source": [
    "bal=driver.find_element(By.XPATH,\"/html/body/div[7]/div/div[2]/div[2]/div[3]/ul/li[9]/a\")\n",
    "bal.click()"
   ]
  },
  {
   "cell_type": "code",
   "execution_count": 57,
   "id": "8801ed6a",
   "metadata": {},
   "outputs": [],
   "source": [
    "l_brand=[]\n",
    "l_price=[]\n",
    "l_processor=[]\n",
    "l_display=[]\n",
    "l_os=[]\n",
    "l_memory=[]\n",
    "l_body=[]\n",
    "l_grap=[]"
   ]
  },
  {
   "cell_type": "code",
   "execution_count": 58,
   "id": "cf96d82a",
   "metadata": {},
   "outputs": [],
   "source": [
    "brand_tags=driver.find_elements(By.XPATH,\"//div[@class='specfpro_details_cont']\")\n",
    "for i in brand_tags[0:]:\n",
    "    brand=i.text\n",
    "    l_brand.append(brand)"
   ]
  },
  {
   "cell_type": "code",
   "execution_count": 59,
   "id": "22f54573",
   "metadata": {},
   "outputs": [
    {
     "data": {
      "text/plain": [
       "10"
      ]
     },
     "execution_count": 59,
     "metadata": {},
     "output_type": "execute_result"
    }
   ],
   "source": [
    "len(l_brand)"
   ]
  },
  {
   "cell_type": "code",
   "execution_count": 60,
   "id": "69a1732d",
   "metadata": {},
   "outputs": [],
   "source": [
    "pro_tags=driver.find_elements(By.XPATH,\"//div[@class='value']\")\n",
    "for i in pro_tags[0:]:\n",
    "    pro=i.text\n",
    "    l_processor.append(pro)"
   ]
  },
  {
   "cell_type": "code",
   "execution_count": 61,
   "id": "f2ce9644",
   "metadata": {},
   "outputs": [
    {
     "data": {
      "text/plain": [
       "40"
      ]
     },
     "execution_count": 61,
     "metadata": {},
     "output_type": "execute_result"
    }
   ],
   "source": [
    "len(l_processor)"
   ]
  },
  {
   "cell_type": "code",
   "execution_count": 62,
   "id": "a7f59e44",
   "metadata": {},
   "outputs": [],
   "source": [
    "dis_tags=driver.find_elements(By.XPATH,\"//div[@class='Wrap-pop']\")\n",
    "for i in dis_tags[0:]:\n",
    "    dis=i.text\n",
    "    l_display.append(dis)"
   ]
  },
  {
   "cell_type": "code",
   "execution_count": 63,
   "id": "d8ca03db",
   "metadata": {},
   "outputs": [
    {
     "data": {
      "text/plain": [
       "40"
      ]
     },
     "execution_count": 63,
     "metadata": {},
     "output_type": "execute_result"
    }
   ],
   "source": [
    "len(l_display)"
   ]
  },
  {
   "cell_type": "code",
   "execution_count": 64,
   "id": "7addef40",
   "metadata": {},
   "outputs": [],
   "source": [
    "os_tags=driver.find_elements(By.XPATH,\"//div[@class='value']\")\n",
    "for i in os_tags[0:]:\n",
    "    os=i.text\n",
    "    l_os.append(os)"
   ]
  },
  {
   "cell_type": "code",
   "execution_count": 65,
   "id": "208e5251",
   "metadata": {},
   "outputs": [
    {
     "data": {
      "text/plain": [
       "40"
      ]
     },
     "execution_count": 65,
     "metadata": {},
     "output_type": "execute_result"
    }
   ],
   "source": [
    "len(l_os)"
   ]
  },
  {
   "cell_type": "code",
   "execution_count": 67,
   "id": "6b279aeb",
   "metadata": {},
   "outputs": [
    {
     "data": {
      "text/html": [
       "<div>\n",
       "<style scoped>\n",
       "    .dataframe tbody tr th:only-of-type {\n",
       "        vertical-align: middle;\n",
       "    }\n",
       "\n",
       "    .dataframe tbody tr th {\n",
       "        vertical-align: top;\n",
       "    }\n",
       "\n",
       "    .dataframe thead th {\n",
       "        text-align: right;\n",
       "    }\n",
       "</style>\n",
       "<table border=\"1\" class=\"dataframe\">\n",
       "  <thead>\n",
       "    <tr style=\"text-align: right;\">\n",
       "      <th></th>\n",
       "      <th>BRANDS</th>\n",
       "      <th>DETAILS</th>\n",
       "    </tr>\n",
       "  </thead>\n",
       "  <tbody>\n",
       "    <tr>\n",
       "      <th>0</th>\n",
       "      <td>1.\\nMSI Titan GT77-12UHS\\nView Gallery\\nWindow...</td>\n",
       "      <td>Windows 11 Home OS</td>\n",
       "    </tr>\n",
       "    <tr>\n",
       "      <th>1</th>\n",
       "      <td>2.\\nLenovo Legion 7\\nView Gallery\\nWindows 11 ...</td>\n",
       "      <td>17.3\" (3840 x 2160) Display</td>\n",
       "    </tr>\n",
       "    <tr>\n",
       "      <th>2</th>\n",
       "      <td>3.\\nAlienware X17 R2\\nView Gallery\\nWindows 11...</td>\n",
       "      <td>12th Gen Intel Core i9-12900HX | NA Processor</td>\n",
       "    </tr>\n",
       "    <tr>\n",
       "      <th>3</th>\n",
       "      <td>4.\\nAcer Predator Triton 500 SE PT516-52s\\nVie...</td>\n",
       "      <td>2 TB SSD/64 GB DDR5 Memory</td>\n",
       "    </tr>\n",
       "    <tr>\n",
       "      <th>4</th>\n",
       "      <td>5.\\nOmen By HP (16-B1371TX)\\nView Gallery\\nWin...</td>\n",
       "      <td>Windows 11 Home OS</td>\n",
       "    </tr>\n",
       "    <tr>\n",
       "      <th>5</th>\n",
       "      <td>6.\\nAcer Predator Helios 300 AN515-45\\nView Ga...</td>\n",
       "      <td>16\" (2560 x 1600) Display</td>\n",
       "    </tr>\n",
       "    <tr>\n",
       "      <th>6</th>\n",
       "      <td>7.\\nMSI Delta 15 (A5EFK-083IN)\\nView Gallery\\n...</td>\n",
       "      <td>12th Gen Intel Core i9-12900HX | 2.3 GHz Proce...</td>\n",
       "    </tr>\n",
       "    <tr>\n",
       "      <th>7</th>\n",
       "      <td>8.\\nOmen By HP (16-C0141AX)\\nView Gallery\\nWin...</td>\n",
       "      <td>1 TB SSD/32 GB DDR4 Memory</td>\n",
       "    </tr>\n",
       "    <tr>\n",
       "      <th>8</th>\n",
       "      <td>9.\\nLenovo Legion 5i Pro (82RF00MGIN)\\nView Ga...</td>\n",
       "      <td>Windows 11 Home OS</td>\n",
       "    </tr>\n",
       "    <tr>\n",
       "      <th>9</th>\n",
       "      <td>10.\\nAlienware M15 R5 Ryzen Edition Icc-C78000...</td>\n",
       "      <td>17.3\" (1920 x 1080) Display</td>\n",
       "    </tr>\n",
       "  </tbody>\n",
       "</table>\n",
       "</div>"
      ],
      "text/plain": [
       "                                              BRANDS  \\\n",
       "0  1.\\nMSI Titan GT77-12UHS\\nView Gallery\\nWindow...   \n",
       "1  2.\\nLenovo Legion 7\\nView Gallery\\nWindows 11 ...   \n",
       "2  3.\\nAlienware X17 R2\\nView Gallery\\nWindows 11...   \n",
       "3  4.\\nAcer Predator Triton 500 SE PT516-52s\\nVie...   \n",
       "4  5.\\nOmen By HP (16-B1371TX)\\nView Gallery\\nWin...   \n",
       "5  6.\\nAcer Predator Helios 300 AN515-45\\nView Ga...   \n",
       "6  7.\\nMSI Delta 15 (A5EFK-083IN)\\nView Gallery\\n...   \n",
       "7  8.\\nOmen By HP (16-C0141AX)\\nView Gallery\\nWin...   \n",
       "8  9.\\nLenovo Legion 5i Pro (82RF00MGIN)\\nView Ga...   \n",
       "9  10.\\nAlienware M15 R5 Ryzen Edition Icc-C78000...   \n",
       "\n",
       "                                             DETAILS  \n",
       "0                                 Windows 11 Home OS  \n",
       "1                        17.3\" (3840 x 2160) Display  \n",
       "2      12th Gen Intel Core i9-12900HX | NA Processor  \n",
       "3                         2 TB SSD/64 GB DDR5 Memory  \n",
       "4                                 Windows 11 Home OS  \n",
       "5                          16\" (2560 x 1600) Display  \n",
       "6  12th Gen Intel Core i9-12900HX | 2.3 GHz Proce...  \n",
       "7                         1 TB SSD/32 GB DDR4 Memory  \n",
       "8                                 Windows 11 Home OS  \n",
       "9                        17.3\" (1920 x 1080) Display  "
      ]
     },
     "execution_count": 67,
     "metadata": {},
     "output_type": "execute_result"
    }
   ],
   "source": [
    "df=pd.DataFrame({\"BRANDS\":l_brand[0:10],\"DETAILS\":l_os[0:10]})\n",
    "df"
   ]
  },
  {
   "cell_type": "code",
   "execution_count": 68,
   "id": "39def395",
   "metadata": {},
   "outputs": [],
   "source": [
    "df.to_csv(\"Best gaming laptops.csv\")\n",
    "driver.quit()"
   ]
  },
  {
   "cell_type": "markdown",
   "id": "6a1dc9ae",
   "metadata": {},
   "source": [
    "# SEVENTH QUESTION ANSWER"
   ]
  },
  {
   "cell_type": "code",
   "execution_count": 69,
   "id": "8dc0f833",
   "metadata": {},
   "outputs": [],
   "source": [
    "import pandas as pd \n",
    "import selenium\n",
    "from bs4 import BeautifulSoup\n",
    "from selenium.common.exceptions import StaleElementReferenceException, NoSuchElementException"
   ]
  },
  {
   "cell_type": "code",
   "execution_count": 70,
   "id": "bdaaee98",
   "metadata": {},
   "outputs": [],
   "source": [
    "from selenium import webdriver\n",
    "import warnings\n",
    "warnings.filterwarnings('ignore')\n",
    "from selenium.webdriver.common.by import By\n",
    "import time"
   ]
  },
  {
   "cell_type": "code",
   "execution_count": 71,
   "id": "b181db44",
   "metadata": {},
   "outputs": [],
   "source": [
    "driver = webdriver.Chrome()"
   ]
  },
  {
   "cell_type": "code",
   "execution_count": 72,
   "id": "58f15057",
   "metadata": {},
   "outputs": [],
   "source": [
    "driver.get(\"http://www.forbes.com/\")"
   ]
  },
  {
   "cell_type": "code",
   "execution_count": 74,
   "id": "3a2a9292",
   "metadata": {},
   "outputs": [],
   "source": [
    "ved=driver.find_element(By.CLASS_NAME,\"_8FT-x3t4\")\n",
    "ved.click()"
   ]
  },
  {
   "cell_type": "code",
   "execution_count": 76,
   "id": "b6f8135c",
   "metadata": {},
   "outputs": [],
   "source": [
    "pra=driver.find_element(By.XPATH,\"/html/body/div[1]/header/nav/div[1]/div/div/div[2]/ul/li[1]/div[2]/div[3]/ul/li[1]/a\")\n",
    "pra.click()"
   ]
  },
  {
   "cell_type": "code",
   "execution_count": 77,
   "id": "792cc8c7",
   "metadata": {},
   "outputs": [],
   "source": [
    "b_rank=[]\n",
    "b_name=[]\n",
    "b_net=[]\n",
    "b_age=[]\n",
    "b_cit=[]\n",
    "b_soc=[]\n",
    "b_ind=[]\n"
   ]
  },
  {
   "cell_type": "code",
   "execution_count": 78,
   "id": "21a54a94",
   "metadata": {},
   "outputs": [],
   "source": [
    "rank_tags=driver.find_elements(By.XPATH,\"//div[@class='rank']\")\n",
    "for i in rank_tags[0:16]:\n",
    "    rank=i.text\n",
    "    b_rank.append(rank)"
   ]
  },
  {
   "cell_type": "code",
   "execution_count": 79,
   "id": "3ea60c40",
   "metadata": {},
   "outputs": [
    {
     "data": {
      "text/plain": [
       "16"
      ]
     },
     "execution_count": 79,
     "metadata": {},
     "output_type": "execute_result"
    }
   ],
   "source": [
    "len(b_rank)"
   ]
  },
  {
   "cell_type": "code",
   "execution_count": 80,
   "id": "ae43a407",
   "metadata": {},
   "outputs": [],
   "source": [
    "name_tags=driver.find_elements(By.XPATH,\"//div[@class='personName']\")\n",
    "for i in name_tags[0:]:\n",
    "    name=i.text\n",
    "    b_name.append(name)"
   ]
  },
  {
   "cell_type": "code",
   "execution_count": 81,
   "id": "22a553d6",
   "metadata": {},
   "outputs": [
    {
     "data": {
      "text/plain": [
       "200"
      ]
     },
     "execution_count": 81,
     "metadata": {},
     "output_type": "execute_result"
    }
   ],
   "source": [
    "len(b_name)"
   ]
  },
  {
   "cell_type": "code",
   "execution_count": 82,
   "id": "627e6cd6",
   "metadata": {},
   "outputs": [],
   "source": [
    "net_tags=driver.find_elements(By.XPATH,\"//div[@class='netWorth']\")\n",
    "for i in net_tags[0:]:\n",
    "    net=i.text\n",
    "    b_net.append(net)"
   ]
  },
  {
   "cell_type": "code",
   "execution_count": 83,
   "id": "6dbe2162",
   "metadata": {},
   "outputs": [
    {
     "data": {
      "text/plain": [
       "200"
      ]
     },
     "execution_count": 83,
     "metadata": {},
     "output_type": "execute_result"
    }
   ],
   "source": [
    "len(b_net)"
   ]
  },
  {
   "cell_type": "code",
   "execution_count": 84,
   "id": "d4054186",
   "metadata": {},
   "outputs": [],
   "source": [
    "age_tags=driver.find_elements(By.XPATH,\"//div[@class='age']\")\n",
    "for i in age_tags[0:]:\n",
    "    age=i.text\n",
    "    b_age.append(age)"
   ]
  },
  {
   "cell_type": "code",
   "execution_count": 85,
   "id": "f5e23471",
   "metadata": {},
   "outputs": [
    {
     "data": {
      "text/plain": [
       "200"
      ]
     },
     "execution_count": 85,
     "metadata": {},
     "output_type": "execute_result"
    }
   ],
   "source": [
    "len(b_age)"
   ]
  },
  {
   "cell_type": "code",
   "execution_count": 86,
   "id": "fe9390cc",
   "metadata": {},
   "outputs": [],
   "source": [
    "cit_tags=driver.find_elements(By.XPATH,\"//div[@class='countryOfCitizenship']\")\n",
    "for i in cit_tags[0:]:\n",
    "    cit=i.text\n",
    "    b_cit.append(cit)"
   ]
  },
  {
   "cell_type": "code",
   "execution_count": 87,
   "id": "41023402",
   "metadata": {},
   "outputs": [],
   "source": [
    "soc_tags=driver.find_elements(By.XPATH,\"//span[@class='source-text']\")\n",
    "for i in soc_tags[0:]:\n",
    "    soc=i.text\n",
    "    b_soc.append(soc)"
   ]
  },
  {
   "cell_type": "code",
   "execution_count": 88,
   "id": "ee814c0f",
   "metadata": {},
   "outputs": [
    {
     "data": {
      "text/plain": [
       "200"
      ]
     },
     "execution_count": 88,
     "metadata": {},
     "output_type": "execute_result"
    }
   ],
   "source": [
    "len(b_soc)"
   ]
  },
  {
   "cell_type": "code",
   "execution_count": 89,
   "id": "11521ec1",
   "metadata": {},
   "outputs": [],
   "source": [
    "ind_tags=driver.find_elements(By.XPATH,\"//div[@class='category']\")\n",
    "for i in ind_tags[0:]:\n",
    "    ind=i.text\n",
    "    b_ind.append(ind)"
   ]
  },
  {
   "cell_type": "code",
   "execution_count": null,
   "id": "c6282c65",
   "metadata": {},
   "outputs": [],
   "source": [
    "len(b_ind)"
   ]
  },
  {
   "cell_type": "code",
   "execution_count": 90,
   "id": "35f41a38",
   "metadata": {},
   "outputs": [
    {
     "data": {
      "text/html": [
       "<div>\n",
       "<style scoped>\n",
       "    .dataframe tbody tr th:only-of-type {\n",
       "        vertical-align: middle;\n",
       "    }\n",
       "\n",
       "    .dataframe tbody tr th {\n",
       "        vertical-align: top;\n",
       "    }\n",
       "\n",
       "    .dataframe thead th {\n",
       "        text-align: right;\n",
       "    }\n",
       "</style>\n",
       "<table border=\"1\" class=\"dataframe\">\n",
       "  <thead>\n",
       "    <tr style=\"text-align: right;\">\n",
       "      <th></th>\n",
       "      <th>RANK</th>\n",
       "      <th>NAME</th>\n",
       "      <th>NET WORTH</th>\n",
       "      <th>AGE</th>\n",
       "      <th>CITIZENSHIP</th>\n",
       "      <th>SOURCE</th>\n",
       "      <th>INDUSTRT</th>\n",
       "    </tr>\n",
       "  </thead>\n",
       "  <tbody>\n",
       "    <tr>\n",
       "      <th>0</th>\n",
       "      <td>1.</td>\n",
       "      <td>Elon Musk</td>\n",
       "      <td>$219 B</td>\n",
       "      <td>50</td>\n",
       "      <td>United States</td>\n",
       "      <td>Tesla, SpaceX</td>\n",
       "      <td>Automotive</td>\n",
       "    </tr>\n",
       "    <tr>\n",
       "      <th>1</th>\n",
       "      <td>2.</td>\n",
       "      <td>Jeff Bezos</td>\n",
       "      <td>$171 B</td>\n",
       "      <td>58</td>\n",
       "      <td>United States</td>\n",
       "      <td>Amazon</td>\n",
       "      <td>Technology</td>\n",
       "    </tr>\n",
       "    <tr>\n",
       "      <th>2</th>\n",
       "      <td>3.</td>\n",
       "      <td>Bernard Arnault &amp; family</td>\n",
       "      <td>$158 B</td>\n",
       "      <td>73</td>\n",
       "      <td>France</td>\n",
       "      <td>LVMH</td>\n",
       "      <td>Fashion &amp; Retail</td>\n",
       "    </tr>\n",
       "    <tr>\n",
       "      <th>3</th>\n",
       "      <td>4.</td>\n",
       "      <td>Bill Gates</td>\n",
       "      <td>$129 B</td>\n",
       "      <td>66</td>\n",
       "      <td>United States</td>\n",
       "      <td>Microsoft</td>\n",
       "      <td>Technology</td>\n",
       "    </tr>\n",
       "    <tr>\n",
       "      <th>4</th>\n",
       "      <td>5.</td>\n",
       "      <td>Warren Buffett</td>\n",
       "      <td>$118 B</td>\n",
       "      <td>91</td>\n",
       "      <td>United States</td>\n",
       "      <td>Berkshire Hathaway</td>\n",
       "      <td>Finance &amp; Investments</td>\n",
       "    </tr>\n",
       "    <tr>\n",
       "      <th>5</th>\n",
       "      <td>6.</td>\n",
       "      <td>Larry Page</td>\n",
       "      <td>$111 B</td>\n",
       "      <td>49</td>\n",
       "      <td>United States</td>\n",
       "      <td>Google</td>\n",
       "      <td>Technology</td>\n",
       "    </tr>\n",
       "    <tr>\n",
       "      <th>6</th>\n",
       "      <td>7.</td>\n",
       "      <td>Sergey Brin</td>\n",
       "      <td>$107 B</td>\n",
       "      <td>48</td>\n",
       "      <td>United States</td>\n",
       "      <td>Google</td>\n",
       "      <td>Technology</td>\n",
       "    </tr>\n",
       "    <tr>\n",
       "      <th>7</th>\n",
       "      <td>8.</td>\n",
       "      <td>Larry Ellison</td>\n",
       "      <td>$106 B</td>\n",
       "      <td>77</td>\n",
       "      <td>United States</td>\n",
       "      <td>software</td>\n",
       "      <td>Technology</td>\n",
       "    </tr>\n",
       "    <tr>\n",
       "      <th>8</th>\n",
       "      <td>9.</td>\n",
       "      <td>Steve Ballmer</td>\n",
       "      <td>$91.4 B</td>\n",
       "      <td>66</td>\n",
       "      <td>United States</td>\n",
       "      <td>Microsoft</td>\n",
       "      <td>Technology</td>\n",
       "    </tr>\n",
       "    <tr>\n",
       "      <th>9</th>\n",
       "      <td>10.</td>\n",
       "      <td>Mukesh Ambani</td>\n",
       "      <td>$90.7 B</td>\n",
       "      <td>64</td>\n",
       "      <td>India</td>\n",
       "      <td>diversified</td>\n",
       "      <td>Diversified</td>\n",
       "    </tr>\n",
       "    <tr>\n",
       "      <th>10</th>\n",
       "      <td>11.</td>\n",
       "      <td>Gautam Adani</td>\n",
       "      <td>$90 B</td>\n",
       "      <td>59</td>\n",
       "      <td>India</td>\n",
       "      <td>infrastructure, commodities</td>\n",
       "      <td>Diversified</td>\n",
       "    </tr>\n",
       "    <tr>\n",
       "      <th>11</th>\n",
       "      <td>12.</td>\n",
       "      <td>Michael Bloomberg</td>\n",
       "      <td>$82 B</td>\n",
       "      <td>80</td>\n",
       "      <td>United States</td>\n",
       "      <td>Bloomberg LP</td>\n",
       "      <td>Media &amp; Entertainment</td>\n",
       "    </tr>\n",
       "    <tr>\n",
       "      <th>12</th>\n",
       "      <td>13.</td>\n",
       "      <td>Carlos Slim Helu &amp; family</td>\n",
       "      <td>$81.2 B</td>\n",
       "      <td>82</td>\n",
       "      <td>Mexico</td>\n",
       "      <td>telecom</td>\n",
       "      <td>Telecom</td>\n",
       "    </tr>\n",
       "    <tr>\n",
       "      <th>13</th>\n",
       "      <td>14.</td>\n",
       "      <td>Francoise Bettencourt Meyers &amp; family</td>\n",
       "      <td>$74.8 B</td>\n",
       "      <td>68</td>\n",
       "      <td>France</td>\n",
       "      <td>L'Oréal</td>\n",
       "      <td>Fashion &amp; Retail</td>\n",
       "    </tr>\n",
       "    <tr>\n",
       "      <th>14</th>\n",
       "      <td>15.</td>\n",
       "      <td>Mark Zuckerberg</td>\n",
       "      <td>$67.3 B</td>\n",
       "      <td>37</td>\n",
       "      <td>United States</td>\n",
       "      <td>Facebook</td>\n",
       "      <td>Technology</td>\n",
       "    </tr>\n",
       "  </tbody>\n",
       "</table>\n",
       "</div>"
      ],
      "text/plain": [
       "   RANK                                   NAME NET WORTH AGE    CITIZENSHIP  \\\n",
       "0    1.                              Elon Musk    $219 B  50  United States   \n",
       "1    2.                             Jeff Bezos    $171 B  58  United States   \n",
       "2    3.               Bernard Arnault & family    $158 B  73         France   \n",
       "3    4.                             Bill Gates    $129 B  66  United States   \n",
       "4    5.                         Warren Buffett    $118 B  91  United States   \n",
       "5    6.                             Larry Page    $111 B  49  United States   \n",
       "6    7.                            Sergey Brin    $107 B  48  United States   \n",
       "7    8.                          Larry Ellison    $106 B  77  United States   \n",
       "8    9.                          Steve Ballmer   $91.4 B  66  United States   \n",
       "9   10.                          Mukesh Ambani   $90.7 B  64          India   \n",
       "10  11.                           Gautam Adani     $90 B  59          India   \n",
       "11  12.                      Michael Bloomberg     $82 B  80  United States   \n",
       "12  13.              Carlos Slim Helu & family   $81.2 B  82         Mexico   \n",
       "13  14.  Francoise Bettencourt Meyers & family   $74.8 B  68         France   \n",
       "14  15.                        Mark Zuckerberg   $67.3 B  37  United States   \n",
       "\n",
       "                         SOURCE               INDUSTRT  \n",
       "0                 Tesla, SpaceX             Automotive  \n",
       "1                        Amazon             Technology  \n",
       "2                          LVMH       Fashion & Retail  \n",
       "3                     Microsoft             Technology  \n",
       "4            Berkshire Hathaway  Finance & Investments  \n",
       "5                        Google             Technology  \n",
       "6                        Google             Technology  \n",
       "7                      software             Technology  \n",
       "8                     Microsoft             Technology  \n",
       "9                   diversified            Diversified  \n",
       "10  infrastructure, commodities            Diversified  \n",
       "11                 Bloomberg LP  Media & Entertainment  \n",
       "12                      telecom                Telecom  \n",
       "13                      L'Oréal       Fashion & Retail  \n",
       "14                     Facebook             Technology  "
      ]
     },
     "execution_count": 90,
     "metadata": {},
     "output_type": "execute_result"
    }
   ],
   "source": [
    "df=pd.DataFrame({\"RANK\":b_rank[0:15],\"NAME\":b_name[0:15],\"NET WORTH\":b_net[0:15],\"AGE\":b_age[0:15],\"CITIZENSHIP\":b_cit[0:15],\n",
    "                \"SOURCE\":b_soc[0:15],\"INDUSTRT\":b_ind[0:15]})\n",
    "df"
   ]
  },
  {
   "cell_type": "code",
   "execution_count": null,
   "id": "5e574e57",
   "metadata": {},
   "outputs": [],
   "source": []
  },
  {
   "cell_type": "markdown",
   "id": "2d4dbf4c",
   "metadata": {},
   "source": [
    "# EIGHTH QUESTION ANSWER"
   ]
  },
  {
   "cell_type": "code",
   "execution_count": 156,
   "id": "310ac355",
   "metadata": {},
   "outputs": [],
   "source": [
    "import pandas as pd \n",
    "import selenium\n",
    "from bs4 import BeautifulSoup\n",
    "from selenium.common.exceptions import StaleElementReferenceException, NoSuchElementException"
   ]
  },
  {
   "cell_type": "code",
   "execution_count": 157,
   "id": "1dcea079",
   "metadata": {},
   "outputs": [],
   "source": [
    "from selenium import webdriver\n",
    "import warnings\n",
    "warnings.filterwarnings('ignore')\n",
    "from selenium.webdriver.common.by import By\n",
    "import time"
   ]
  },
  {
   "cell_type": "code",
   "execution_count": 158,
   "id": "abd2a258",
   "metadata": {},
   "outputs": [],
   "source": [
    "driver = webdriver.Chrome()"
   ]
  },
  {
   "cell_type": "code",
   "execution_count": 159,
   "id": "46561bf0",
   "metadata": {},
   "outputs": [],
   "source": [
    "driver.get(\"http://www.youtube.com/\")"
   ]
  },
  {
   "cell_type": "code",
   "execution_count": 165,
   "id": "c74ed488",
   "metadata": {},
   "outputs": [],
   "source": [
    "search_a=driver.find_element(By.CLASS_NAME,\"style-scope ytd-rich-grid-slim-media\")\n",
    "search_a.click()"
   ]
  },
  {
   "cell_type": "code",
   "execution_count": 166,
   "id": "cb7d54c9",
   "metadata": {},
   "outputs": [],
   "source": [
    "search_c=driver.find_element(By.XPATH,\"/html/body/ytd-app/div[1]/ytd-page-manager/ytd-shorts/div[2]/div[2]/ytd-reel-video-renderer[1]/div[2]/ytd-reel-player-overlay-renderer/div[2]/div[4]/ytd-button-renderer/yt-button-shape/label/button/yt-touch-feedback-shape/div/div[2]\")\n",
    "search_c.click()"
   ]
  },
  {
   "cell_type": "code",
   "execution_count": 172,
   "id": "4a862f33",
   "metadata": {},
   "outputs": [],
   "source": [
    "c_up=[]\n",
    "c_time=[]\n",
    "c_vote=[]"
   ]
  },
  {
   "cell_type": "code",
   "execution_count": 179,
   "id": "a2aad2ef",
   "metadata": {},
   "outputs": [],
   "source": [
    "for _ in range(1000):\n",
    "    driver.execute_script(\"window.scrollBy(0,1000)\")"
   ]
  },
  {
   "cell_type": "code",
   "execution_count": 180,
   "id": "d071f570",
   "metadata": {},
   "outputs": [],
   "source": [
    "up_tags=driver.find_elements(By.XPATH,\"//span[@class=' style-scope ytd-comment-renderer']\")\n",
    "for i in up_tags[0:]:\n",
    "    up=i.text\n",
    "    c_up.append(up)"
   ]
  },
  {
   "cell_type": "code",
   "execution_count": 181,
   "id": "994af765",
   "metadata": {},
   "outputs": [
    {
     "data": {
      "text/plain": [
       "40"
      ]
     },
     "execution_count": 181,
     "metadata": {},
     "output_type": "execute_result"
    }
   ],
   "source": [
    "len(c_up)"
   ]
  },
  {
   "cell_type": "code",
   "execution_count": 173,
   "id": "b8eb81cb",
   "metadata": {},
   "outputs": [],
   "source": [
    "tim_tags=driver.find_elements(By.XPATH,\"//a[@class='yt-simple-endpoint style-scope yt-formatted-string']\")\n",
    "for i in tim_tags[0:]:\n",
    "    tim=i.text\n",
    "    c_time.append(tim)"
   ]
  },
  {
   "cell_type": "code",
   "execution_count": 174,
   "id": "b9a3b62d",
   "metadata": {},
   "outputs": [
    {
     "data": {
      "text/plain": [
       "166"
      ]
     },
     "execution_count": 174,
     "metadata": {},
     "output_type": "execute_result"
    }
   ],
   "source": [
    "len(c_time)"
   ]
  },
  {
   "cell_type": "code",
   "execution_count": 183,
   "id": "4abc25d1",
   "metadata": {},
   "outputs": [],
   "source": [
    "vot_tags=driver.find_elements(By.XPATH,\"//span[@class='style-scope yt-formatted-string']\")\n",
    "for i in vot_tags[0:]:\n",
    "    vot=i.text\n",
    "    c_vote.append(vot)"
   ]
  },
  {
   "cell_type": "code",
   "execution_count": 185,
   "id": "34919ab8",
   "metadata": {},
   "outputs": [
    {
     "data": {
      "text/plain": [
       "53"
      ]
     },
     "execution_count": 185,
     "metadata": {},
     "output_type": "execute_result"
    }
   ],
   "source": [
    "len(c_vote)"
   ]
  },
  {
   "cell_type": "code",
   "execution_count": 186,
   "id": "30106bbd",
   "metadata": {},
   "outputs": [
    {
     "data": {
      "text/html": [
       "<div>\n",
       "<style scoped>\n",
       "    .dataframe tbody tr th:only-of-type {\n",
       "        vertical-align: middle;\n",
       "    }\n",
       "\n",
       "    .dataframe tbody tr th {\n",
       "        vertical-align: top;\n",
       "    }\n",
       "\n",
       "    .dataframe thead th {\n",
       "        text-align: right;\n",
       "    }\n",
       "</style>\n",
       "<table border=\"1\" class=\"dataframe\">\n",
       "  <thead>\n",
       "    <tr style=\"text-align: right;\">\n",
       "      <th></th>\n",
       "      <th>NAME</th>\n",
       "      <th>TIME</th>\n",
       "      <th>UP VOTE</th>\n",
       "    </tr>\n",
       "  </thead>\n",
       "  <tbody>\n",
       "    <tr>\n",
       "      <th>0</th>\n",
       "      <td>soumya ranjan pradhan</td>\n",
       "      <td>1 day ago</td>\n",
       "      <td>Love birds parents are angry birds...</td>\n",
       "    </tr>\n",
       "    <tr>\n",
       "      <th>1</th>\n",
       "      <td>ourhyderabad</td>\n",
       "      <td>23 hours ago</td>\n",
       "      <td>Their siblings will play in my next</td>\n",
       "    </tr>\n",
       "    <tr>\n",
       "      <th>2</th>\n",
       "      <td>Karmilo Sequeira</td>\n",
       "      <td>17 hours ago</td>\n",
       "      <td>She will confirm marry NRI leaving that guy as...</td>\n",
       "    </tr>\n",
       "    <tr>\n",
       "      <th>3</th>\n",
       "      <td>Sonu Patel</td>\n",
       "      <td>18 hours ago</td>\n",
       "      <td>Boys can You tell the colour of their bags?</td>\n",
       "    </tr>\n",
       "    <tr>\n",
       "      <th>4</th>\n",
       "      <td>ask naresh</td>\n",
       "      <td>18 hours ago</td>\n",
       "      <td>That smile</td>\n",
       "    </tr>\n",
       "    <tr>\n",
       "      <th>5</th>\n",
       "      <td>Tekendra Shakya</td>\n",
       "      <td>1 day ago</td>\n",
       "      <td>The smile and expression</td>\n",
       "    </tr>\n",
       "    <tr>\n",
       "      <th>6</th>\n",
       "      <td>Mahfooz Hussain</td>\n",
       "      <td>19 hours ago</td>\n",
       "      <td>️</td>\n",
       "    </tr>\n",
       "    <tr>\n",
       "      <th>7</th>\n",
       "      <td>Chatla Mallavva</td>\n",
       "      <td>22 hours ago</td>\n",
       "      <td>Calling him let's ready to go Oyo</td>\n",
       "    </tr>\n",
       "    <tr>\n",
       "      <th>8</th>\n",
       "      <td>Sang D</td>\n",
       "      <td>20 hours ago</td>\n",
       "      <td>OMG that cross cut look</td>\n",
       "    </tr>\n",
       "    <tr>\n",
       "      <th>9</th>\n",
       "      <td>D@Ríng deepz</td>\n",
       "      <td>4 hours ago</td>\n",
       "      <td>️</td>\n",
       "    </tr>\n",
       "    <tr>\n",
       "      <th>10</th>\n",
       "      <td>AMR</td>\n",
       "      <td>18 hours ago</td>\n",
       "      <td>️</td>\n",
       "    </tr>\n",
       "    <tr>\n",
       "      <th>11</th>\n",
       "      <td>Vigneshwaran U</td>\n",
       "      <td>18 hours ago</td>\n",
       "      <td>Cute look at the end</td>\n",
       "    </tr>\n",
       "    <tr>\n",
       "      <th>12</th>\n",
       "      <td>Jessy Philip</td>\n",
       "      <td>18 hours ago</td>\n",
       "      <td>That smile</td>\n",
       "    </tr>\n",
       "    <tr>\n",
       "      <th>13</th>\n",
       "      <td>Nagarathnamma T</td>\n",
       "      <td>1 day ago</td>\n",
       "      <td>️killing me</td>\n",
       "    </tr>\n",
       "    <tr>\n",
       "      <th>14</th>\n",
       "      <td>Indrajeet Nayak</td>\n",
       "      <td>1 day ago</td>\n",
       "      <td>️</td>\n",
       "    </tr>\n",
       "    <tr>\n",
       "      <th>15</th>\n",
       "      <td>Mr三SPY💞</td>\n",
       "      <td>2 weeks ago</td>\n",
       "      <td>️</td>\n",
       "    </tr>\n",
       "    <tr>\n",
       "      <th>16</th>\n",
       "      <td>im Sunil YT</td>\n",
       "      <td>5 minutes ago</td>\n",
       "      <td>gesture is cool</td>\n",
       "    </tr>\n",
       "    <tr>\n",
       "      <th>17</th>\n",
       "      <td>silverado</td>\n",
       "      <td>21 hours ago</td>\n",
       "      <td>വഴിയിൽ തട്ടി വീഴണ്ടെൻകിൽ നേരെ നോക്കി നടക്...</td>\n",
       "    </tr>\n",
       "    <tr>\n",
       "      <th>18</th>\n",
       "      <td>Madhu Kadavan</td>\n",
       "      <td>22 hours ago</td>\n",
       "      <td>This smile can decimate your whole life</td>\n",
       "    </tr>\n",
       "    <tr>\n",
       "      <th>19</th>\n",
       "      <td>Maddy m</td>\n",
       "      <td>2 hours ago (edited)</td>\n",
       "      <td>The look</td>\n",
       "    </tr>\n",
       "  </tbody>\n",
       "</table>\n",
       "</div>"
      ],
      "text/plain": [
       "                     NAME                  TIME  \\\n",
       "0   soumya ranjan pradhan             1 day ago   \n",
       "1            ourhyderabad          23 hours ago   \n",
       "2        Karmilo Sequeira          17 hours ago   \n",
       "3              Sonu Patel          18 hours ago   \n",
       "4              ask naresh          18 hours ago   \n",
       "5         Tekendra Shakya             1 day ago   \n",
       "6         Mahfooz Hussain          19 hours ago   \n",
       "7         Chatla Mallavva          22 hours ago   \n",
       "8                  Sang D          20 hours ago   \n",
       "9            D@Ríng deepz           4 hours ago   \n",
       "10                    AMR          18 hours ago   \n",
       "11         Vigneshwaran U          18 hours ago   \n",
       "12           Jessy Philip          18 hours ago   \n",
       "13        Nagarathnamma T             1 day ago   \n",
       "14        Indrajeet Nayak             1 day ago   \n",
       "15                Mr三SPY💞           2 weeks ago   \n",
       "16            im Sunil YT         5 minutes ago   \n",
       "17              silverado          21 hours ago   \n",
       "18          Madhu Kadavan          22 hours ago   \n",
       "19                Maddy m  2 hours ago (edited)   \n",
       "\n",
       "                                              UP VOTE  \n",
       "0               Love birds parents are angry birds...  \n",
       "1                 Their siblings will play in my next  \n",
       "2   She will confirm marry NRI leaving that guy as...  \n",
       "3         Boys can You tell the colour of their bags?  \n",
       "4                                          That smile  \n",
       "5                           The smile and expression   \n",
       "6                                                   ️  \n",
       "7                  Calling him let's ready to go Oyo   \n",
       "8                             OMG that cross cut look  \n",
       "9                                                   ️  \n",
       "10                                                  ️  \n",
       "11                              Cute look at the end   \n",
       "12                                       That smile    \n",
       "13                                       ️killing me   \n",
       "14                                                  ️  \n",
       "15                                                  ️  \n",
       "16                                    gesture is cool  \n",
       "17      വഴിയിൽ തട്ടി വീഴണ്ടെൻകിൽ നേരെ നോക്കി നടക്...   \n",
       "18           This smile can decimate your whole life   \n",
       "19                                          The look   "
      ]
     },
     "execution_count": 186,
     "metadata": {},
     "output_type": "execute_result"
    }
   ],
   "source": [
    "df=pd.DataFrame({\"NAME\":c_up[20:40],\"TIME\":c_time[146:166],\"UP VOTE\":c_vote[32:52]})\n",
    "df"
   ]
  },
  {
   "cell_type": "code",
   "execution_count": null,
   "id": "dfb5ee8c",
   "metadata": {},
   "outputs": [],
   "source": []
  },
  {
   "cell_type": "markdown",
   "id": "bbe1e8c7",
   "metadata": {},
   "source": [
    "# NINTH QUESTION ANSWER"
   ]
  },
  {
   "cell_type": "code",
   "execution_count": 121,
   "id": "54af2c28",
   "metadata": {},
   "outputs": [],
   "source": [
    "import pandas as pd \n",
    "import selenium\n",
    "from bs4 import BeautifulSoup\n",
    "from selenium.common.exceptions import StaleElementReferenceException, NoSuchElementException"
   ]
  },
  {
   "cell_type": "code",
   "execution_count": 122,
   "id": "ff0aa8ce",
   "metadata": {},
   "outputs": [],
   "source": [
    "from selenium import webdriver\n",
    "import warnings\n",
    "warnings.filterwarnings('ignore')\n",
    "from selenium.webdriver.common.by import By\n",
    "import time"
   ]
  },
  {
   "cell_type": "code",
   "execution_count": 123,
   "id": "7b0884eb",
   "metadata": {},
   "outputs": [],
   "source": [
    "driver = webdriver.Chrome()"
   ]
  },
  {
   "cell_type": "code",
   "execution_count": 124,
   "id": "2a926671",
   "metadata": {},
   "outputs": [],
   "source": [
    "driver.get(\"http://www.hostelworld.com/\")"
   ]
  },
  {
   "cell_type": "code",
   "execution_count": 125,
   "id": "b74481f0",
   "metadata": {},
   "outputs": [],
   "source": [
    "son=driver.find_element(By.XPATH,\"/html/body/div[3]/div/div/div[2]/div[2]/div/div/div[4]/div/div[2]/div/div[1]/div/div/div/input\")\n",
    "son.send_keys(\"London \")"
   ]
  },
  {
   "cell_type": "code",
   "execution_count": 126,
   "id": "1f20ca9b",
   "metadata": {},
   "outputs": [],
   "source": [
    "nit=driver.find_element(By.XPATH,\"/html/body/div[3]/div/div/div[2]/div[2]/div/div/div[4]/div/div[2]/div/div[5]/button\")\n",
    "nit.click()"
   ]
  },
  {
   "cell_type": "code",
   "execution_count": 127,
   "id": "c503ec19",
   "metadata": {},
   "outputs": [],
   "source": [
    "h_name=[]\n",
    "h_dis=[]\n",
    "h_rat=[]\n",
    "h_pri=[]\n",
    "h_rev=[]\n",
    "h_dor=[]\n",
    "h_tol=[]\n",
    "h_fea=[]"
   ]
  },
  {
   "cell_type": "code",
   "execution_count": 128,
   "id": "d5b328fa",
   "metadata": {},
   "outputs": [],
   "source": [
    "nam_tags=driver.find_elements(By.XPATH,\"//div[@class='subtitle body-3']\")\n",
    "for i in nam_tags[0:]:\n",
    "    nam=i.text\n",
    "    h_name.append(nam)"
   ]
  },
  {
   "cell_type": "code",
   "execution_count": 129,
   "id": "48a97675",
   "metadata": {},
   "outputs": [
    {
     "data": {
      "text/plain": [
       "31"
      ]
     },
     "execution_count": 129,
     "metadata": {},
     "output_type": "execute_result"
    }
   ],
   "source": [
    "len(h_name)"
   ]
  },
  {
   "cell_type": "code",
   "execution_count": 130,
   "id": "adda549f",
   "metadata": {},
   "outputs": [],
   "source": [
    "dis_tags=driver.find_elements(By.XPATH,\"//div[@class='subtitle body-3']\")\n",
    "for i in dis_tags[0:]:\n",
    "    dis=i.text\n",
    "    h_dis.append(dis)"
   ]
  },
  {
   "cell_type": "code",
   "execution_count": 131,
   "id": "5cf0333e",
   "metadata": {},
   "outputs": [
    {
     "data": {
      "text/plain": [
       "31"
      ]
     },
     "execution_count": 131,
     "metadata": {},
     "output_type": "execute_result"
    }
   ],
   "source": [
    "len(h_dis)"
   ]
  },
  {
   "cell_type": "code",
   "execution_count": 132,
   "id": "ed0bddcc",
   "metadata": {},
   "outputs": [],
   "source": [
    "rat_tags=driver.find_elements(By.XPATH,\"//div[@class='score orange big']\")\n",
    "for i in rat_tags[0:]:\n",
    "    rat=i.text\n",
    "    h_rat.append(rat)"
   ]
  },
  {
   "cell_type": "code",
   "execution_count": 133,
   "id": "202700a7",
   "metadata": {},
   "outputs": [
    {
     "data": {
      "text/plain": [
       "28"
      ]
     },
     "execution_count": 133,
     "metadata": {},
     "output_type": "execute_result"
    }
   ],
   "source": [
    "len(h_rat)"
   ]
  },
  {
   "cell_type": "code",
   "execution_count": 134,
   "id": "87fb534e",
   "metadata": {},
   "outputs": [],
   "source": [
    "pri_tags=driver.find_elements(By.XPATH,\"//div[@class='price title-5']\")\n",
    "for i in pri_tags[0:]:\n",
    "    pri=i.text\n",
    "    h_pri.append(pri)"
   ]
  },
  {
   "cell_type": "code",
   "execution_count": 135,
   "id": "f6b23532",
   "metadata": {},
   "outputs": [
    {
     "data": {
      "text/plain": [
       "39"
      ]
     },
     "execution_count": 135,
     "metadata": {},
     "output_type": "execute_result"
    }
   ],
   "source": [
    "len(h_pri)"
   ]
  },
  {
   "cell_type": "code",
   "execution_count": 136,
   "id": "13e4a495",
   "metadata": {},
   "outputs": [],
   "source": [
    "dor_tags=driver.find_elements(By.XPATH,\"//div[@class='price title-5']\")\n",
    "for i in dor_tags[0:] :\n",
    "    dor=i.text\n",
    "    h_dor.append(dor)"
   ]
  },
  {
   "cell_type": "code",
   "execution_count": 137,
   "id": "f08d61a5",
   "metadata": {},
   "outputs": [
    {
     "data": {
      "text/plain": [
       "39"
      ]
     },
     "execution_count": 137,
     "metadata": {},
     "output_type": "execute_result"
    }
   ],
   "source": [
    "len(h_dor)"
   ]
  },
  {
   "cell_type": "code",
   "execution_count": 138,
   "id": "7b07f2ab",
   "metadata": {},
   "outputs": [],
   "source": [
    "tol_tags=driver.find_elements(By.XPATH,\"//div[@class='summary orange']\")\n",
    "for i in tol_tags[0:]:\n",
    "    tol=i.text\n",
    "    h_tol.append(tol)"
   ]
  },
  {
   "cell_type": "code",
   "execution_count": 139,
   "id": "5c45dcf7",
   "metadata": {},
   "outputs": [
    {
     "data": {
      "text/plain": [
       "29"
      ]
     },
     "execution_count": 139,
     "metadata": {},
     "output_type": "execute_result"
    }
   ],
   "source": [
    "len(h_tol)"
   ]
  },
  {
   "cell_type": "code",
   "execution_count": 140,
   "id": "a88b8622",
   "metadata": {},
   "outputs": [],
   "source": [
    "fea_tags=driver.find_elements(By.XPATH,\"//div[@class='facilities-label facilities']\")\n",
    "for i in fea_tags[0:]:\n",
    "    fea=i.text\n",
    "    h_fea.append(fea)"
   ]
  },
  {
   "cell_type": "code",
   "execution_count": 141,
   "id": "2692bddc",
   "metadata": {},
   "outputs": [
    {
     "data": {
      "text/plain": [
       "30"
      ]
     },
     "execution_count": 141,
     "metadata": {},
     "output_type": "execute_result"
    }
   ],
   "source": [
    "len(h_fea)"
   ]
  },
  {
   "cell_type": "code",
   "execution_count": 142,
   "id": "f43b0c2a",
   "metadata": {},
   "outputs": [
    {
     "data": {
      "text/html": [
       "<div>\n",
       "<style scoped>\n",
       "    .dataframe tbody tr th:only-of-type {\n",
       "        vertical-align: middle;\n",
       "    }\n",
       "\n",
       "    .dataframe tbody tr th {\n",
       "        vertical-align: top;\n",
       "    }\n",
       "\n",
       "    .dataframe thead th {\n",
       "        text-align: right;\n",
       "    }\n",
       "</style>\n",
       "<table border=\"1\" class=\"dataframe\">\n",
       "  <thead>\n",
       "    <tr style=\"text-align: right;\">\n",
       "      <th></th>\n",
       "      <th>NAME</th>\n",
       "      <th>DISTANCE</th>\n",
       "      <th>RATING</th>\n",
       "      <th>TOTAL REVEIW</th>\n",
       "      <th>PRIVATE PRICE</th>\n",
       "      <th>DORMS PRICE</th>\n",
       "      <th>FEATURES</th>\n",
       "    </tr>\n",
       "  </thead>\n",
       "  <tbody>\n",
       "    <tr>\n",
       "      <th>0</th>\n",
       "      <td>Hostel - 1.8km from city centre</td>\n",
       "      <td>Hostel - 1.8km from city centre</td>\n",
       "      <td>8.9</td>\n",
       "      <td>Very Good</td>\n",
       "      <td>Rs29172.69 Rs23338</td>\n",
       "      <td>Rs29172.69 Rs23338</td>\n",
       "      <td>Free WiFi\\nFollows Covid-19 sanitation guidance</td>\n",
       "    </tr>\n",
       "    <tr>\n",
       "      <th>1</th>\n",
       "      <td>Hostel - 3.6km from city centre Show on Map</td>\n",
       "      <td>Hostel - 3.6km from city centre Show on Map</td>\n",
       "      <td>7.8</td>\n",
       "      <td>Fabulous\\n14623 Total Reviews</td>\n",
       "      <td>Rs4469.49 Rs3576</td>\n",
       "      <td>Rs4469.49 Rs3576</td>\n",
       "      <td>Free WiFi\\nFollows Covid-19 sanitation guidance</td>\n",
       "    </tr>\n",
       "    <tr>\n",
       "      <th>2</th>\n",
       "      <td>Hostel - 1.8km from city centre Show on Map</td>\n",
       "      <td>Hostel - 1.8km from city centre Show on Map</td>\n",
       "      <td>9.4</td>\n",
       "      <td>Very Good\\n11977 Total Reviews</td>\n",
       "      <td>Rs1738.46 Rs1565</td>\n",
       "      <td>Rs1738.46 Rs1565</td>\n",
       "      <td>Free WiFi</td>\n",
       "    </tr>\n",
       "    <tr>\n",
       "      <th>3</th>\n",
       "      <td>Hostel - 5.5km from city centre Show on Map</td>\n",
       "      <td>Hostel - 5.5km from city centre Show on Map</td>\n",
       "      <td>7.4</td>\n",
       "      <td>Superb\\n1809 Total Reviews</td>\n",
       "      <td>Rs15670</td>\n",
       "      <td>Rs15670</td>\n",
       "      <td>Free WiFi\\nFollows Covid-19 sanitation guidance</td>\n",
       "    </tr>\n",
       "    <tr>\n",
       "      <th>4</th>\n",
       "      <td>Hostel - 3km from city centre Show on Map</td>\n",
       "      <td>Hostel - 3km from city centre Show on Map</td>\n",
       "      <td>8.7</td>\n",
       "      <td>Very Good\\n7383 Total Reviews</td>\n",
       "      <td>Rs2886</td>\n",
       "      <td>Rs2886</td>\n",
       "      <td>Free Breakfast</td>\n",
       "    </tr>\n",
       "    <tr>\n",
       "      <th>5</th>\n",
       "      <td>Hostel - 2.3km from city centre Show on Map</td>\n",
       "      <td>Hostel - 2.3km from city centre Show on Map</td>\n",
       "      <td>7.5</td>\n",
       "      <td>Fabulous\\n2575 Total Reviews</td>\n",
       "      <td>Rs9216</td>\n",
       "      <td>Rs9216</td>\n",
       "      <td>Free WiFi</td>\n",
       "    </tr>\n",
       "    <tr>\n",
       "      <th>6</th>\n",
       "      <td>Hostel - 5km from city centre Show on Map</td>\n",
       "      <td>Hostel - 5km from city centre Show on Map</td>\n",
       "      <td>8.0</td>\n",
       "      <td>Very Good\\n6529 Total Reviews</td>\n",
       "      <td>Rs2044</td>\n",
       "      <td>Rs2044</td>\n",
       "      <td>Free WiFi\\nFree Breakfast</td>\n",
       "    </tr>\n",
       "    <tr>\n",
       "      <th>7</th>\n",
       "      <td>Hostel - 6.1km from city centre Show on Map</td>\n",
       "      <td>Hostel - 6.1km from city centre Show on Map</td>\n",
       "      <td>9.1</td>\n",
       "      <td>Fabulous\\n1706 Total Reviews</td>\n",
       "      <td>Rs12800</td>\n",
       "      <td>Rs12800</td>\n",
       "      <td>Free WiFi\\nFollows Covid-19 sanitation guidance</td>\n",
       "    </tr>\n",
       "    <tr>\n",
       "      <th>8</th>\n",
       "      <td>Hostel - 5.4km from city centre Show on Map</td>\n",
       "      <td>Hostel - 5.4km from city centre Show on Map</td>\n",
       "      <td>7.3</td>\n",
       "      <td>Superb\\n681 Total Reviews</td>\n",
       "      <td>Rs11615.21 Rs10454</td>\n",
       "      <td>Rs11615.21 Rs10454</td>\n",
       "      <td>Free WiFi\\nFollows Covid-19 sanitation guidance</td>\n",
       "    </tr>\n",
       "    <tr>\n",
       "      <th>9</th>\n",
       "      <td>Hostel - 1.7km from city centre Show on Map</td>\n",
       "      <td>Hostel - 1.7km from city centre Show on Map</td>\n",
       "      <td>6.7</td>\n",
       "      <td>Very Good\\n4856 Total Reviews</td>\n",
       "      <td>Rs2594.46 Rs2205</td>\n",
       "      <td>Rs2594.46 Rs2205</td>\n",
       "      <td>Free WiFi\\nFollows Covid-19 sanitation guidance</td>\n",
       "    </tr>\n",
       "    <tr>\n",
       "      <th>10</th>\n",
       "      <td>Hostel - 10km from city centre Show on Map</td>\n",
       "      <td>Hostel - 10km from city centre Show on Map</td>\n",
       "      <td>7.3</td>\n",
       "      <td>Good\\n4957 Total Reviews</td>\n",
       "      <td>Rs2296</td>\n",
       "      <td>Rs2296</td>\n",
       "      <td>Free WiFi</td>\n",
       "    </tr>\n",
       "    <tr>\n",
       "      <th>11</th>\n",
       "      <td>Hostel - 5.8km from city centre Show on Map</td>\n",
       "      <td>Hostel - 5.8km from city centre Show on Map</td>\n",
       "      <td>8.0</td>\n",
       "      <td>Very Good\\n1450 Total Reviews</td>\n",
       "      <td>Rs1507</td>\n",
       "      <td>Rs1507</td>\n",
       "      <td>Free WiFi\\nFollows Covid-19 sanitation guidance</td>\n",
       "    </tr>\n",
       "    <tr>\n",
       "      <th>12</th>\n",
       "      <td>Hostel - 4.3km from city centre Show on Map</td>\n",
       "      <td>Hostel - 4.3km from city centre Show on Map</td>\n",
       "      <td>7.1</td>\n",
       "      <td>Fabulous\\n3997 Total Reviews</td>\n",
       "      <td>Rs2949</td>\n",
       "      <td>Rs2949</td>\n",
       "      <td>Free WiFi\\nFollows Covid-19 sanitation guidance</td>\n",
       "    </tr>\n",
       "    <tr>\n",
       "      <th>13</th>\n",
       "      <td>Hostel - 4.2km from city centre Show on Map</td>\n",
       "      <td>Hostel - 4.2km from city centre Show on Map</td>\n",
       "      <td>8.1</td>\n",
       "      <td>Very Good\\n3996 Total Reviews</td>\n",
       "      <td>Rs1341</td>\n",
       "      <td>Rs1341</td>\n",
       "      <td>Free WiFi\\nFollows Covid-19 sanitation guidance</td>\n",
       "    </tr>\n",
       "    <tr>\n",
       "      <th>14</th>\n",
       "      <td>Hostel - 9km from city centre Show on Map</td>\n",
       "      <td>Hostel - 9km from city centre Show on Map</td>\n",
       "      <td>7.7</td>\n",
       "      <td>Fabulous\\n3037 Total Reviews</td>\n",
       "      <td>Rs1595</td>\n",
       "      <td>Rs1595</td>\n",
       "      <td>Free WiFi\\nFollows Covid-19 sanitation guidance</td>\n",
       "    </tr>\n",
       "    <tr>\n",
       "      <th>15</th>\n",
       "      <td>Hostel - 4.4km from city centre Show on Map</td>\n",
       "      <td>Hostel - 4.4km from city centre Show on Map</td>\n",
       "      <td>7.6</td>\n",
       "      <td>Very Good\\n14912 Total Reviews</td>\n",
       "      <td>Rs1883.23 Rs1695</td>\n",
       "      <td>Rs1883.23 Rs1695</td>\n",
       "      <td>Free WiFi\\nFollows Covid-19 sanitation guidance</td>\n",
       "    </tr>\n",
       "    <tr>\n",
       "      <th>16</th>\n",
       "      <td>Hostel - 1.8km from city centre Show on Map</td>\n",
       "      <td>Hostel - 1.8km from city centre Show on Map</td>\n",
       "      <td>8.1</td>\n",
       "      <td>Very Good\\n4207 Total Reviews</td>\n",
       "      <td>Rs2186.26 Rs2077</td>\n",
       "      <td>Rs2186.26 Rs2077</td>\n",
       "      <td>Free WiFi\\nFollows Covid-19 sanitation guidance</td>\n",
       "    </tr>\n",
       "    <tr>\n",
       "      <th>17</th>\n",
       "      <td>Hostel - 7.5km from city centre Show on Map</td>\n",
       "      <td>Hostel - 7.5km from city centre Show on Map</td>\n",
       "      <td>7.7</td>\n",
       "      <td>Fabulous\\n715 Total Reviews</td>\n",
       "      <td>Rs1488</td>\n",
       "      <td>Rs1488</td>\n",
       "      <td>Free WiFi\\nFollows Covid-19 sanitation guidance</td>\n",
       "    </tr>\n",
       "    <tr>\n",
       "      <th>18</th>\n",
       "      <td>Hostel - 3.6km from city centre Show on Map</td>\n",
       "      <td>Hostel - 3.6km from city centre Show on Map</td>\n",
       "      <td>8.9</td>\n",
       "      <td>Very Good\\n4424 Total Reviews</td>\n",
       "      <td>Rs3137</td>\n",
       "      <td>Rs3137</td>\n",
       "      <td>Free WiFi\\nFollows Covid-19 sanitation guidance</td>\n",
       "    </tr>\n",
       "    <tr>\n",
       "      <th>19</th>\n",
       "      <td>Hostel - 11.9km from city centre Show on Map</td>\n",
       "      <td>Hostel - 11.9km from city centre Show on Map</td>\n",
       "      <td>8.3</td>\n",
       "      <td>Fabulous\\n1895 Total Reviews</td>\n",
       "      <td>Rs1771</td>\n",
       "      <td>Rs1771</td>\n",
       "      <td>Free WiFi\\nFree Breakfast</td>\n",
       "    </tr>\n",
       "    <tr>\n",
       "      <th>20</th>\n",
       "      <td>Hostel - 5.5km from city centre Show on Map</td>\n",
       "      <td>Hostel - 5.5km from city centre Show on Map</td>\n",
       "      <td>8.0</td>\n",
       "      <td>Fabulous\\n202 Total Reviews</td>\n",
       "      <td>Rs1847.13 Rs1662</td>\n",
       "      <td>Rs1847.13 Rs1662</td>\n",
       "      <td>Free WiFi\\nFollows Covid-19 sanitation guidance</td>\n",
       "    </tr>\n",
       "    <tr>\n",
       "      <th>21</th>\n",
       "      <td>Hostel - 3.2km from city centre Show on Map</td>\n",
       "      <td>Hostel - 3.2km from city centre Show on Map</td>\n",
       "      <td>8.0</td>\n",
       "      <td>Fabulous\\n4678 Total Reviews</td>\n",
       "      <td>Rs2748</td>\n",
       "      <td>Rs2748</td>\n",
       "      <td>Free WiFi\\nFollows Covid-19 sanitation guidance</td>\n",
       "    </tr>\n",
       "    <tr>\n",
       "      <th>22</th>\n",
       "      <td>Hostel - 4.8km from city centre Show on Map</td>\n",
       "      <td>Hostel - 4.8km from city centre Show on Map</td>\n",
       "      <td>8.0</td>\n",
       "      <td>Fabulous\\n375 Total Reviews</td>\n",
       "      <td>Rs7178</td>\n",
       "      <td>Rs7178</td>\n",
       "      <td>Free WiFi</td>\n",
       "    </tr>\n",
       "    <tr>\n",
       "      <th>23</th>\n",
       "      <td>Hostel - 0.5km from city centre Show on Map</td>\n",
       "      <td>Hostel - 0.5km from city centre Show on Map</td>\n",
       "      <td>7.1</td>\n",
       "      <td>Fabulous\\n6470 Total Reviews</td>\n",
       "      <td>Rs1772</td>\n",
       "      <td>Rs1772</td>\n",
       "      <td>Free WiFi\\nFollows Covid-19 sanitation guidance</td>\n",
       "    </tr>\n",
       "    <tr>\n",
       "      <th>24</th>\n",
       "      <td>Hostel - 4.9km from city centre Show on Map</td>\n",
       "      <td>Hostel - 4.9km from city centre Show on Map</td>\n",
       "      <td>9.0</td>\n",
       "      <td>Very Good\\n3317 Total Reviews</td>\n",
       "      <td>Rs8566</td>\n",
       "      <td>Rs8566</td>\n",
       "      <td>Free WiFi\\nFollows Covid-19 sanitation guidance</td>\n",
       "    </tr>\n",
       "  </tbody>\n",
       "</table>\n",
       "</div>"
      ],
      "text/plain": [
       "                                            NAME  \\\n",
       "0                Hostel - 1.8km from city centre   \n",
       "1    Hostel - 3.6km from city centre Show on Map   \n",
       "2    Hostel - 1.8km from city centre Show on Map   \n",
       "3    Hostel - 5.5km from city centre Show on Map   \n",
       "4      Hostel - 3km from city centre Show on Map   \n",
       "5    Hostel - 2.3km from city centre Show on Map   \n",
       "6      Hostel - 5km from city centre Show on Map   \n",
       "7    Hostel - 6.1km from city centre Show on Map   \n",
       "8    Hostel - 5.4km from city centre Show on Map   \n",
       "9    Hostel - 1.7km from city centre Show on Map   \n",
       "10    Hostel - 10km from city centre Show on Map   \n",
       "11   Hostel - 5.8km from city centre Show on Map   \n",
       "12   Hostel - 4.3km from city centre Show on Map   \n",
       "13   Hostel - 4.2km from city centre Show on Map   \n",
       "14     Hostel - 9km from city centre Show on Map   \n",
       "15   Hostel - 4.4km from city centre Show on Map   \n",
       "16   Hostel - 1.8km from city centre Show on Map   \n",
       "17   Hostel - 7.5km from city centre Show on Map   \n",
       "18   Hostel - 3.6km from city centre Show on Map   \n",
       "19  Hostel - 11.9km from city centre Show on Map   \n",
       "20   Hostel - 5.5km from city centre Show on Map   \n",
       "21   Hostel - 3.2km from city centre Show on Map   \n",
       "22   Hostel - 4.8km from city centre Show on Map   \n",
       "23   Hostel - 0.5km from city centre Show on Map   \n",
       "24   Hostel - 4.9km from city centre Show on Map   \n",
       "\n",
       "                                        DISTANCE RATING  \\\n",
       "0                Hostel - 1.8km from city centre    8.9   \n",
       "1    Hostel - 3.6km from city centre Show on Map    7.8   \n",
       "2    Hostel - 1.8km from city centre Show on Map    9.4   \n",
       "3    Hostel - 5.5km from city centre Show on Map    7.4   \n",
       "4      Hostel - 3km from city centre Show on Map    8.7   \n",
       "5    Hostel - 2.3km from city centre Show on Map    7.5   \n",
       "6      Hostel - 5km from city centre Show on Map    8.0   \n",
       "7    Hostel - 6.1km from city centre Show on Map    9.1   \n",
       "8    Hostel - 5.4km from city centre Show on Map    7.3   \n",
       "9    Hostel - 1.7km from city centre Show on Map    6.7   \n",
       "10    Hostel - 10km from city centre Show on Map    7.3   \n",
       "11   Hostel - 5.8km from city centre Show on Map    8.0   \n",
       "12   Hostel - 4.3km from city centre Show on Map    7.1   \n",
       "13   Hostel - 4.2km from city centre Show on Map    8.1   \n",
       "14     Hostel - 9km from city centre Show on Map    7.7   \n",
       "15   Hostel - 4.4km from city centre Show on Map    7.6   \n",
       "16   Hostel - 1.8km from city centre Show on Map    8.1   \n",
       "17   Hostel - 7.5km from city centre Show on Map    7.7   \n",
       "18   Hostel - 3.6km from city centre Show on Map    8.9   \n",
       "19  Hostel - 11.9km from city centre Show on Map    8.3   \n",
       "20   Hostel - 5.5km from city centre Show on Map    8.0   \n",
       "21   Hostel - 3.2km from city centre Show on Map    8.0   \n",
       "22   Hostel - 4.8km from city centre Show on Map    8.0   \n",
       "23   Hostel - 0.5km from city centre Show on Map    7.1   \n",
       "24   Hostel - 4.9km from city centre Show on Map    9.0   \n",
       "\n",
       "                      TOTAL REVEIW       PRIVATE PRICE         DORMS PRICE  \\\n",
       "0                        Very Good  Rs29172.69 Rs23338  Rs29172.69 Rs23338   \n",
       "1    Fabulous\\n14623 Total Reviews    Rs4469.49 Rs3576    Rs4469.49 Rs3576   \n",
       "2   Very Good\\n11977 Total Reviews    Rs1738.46 Rs1565    Rs1738.46 Rs1565   \n",
       "3       Superb\\n1809 Total Reviews             Rs15670             Rs15670   \n",
       "4    Very Good\\n7383 Total Reviews              Rs2886              Rs2886   \n",
       "5     Fabulous\\n2575 Total Reviews              Rs9216              Rs9216   \n",
       "6    Very Good\\n6529 Total Reviews              Rs2044              Rs2044   \n",
       "7     Fabulous\\n1706 Total Reviews             Rs12800             Rs12800   \n",
       "8        Superb\\n681 Total Reviews  Rs11615.21 Rs10454  Rs11615.21 Rs10454   \n",
       "9    Very Good\\n4856 Total Reviews    Rs2594.46 Rs2205    Rs2594.46 Rs2205   \n",
       "10        Good\\n4957 Total Reviews              Rs2296              Rs2296   \n",
       "11   Very Good\\n1450 Total Reviews              Rs1507              Rs1507   \n",
       "12    Fabulous\\n3997 Total Reviews              Rs2949              Rs2949   \n",
       "13   Very Good\\n3996 Total Reviews              Rs1341              Rs1341   \n",
       "14    Fabulous\\n3037 Total Reviews              Rs1595              Rs1595   \n",
       "15  Very Good\\n14912 Total Reviews    Rs1883.23 Rs1695    Rs1883.23 Rs1695   \n",
       "16   Very Good\\n4207 Total Reviews    Rs2186.26 Rs2077    Rs2186.26 Rs2077   \n",
       "17     Fabulous\\n715 Total Reviews              Rs1488              Rs1488   \n",
       "18   Very Good\\n4424 Total Reviews              Rs3137              Rs3137   \n",
       "19    Fabulous\\n1895 Total Reviews              Rs1771              Rs1771   \n",
       "20     Fabulous\\n202 Total Reviews    Rs1847.13 Rs1662    Rs1847.13 Rs1662   \n",
       "21    Fabulous\\n4678 Total Reviews              Rs2748              Rs2748   \n",
       "22     Fabulous\\n375 Total Reviews              Rs7178              Rs7178   \n",
       "23    Fabulous\\n6470 Total Reviews              Rs1772              Rs1772   \n",
       "24   Very Good\\n3317 Total Reviews              Rs8566              Rs8566   \n",
       "\n",
       "                                           FEATURES  \n",
       "0   Free WiFi\\nFollows Covid-19 sanitation guidance  \n",
       "1   Free WiFi\\nFollows Covid-19 sanitation guidance  \n",
       "2                                         Free WiFi  \n",
       "3   Free WiFi\\nFollows Covid-19 sanitation guidance  \n",
       "4                                    Free Breakfast  \n",
       "5                                         Free WiFi  \n",
       "6                         Free WiFi\\nFree Breakfast  \n",
       "7   Free WiFi\\nFollows Covid-19 sanitation guidance  \n",
       "8   Free WiFi\\nFollows Covid-19 sanitation guidance  \n",
       "9   Free WiFi\\nFollows Covid-19 sanitation guidance  \n",
       "10                                        Free WiFi  \n",
       "11  Free WiFi\\nFollows Covid-19 sanitation guidance  \n",
       "12  Free WiFi\\nFollows Covid-19 sanitation guidance  \n",
       "13  Free WiFi\\nFollows Covid-19 sanitation guidance  \n",
       "14  Free WiFi\\nFollows Covid-19 sanitation guidance  \n",
       "15  Free WiFi\\nFollows Covid-19 sanitation guidance  \n",
       "16  Free WiFi\\nFollows Covid-19 sanitation guidance  \n",
       "17  Free WiFi\\nFollows Covid-19 sanitation guidance  \n",
       "18  Free WiFi\\nFollows Covid-19 sanitation guidance  \n",
       "19                        Free WiFi\\nFree Breakfast  \n",
       "20  Free WiFi\\nFollows Covid-19 sanitation guidance  \n",
       "21  Free WiFi\\nFollows Covid-19 sanitation guidance  \n",
       "22                                        Free WiFi  \n",
       "23  Free WiFi\\nFollows Covid-19 sanitation guidance  \n",
       "24  Free WiFi\\nFollows Covid-19 sanitation guidance  "
      ]
     },
     "execution_count": 142,
     "metadata": {},
     "output_type": "execute_result"
    }
   ],
   "source": [
    "df=pd.DataFrame({\"NAME\":h_name[0:25],\"DISTANCE\":h_dis[0:25],\"RATING\":h_rat[0:25],\"TOTAL REVEIW\":h_tol[0:25],\n",
    "                \"PRIVATE PRICE\":h_pri[0:25],\"DORMS PRICE\":h_dor[0:25],\"FEATURES\":h_fea[0:25]})\n",
    "df"
   ]
  },
  {
   "cell_type": "code",
   "execution_count": null,
   "id": "063719fd",
   "metadata": {},
   "outputs": [],
   "source": []
  },
  {
   "cell_type": "markdown",
   "id": "c8bdf607",
   "metadata": {},
   "source": [
    "# FIFTH QUESTION ANSWER "
   ]
  },
  {
   "cell_type": "code",
   "execution_count": 194,
   "id": "ac500812",
   "metadata": {},
   "outputs": [],
   "source": [
    "import pandas as pd \n",
    "import selenium\n",
    "\n",
    "from bs4 import BeautifulSoup\n",
    "from selenium.common.exceptions import StaleElementReferenceException, NoSuchElementException"
   ]
  },
  {
   "cell_type": "code",
   "execution_count": 195,
   "id": "06230d8f",
   "metadata": {},
   "outputs": [],
   "source": [
    "from selenium import webdriver\n",
    "import warnings\n",
    "warnings.filterwarnings('ignore')\n",
    "from selenium.webdriver.common.by import By\n",
    "import time"
   ]
  },
  {
   "cell_type": "code",
   "execution_count": 196,
   "id": "c48575e3",
   "metadata": {},
   "outputs": [],
   "source": [
    "driver = webdriver.Chrome()"
   ]
  },
  {
   "cell_type": "code",
   "execution_count": 197,
   "id": "92f76c41",
   "metadata": {},
   "outputs": [],
   "source": [
    "driver.get(\"https://www.google.com/maps\")\n"
   ]
  },
  {
   "cell_type": "code",
   "execution_count": 198,
   "id": "90ba31d1",
   "metadata": {},
   "outputs": [],
   "source": [
    "search=driver.find_element(By.XPATH,\"/html/body/div[3]/div[9]/div[3]/div[1]/div[1]/div[1]/div[2]/form/div[2]/div[3]/div/input[1]\")\n",
    "search.send_keys(\"Hyderabad\")"
   ]
  },
  {
   "cell_type": "code",
   "execution_count": 199,
   "id": "11885dc5",
   "metadata": {},
   "outputs": [],
   "source": [
    "kal=driver.find_element(By.XPATH,\"/html/body/div[3]/div[9]/div[3]/div[1]/div[1]/div[1]/div[2]/div[1]/button\")\n",
    "kal.click()"
   ]
  },
  {
   "cell_type": "code",
   "execution_count": 200,
   "id": "41e912a3",
   "metadata": {},
   "outputs": [
    {
     "name": "stdout",
     "output_type": "stream",
     "text": [
      "URL Extracted:  https://www.google.com/maps/place/Hyderabad,+Telangana/@17.412153,78.1278296,10z/data=!3m1!4b1!4m6!3m5!1s0x3bcb99daeaebd2c7:0xae93b78392bafbc2!8m2!3d17.385044!4d78.486671!16zL20vMDljNnc\n",
      "Error:  name 're' is not defined\n"
     ]
    }
   ],
   "source": [
    "try:\n",
    "\n",
    "    url_string = driver.current_url\n",
    "\n",
    "    print(\"URL Extracted: \", url_string)\n",
    "\n",
    "    lat_lng = re.findall(r'@(.*)data',url_string)\n",
    "\n",
    "    if len(lat_lng):\n",
    "\n",
    "        lat_lng_list = lat_lng[0].split(\",\")\n",
    "\n",
    "        if len(lat_lng_list)>=2:\n",
    "\n",
    "            lat = lat_lng_list[0]\n",
    "\n",
    "            lng = lat_lng_list[1]\n",
    "\n",
    "        print(\"Latitude = {}, Longitude = {}\".format(lat, lng))\n",
    "\n",
    "\n",
    "\n",
    "except Exception as e:\n",
    "\n",
    "        print(\"Error: \", str(e))"
   ]
  },
  {
   "cell_type": "code",
   "execution_count": null,
   "id": "f2d12cc0",
   "metadata": {},
   "outputs": [],
   "source": []
  },
  {
   "cell_type": "code",
   "execution_count": 1,
   "id": "5da6347d",
   "metadata": {},
   "outputs": [],
   "source": [
    "import pandas as pd \n",
    "import selenium\n",
    "from bs4 import BeautifulSoup\n",
    "from selenium.common.exceptions import StaleElementReferenceException, NoSuchElementException"
   ]
  },
  {
   "cell_type": "code",
   "execution_count": 2,
   "id": "b909b8be",
   "metadata": {},
   "outputs": [],
   "source": [
    "from selenium import webdriver\n",
    "import warnings\n",
    "warnings.filterwarnings('ignore')\n",
    "from selenium.webdriver.common.by import By\n",
    "import time"
   ]
  },
  {
   "cell_type": "code",
   "execution_count": 3,
   "id": "61a0d4fd",
   "metadata": {},
   "outputs": [],
   "source": [
    "driver = webdriver.Chrome()"
   ]
  },
  {
   "cell_type": "code",
   "execution_count": 4,
   "id": "68bc5b55",
   "metadata": {},
   "outputs": [],
   "source": [
    "driver.get(\"http://www.flipkart.com/\")"
   ]
  },
  {
   "cell_type": "code",
   "execution_count": 5,
   "id": "af8d0995",
   "metadata": {},
   "outputs": [],
   "source": [
    "san=driver.find_element(By.CLASS_NAME,\"_3704LK\")\n",
    "san.send_keys(\"xioami 11i 5g\")"
   ]
  },
  {
   "cell_type": "code",
   "execution_count": 6,
   "id": "b8511e8f",
   "metadata": {},
   "outputs": [],
   "source": [
    "sab=driver.find_element(By.XPATH,\"/html/body/div[1]/div/div[1]/div[1]/div[2]/div[2]/form/div/button\")\n",
    "sab.click()"
   ]
  },
  {
   "cell_type": "code",
   "execution_count": 7,
   "id": "ff6feedc",
   "metadata": {},
   "outputs": [],
   "source": [
    "m_brand=[]\n",
    "m_colour=[]\n",
    "m_ram=[]\n",
    "m_cam=[]\n",
    "m_dis=[]\n",
    "m_bat=[]\n",
    "m_pri=[]\n",
    "m_url=[]"
   ]
  },
  {
   "cell_type": "code",
   "execution_count": 8,
   "id": "cea49e69",
   "metadata": {},
   "outputs": [],
   "source": [
    "brand_tags=driver.find_elements(By.XPATH,\"//div[@class='_4rR01T']\")\n",
    "for i in brand_tags[0:]:\n",
    "    brand=i.text\n",
    "    m_brand.append(brand)"
   ]
  },
  {
   "cell_type": "code",
   "execution_count": 9,
   "id": "8ab3fd00",
   "metadata": {},
   "outputs": [],
   "source": [
    "\n",
    "url=driver.find_elements(By.XPATH,\"//a[@class='_1fQZEK']\")\n",
    "for i in url:\n",
    "    m_url.append(i.get_attribute('href'))"
   ]
  },
  {
   "cell_type": "code",
   "execution_count": 10,
   "id": "ad5f2785",
   "metadata": {},
   "outputs": [
    {
     "data": {
      "text/plain": [
       "19"
      ]
     },
     "execution_count": 10,
     "metadata": {},
     "output_type": "execute_result"
    }
   ],
   "source": [
    "len(m_url)"
   ]
  },
  {
   "cell_type": "code",
   "execution_count": 11,
   "id": "afb926cf",
   "metadata": {},
   "outputs": [],
   "source": [
    "\n",
    "\n",
    "    "
   ]
  },
  {
   "cell_type": "code",
   "execution_count": null,
   "id": "02dc6427",
   "metadata": {},
   "outputs": [],
   "source": []
  }
 ],
 "metadata": {
  "kernelspec": {
   "display_name": "Python 3 (ipykernel)",
   "language": "python",
   "name": "python3"
  },
  "language_info": {
   "codemirror_mode": {
    "name": "ipython",
    "version": 3
   },
   "file_extension": ".py",
   "mimetype": "text/x-python",
   "name": "python",
   "nbconvert_exporter": "python",
   "pygments_lexer": "ipython3",
   "version": "3.9.13"
  }
 },
 "nbformat": 4,
 "nbformat_minor": 5
}
